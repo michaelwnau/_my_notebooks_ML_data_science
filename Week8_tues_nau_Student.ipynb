{
  "cells": [
    {
      "cell_type": "markdown",
      "metadata": {
        "id": "view-in-github",
        "colab_type": "text"
      },
      "source": [
        "<a href=\"https://colab.research.google.com/github/michaelwnau/_ai_academy_notebooks/blob/main/Week8_tues_nau_Student.ipynb\" target=\"_parent\"><img src=\"https://colab.research.google.com/assets/colab-badge.svg\" alt=\"Open In Colab\"/></a>"
      ]
    },
    {
      "cell_type": "markdown",
      "metadata": {
        "id": "T2efc4_LEVRc"
      },
      "source": [
        "# Workshop 8 [Student]\n",
        "\n",
        "This notebook will cover the following topics:\n",
        "\n",
        "1. Numpy Array\n",
        "2. Reading data from CSV\n",
        "3. Statistics\n",
        "4. Indexing\n",
        "5. Copy vs View\n",
        "6. Modifications"
      ]
    },
    {
      "cell_type": "markdown",
      "metadata": {
        "id": "6p6VBg8AEVRd"
      },
      "source": [
        "## 8.1 NUMPY ARRAY (Follow)\n",
        "\n",
        "**Learning Objectives:**\n",
        "\n",
        "1. Understand the numpy module.\n",
        "2. Understand numpy arrays.\n",
        "3. Understand Array creation and basic functions.\n",
        "4. Learn to manipulate arrays"
      ]
    },
    {
      "cell_type": "code",
      "execution_count": null,
      "metadata": {
        "colab": {
          "base_uri": "https://localhost:8080/"
        },
        "id": "W2bKlrf3EVRe",
        "outputId": "044d2978-c4ad-4002-cf8a-9a4705f2f73e"
      },
      "outputs": [
        {
          "output_type": "stream",
          "name": "stdout",
          "text": [
            "[[1 2 3 4 5]\n",
            " [6 7 8 9 0]\n",
            " [5 4 3 2 1]]\n",
            "Type - <class 'numpy.ndarray'>\n",
            "Data Type - int64\n",
            "Size - 15\n",
            "ItemSize - 8\n",
            "Dimensions - 2\n",
            "Shape - (3, 5)\n"
          ]
        }
      ],
      "source": [
        "#https://numpy.org/doc/stable/reference/arrays.dtypes.html\n",
        "\"\"\"\n",
        "Add comments for you own reference\n",
        "\"\"\"\n",
        "\n",
        "import numpy as np\n",
        "x = np.array([\n",
        "              [1,2,3,4,5],\n",
        "              [6,7,8,9,0],\n",
        "              [5,4,3,2,1]\n",
        "            ])\n",
        "print(x)\n",
        "print(\"Type -\",type(x))\n",
        "print(\"Data Type -\",x.dtype)\n",
        "print(\"Size -\",x.size)\n",
        "print(\"ItemSize -\",x.itemsize)\n",
        "print(\"Dimensions -\",x.ndim)\n",
        "print(\"Shape -\",x.shape)"
      ]
    },
    {
      "cell_type": "code",
      "execution_count": null,
      "metadata": {
        "colab": {
          "base_uri": "https://localhost:8080/"
        },
        "id": "_EOlDg6qEVRe",
        "outputId": "a7e6ba0c-547a-4009-e61f-7578c86c0d4c"
      },
      "outputs": [
        {
          "output_type": "stream",
          "name": "stdout",
          "text": [
            "Full:\n",
            " [3 3 3 3 3]\n",
            "Zeros:\n",
            " [[0. 0. 0. 0.]\n",
            " [0. 0. 0. 0.]]\n",
            "Ones:\n",
            " [[1. 1. 1. 1. 1.]\n",
            " [1. 1. 1. 1. 1.]]\n",
            "Range:\n",
            " [1 2 3 4 5 6]\n",
            "LinSpace:\n",
            " [1.  1.8 2.6 3.4 4.2 5. ]\n"
          ]
        }
      ],
      "source": [
        "\"\"\"\n",
        "Add comments for you own reference\n",
        "\"\"\"\n",
        "\n",
        "import numpy as np\n",
        "x = np.full(5,3)\n",
        "print(\"Full:\\n\",x)\n",
        "x = np.zeros((2,4))\n",
        "print(\"Zeros:\\n\",x)\n",
        "x = np.ones((2,5))\n",
        "print(\"Ones:\\n\",x)\n",
        "x = np.arange(1,7)\n",
        "print(\"Range:\\n\",x)\n",
        "x = np.linspace(1,5,6)\n",
        "print(\"LinSpace:\\n\",x)"
      ]
    },
    {
      "cell_type": "code",
      "execution_count": null,
      "metadata": {
        "colab": {
          "base_uri": "https://localhost:8080/"
        },
        "id": "Sab1vjMTEVRf",
        "outputId": "e426af91-8f82-45b1-a8d3-17674ec13bba"
      },
      "outputs": [
        {
          "output_type": "stream",
          "name": "stdout",
          "text": [
            "Array X:\n",
            " [1 2 3 4 5 6 7 8 9] \n",
            "\n",
            "Multiplication:\n",
            " [ 2  4  6  8 10 12 14 16 18] \n",
            "\n",
            "Substraction:\n",
            " [-1  0  1  2  3  4  5  6  7] \n",
            "\n",
            "Array Y:\n",
            " [ 3  4  5  6  7  8  9 10 11] \n",
            "\n",
            "SHAPES - (9,) (9,) \n",
            "\n",
            "Addition:\n",
            " [ 4  6  8 10 12 14 16 18 20] \n",
            "\n",
            "Multiplication:\n",
            " [ 3  8 15 24 35 48 63 80 99] \n",
            "\n"
          ]
        }
      ],
      "source": [
        "\"\"\"\n",
        "Add comments for you own reference\n",
        "\"\"\"\n",
        "\n",
        "import numpy as np\n",
        "x = np.arange(1,10)\n",
        "print(\"Array X:\\n\",x,\"\\n\")\n",
        "print(\"Multiplication:\\n\",x*2,\"\\n\")\n",
        "print(\"Substraction:\\n\",x-2,\"\\n\")\n",
        "y = np.arange(3,12)\n",
        "print(\"Array Y:\\n\",y,\"\\n\")\n",
        "print(\"SHAPES -\",x.shape,y.shape,\"\\n\")\n",
        "print(\"Addition:\\n\",x+y,\"\\n\")\n",
        "print(\"Multiplication:\\n\",x*y,\"\\n\")"
      ]
    },
    {
      "cell_type": "markdown",
      "metadata": {
        "id": "Lmpq-OJKEVRf"
      },
      "source": [
        "**Evaluation:**\n",
        "\n",
        "After running this program, think about and answer these questions:\n",
        "\n",
        "1. What does the arange function do?\n",
        "2. What is the use of 1s and 0s function?\n",
        "3. What will happen if shapes of arrays are not same?\n",
        "4. Try to add more dimentions to the arrays."
      ]
    },
    {
      "cell_type": "markdown",
      "metadata": {
        "id": "yLWtDf7sEVRf"
      },
      "source": [
        "## 8.1 NUMPY ARRAY (Group)\n",
        "\n",
        "Write a program that will do the following:\n",
        "\n",
        "1. Create 3 Arrays:\n",
        "    - X : containing Multiples of 5\n",
        "    - Y : in range of 100 to 150\n",
        "    - Z : containing all n (taken from user) \n",
        "2. Make sure that Shapes of arrays are equal.\n",
        "3. Perform:\n",
        "    - X + Y\n",
        "    - X * Z\n",
        "    - Z - Y\n",
        "    - X + Y + Z"
      ]
    },
    {
      "cell_type": "code",
      "execution_count": null,
      "metadata": {
        "colab": {
          "base_uri": "https://localhost:8080/",
          "height": 252
        },
        "id": "ixNaVomFEVRg",
        "outputId": "744aa527-bd05-4861-91c1-5744ef79e9da"
      },
      "outputs": [
        {
          "name": "stdout",
          "output_type": "stream",
          "text": [
            "Enter range integers for Z: 1, 250\n"
          ]
        },
        {
          "output_type": "error",
          "ename": "TypeError",
          "evalue": "ignored",
          "traceback": [
            "\u001b[0;31m---------------------------------------------------------------------------\u001b[0m",
            "\u001b[0;31mTypeError\u001b[0m                                 Traceback (most recent call last)",
            "\u001b[0;32m<ipython-input-14-d8e6ee1074c4>\u001b[0m in \u001b[0;36m<module>\u001b[0;34m\u001b[0m\n\u001b[1;32m      3\u001b[0m \u001b[0mx\u001b[0m \u001b[0;34m=\u001b[0m \u001b[0mnp\u001b[0m\u001b[0;34m.\u001b[0m\u001b[0marange\u001b[0m\u001b[0;34m(\u001b[0m\u001b[0;36m1\u001b[0m\u001b[0;34m,\u001b[0m\u001b[0;36m151\u001b[0m\u001b[0;34m,\u001b[0m\u001b[0;36m5\u001b[0m\u001b[0;34m)\u001b[0m\u001b[0;34m\u001b[0m\u001b[0;34m\u001b[0m\u001b[0m\n\u001b[1;32m      4\u001b[0m \u001b[0my\u001b[0m \u001b[0;34m=\u001b[0m \u001b[0mnp\u001b[0m\u001b[0;34m.\u001b[0m\u001b[0marange\u001b[0m\u001b[0;34m(\u001b[0m\u001b[0;36m100\u001b[0m\u001b[0;34m,\u001b[0m\u001b[0;36m151\u001b[0m\u001b[0;34m)\u001b[0m\u001b[0;34m\u001b[0m\u001b[0;34m\u001b[0m\u001b[0m\n\u001b[0;32m----> 5\u001b[0;31m \u001b[0mz\u001b[0m \u001b[0;34m=\u001b[0m \u001b[0mnp\u001b[0m\u001b[0;34m.\u001b[0m\u001b[0marange\u001b[0m\u001b[0;34m(\u001b[0m\u001b[0mlist\u001b[0m\u001b[0;34m(\u001b[0m\u001b[0mmap\u001b[0m\u001b[0;34m(\u001b[0m\u001b[0mint\u001b[0m\u001b[0;34m,\u001b[0m \u001b[0minput\u001b[0m\u001b[0;34m(\u001b[0m\u001b[0;34m\"Enter range integers for Z: \"\u001b[0m\u001b[0;34m)\u001b[0m\u001b[0;34m.\u001b[0m\u001b[0msplit\u001b[0m\u001b[0;34m(\u001b[0m\u001b[0;34m\",\"\u001b[0m\u001b[0;34m)\u001b[0m\u001b[0;34m)\u001b[0m\u001b[0;34m)\u001b[0m\u001b[0;34m)\u001b[0m\u001b[0;34m\u001b[0m\u001b[0;34m\u001b[0m\u001b[0m\n\u001b[0m\u001b[1;32m      6\u001b[0m \u001b[0;34m\u001b[0m\u001b[0m\n\u001b[1;32m      7\u001b[0m \u001b[0;34m\u001b[0m\u001b[0m\n",
            "\u001b[0;31mTypeError\u001b[0m: unsupported operand type(s) for -: 'list' and 'int'"
          ]
        }
      ],
      "source": [
        "# import numpy as np\n",
        "\n",
        "# x = np.arange(1,151,5)\n",
        "# y = np.arange(100,151)\n",
        "# z = np.arange(list(map(int, input(\"Enter range integers for Z: \").split(\",\"))))\n",
        "\n",
        "\n",
        "# print(x)\n",
        "# print(y)\n",
        "# print(z)\n",
        "\n",
        "# # check shapes are equal\n",
        "# if x.shape == y.shape == z.shape:\n",
        "#     print(\"Shapes of arrays are equal.\")\n",
        "# else:\n",
        "#     print(\"Shapes of arrays are not equal.\")\n",
        "\n",
        "# # perform operations\n",
        "# print(\"X + Y = \", x + y)\n",
        "# print(\"X * Z = \", x*y)\n",
        "# print(\"Z - Y = \", z - y)\n",
        "# print(\"X + Y + Z = \", x + y + z)"
      ]
    },
    {
      "cell_type": "code",
      "source": [
        "# import numpy as np\n",
        "\n",
        "# x = np.arange(1, 151, 5)\n",
        "# y = np.arange(100, 151)\n",
        "# z = np.array(list(map(int, input(\"Enter two comma-separated integers for Z: \").split(\",\"))))\n",
        "\n",
        "# # check length of z and add 1s to make it the same length as x\n",
        "# if len(z) != len(x):\n",
        "#     num_to_add = len(x) - len(z)\n",
        "#     z = np.concatenate((z, np.ones(num_to_add, dtype=int)))\n",
        "\n",
        "# print(x)\n",
        "# print(y)\n",
        "# print(z)\n",
        "\n",
        "# # check shapes are equal\n",
        "# if x.shape == y.shape == z.shape:\n",
        "#     print(\"Shapes of arrays are equal.\")\n",
        "# else:\n",
        "#     print(\"Shapes of arrays are not equal.\")\n",
        "\n",
        "# # perform operations\n",
        "# print(\"X + Y = \", x + y)\n",
        "# print(\"X * Z = \", x * z)\n",
        "# print(\"Z - Y = \", z - y)\n",
        "# print(\"X + Y + Z = \", x + y + z)\n",
        "# #"
      ],
      "metadata": {
        "colab": {
          "base_uri": "https://localhost:8080/",
          "height": 391
        },
        "id": "gaL2G6yHtHk_",
        "outputId": "44ea084d-94c1-43ee-80fc-1cc79c42fbff"
      },
      "execution_count": null,
      "outputs": [
        {
          "output_type": "stream",
          "name": "stdout",
          "text": [
            "Enter two comma-separated integers for Z: 1, 50\n",
            "[  1   6  11  16  21  26  31  36  41  46  51  56  61  66  71  76  81  86\n",
            "  91  96 101 106 111 116 121 126 131 136 141 146]\n",
            "[100 101 102 103 104 105 106 107 108 109 110 111 112 113 114 115 116 117\n",
            " 118 119 120 121 122 123 124 125 126 127 128 129 130 131 132 133 134 135\n",
            " 136 137 138 139 140 141 142 143 144 145 146 147 148 149 150]\n",
            "[ 1 50  1  1  1  1  1  1  1  1  1  1  1  1  1  1  1  1  1  1  1  1  1  1\n",
            "  1  1  1  1  1  1]\n",
            "Shapes of arrays are not equal.\n"
          ]
        },
        {
          "output_type": "error",
          "ename": "ValueError",
          "evalue": "ignored",
          "traceback": [
            "\u001b[0;31m---------------------------------------------------------------------------\u001b[0m",
            "\u001b[0;31mValueError\u001b[0m                                Traceback (most recent call last)",
            "\u001b[0;32m<ipython-input-15-43a0373eff6f>\u001b[0m in \u001b[0;36m<module>\u001b[0;34m\u001b[0m\n\u001b[1;32m     21\u001b[0m \u001b[0;34m\u001b[0m\u001b[0m\n\u001b[1;32m     22\u001b[0m \u001b[0;31m# perform operations\u001b[0m\u001b[0;34m\u001b[0m\u001b[0;34m\u001b[0m\u001b[0;34m\u001b[0m\u001b[0m\n\u001b[0;32m---> 23\u001b[0;31m \u001b[0mprint\u001b[0m\u001b[0;34m(\u001b[0m\u001b[0;34m\"X + Y = \"\u001b[0m\u001b[0;34m,\u001b[0m \u001b[0mx\u001b[0m \u001b[0;34m+\u001b[0m \u001b[0my\u001b[0m\u001b[0;34m)\u001b[0m\u001b[0;34m\u001b[0m\u001b[0;34m\u001b[0m\u001b[0m\n\u001b[0m\u001b[1;32m     24\u001b[0m \u001b[0mprint\u001b[0m\u001b[0;34m(\u001b[0m\u001b[0;34m\"X * Z = \"\u001b[0m\u001b[0;34m,\u001b[0m \u001b[0mx\u001b[0m \u001b[0;34m*\u001b[0m \u001b[0mz\u001b[0m\u001b[0;34m)\u001b[0m\u001b[0;34m\u001b[0m\u001b[0;34m\u001b[0m\u001b[0m\n\u001b[1;32m     25\u001b[0m \u001b[0mprint\u001b[0m\u001b[0;34m(\u001b[0m\u001b[0;34m\"Z - Y = \"\u001b[0m\u001b[0;34m,\u001b[0m \u001b[0mz\u001b[0m \u001b[0;34m-\u001b[0m \u001b[0my\u001b[0m\u001b[0;34m)\u001b[0m\u001b[0;34m\u001b[0m\u001b[0;34m\u001b[0m\u001b[0m\n",
            "\u001b[0;31mValueError\u001b[0m: operands could not be broadcast together with shapes (30,) (51,) "
          ]
        }
      ]
    },
    {
      "cell_type": "code",
      "source": [
        "# Procrustean version\n",
        "\"\"\"\n",
        "In this version, arrays Y and Z are truncated to equal the length of X.\n",
        "\"\"\"\n",
        "\n",
        "import numpy as np\n",
        "\n",
        "x = np.arange(1, 151, 5)\n",
        "y = np.arange(100, 151)\n",
        "z = np.array(list(map(int, input(\"Enter two comma-separated integers for Z: \").split(\",\"))))\n",
        "\n",
        "# check length of z and add 1s to make it the same length as x\n",
        "if len(z) != len(x):\n",
        "    num_to_add = len(x) - len(z)\n",
        "    z = np.concatenate((z, np.ones(num_to_add, dtype=int)))\n",
        "\n",
        "# truncate y and z if they are not the same length as x or z\n",
        "if len(y) != len(x) or len(z) != len(x):\n",
        "    min_length = min(len(x), len(z))\n",
        "    x = x[:min_length]\n",
        "    y = y[:min_length]\n",
        "    z = z[:min_length]\n",
        "\n",
        "print(f'This is array X: {x}')\n",
        "print(f'This is array Y: {y}')\n",
        "print(f'This is array Z: {z}')\n",
        "\n",
        "# check shapes are equal\n",
        "if x.shape == y.shape == z.shape:\n",
        "    print(\"Shapes of arrays are equal.\")\n",
        "else:\n",
        "    print(\"Shapes of arrays are not equal.\")\n",
        "\n",
        "# perform operations\n",
        "print(\"X + Y = \", x + y)\n",
        "print(\"X * Z = \", x * z)\n",
        "print(\"Z - Y = \", z - y)\n",
        "print(\"X + Y + Z = \", x + y + z)\n"
      ],
      "metadata": {
        "colab": {
          "base_uri": "https://localhost:8080/"
        },
        "id": "vUdJOwIZmH8s",
        "outputId": "bac3dc7e-5053-426e-9843-17cc46527e8e"
      },
      "execution_count": null,
      "outputs": [
        {
          "output_type": "stream",
          "name": "stdout",
          "text": [
            "Enter two comma-separated integers for Z: 1, 3\n",
            "This is array X: [  1   6  11  16  21  26  31  36  41  46  51  56  61  66  71  76  81  86\n",
            "  91  96 101 106 111 116 121 126 131 136 141 146]\n",
            "This is array Y: [100 101 102 103 104 105 106 107 108 109 110 111 112 113 114 115 116 117\n",
            " 118 119 120 121 122 123 124 125 126 127 128 129]\n",
            "This is array Z: [1 3 1 1 1 1 1 1 1 1 1 1 1 1 1 1 1 1 1 1 1 1 1 1 1 1 1 1 1 1]\n",
            "Shapes of arrays are equal.\n",
            "X + Y =  [101 107 113 119 125 131 137 143 149 155 161 167 173 179 185 191 197 203\n",
            " 209 215 221 227 233 239 245 251 257 263 269 275]\n",
            "X * Z =  [  1  18  11  16  21  26  31  36  41  46  51  56  61  66  71  76  81  86\n",
            "  91  96 101 106 111 116 121 126 131 136 141 146]\n",
            "Z - Y =  [ -99  -98 -101 -102 -103 -104 -105 -106 -107 -108 -109 -110 -111 -112\n",
            " -113 -114 -115 -116 -117 -118 -119 -120 -121 -122 -123 -124 -125 -126\n",
            " -127 -128]\n",
            "X + Y + Z =  [102 110 114 120 126 132 138 144 150 156 162 168 174 180 186 192 198 204\n",
            " 210 216 222 228 234 240 246 252 258 264 270 276]\n"
          ]
        }
      ]
    },
    {
      "cell_type": "markdown",
      "metadata": {
        "id": "kgBJO54AEVRg"
      },
      "source": [
        "## 8.2 READING CSV (Follow)\n",
        "\n",
        "**Learning Objectives:**\n",
        "\n",
        "1. Understand how to read CSV into arrays.\n",
        "2. Understand the data type of csv files.\n",
        "3. Learn to manipulate CSV data."
      ]
    },
    {
      "cell_type": "code",
      "execution_count": null,
      "metadata": {
        "colab": {
          "base_uri": "https://localhost:8080/"
        },
        "id": "eLjsCS0fEVRg",
        "outputId": "59a17360-0bb3-457a-9169-f9cde0da923a"
      },
      "outputs": [
        {
          "output_type": "stream",
          "name": "stdout",
          "text": [
            "[[53 28 85 13 57 72 46 31 73 32]\n",
            " [50 90 87 98 82 35 86 30  2 43]\n",
            " [74 53 77  1 69 97 76 21 75  3]\n",
            " [61 67  7 21  6 55 63 42 77  6]\n",
            " [58 82 77  7 68 93 41 75 77 19]\n",
            " [59 55 52 63 12 74 11  7 84 40]\n",
            " [12 11 46 30 85 46 73 79 31 35]\n",
            " [77 20 56 32 21 83 30 32 83 24]\n",
            " [24 80 21 79 72 18 16 44 51 61]\n",
            " [63 64 95 29 69 52 81 64 92 65]\n",
            " [40  9 25 88 61 86 93 77 74 73]\n",
            " [81 58 13 30 41 41 50 44 90  1]\n",
            " [87 37 73 14 10 11 21 84 68 22]\n",
            " [33  6 82 37 92 32 83  1 58 79]\n",
            " [61 53 64 77 19 56 44 31 78 93]\n",
            " [51 34 46 54 13 72 48 65 19 83]\n",
            " [33 41 58 45 41 66 22 17 40 59]\n",
            " [37 38 10  3 89 14 12 22  1  3]\n",
            " [96 69 80 85  6 12 34 69 80 59]\n",
            " [67 90 93 69 73 89 47 98 73 57]\n",
            " [66 97  7 18 39 84  4 26 21 81]\n",
            " [20 66 56 59 66 53  2 64 73 12]\n",
            " [89  8 26 29 49 82 39 22 31 33]\n",
            " [49 76 11 30 28 21 18 57 95 69]\n",
            " [92 81 85 26 21  7 58 48 47 56]\n",
            " [37 80 41 91 59 28 85  6 68 74]\n",
            " [26 90 31 28 23 45 18 23 67 53]\n",
            " [83 17 30 50 92 23 76  7 33 67]\n",
            " [69 20 46 89 42 30 67 36 26 49]\n",
            " [83 61 82  6 30 22 34 75 64 78]\n",
            " [86 18 80 32 77 54  2 17 75 35]\n",
            " [56 57 47 68 23 99 66 53 15  8]\n",
            " [10 78 79 97 79 83  6 23 16 33]\n",
            " [31 48 35 99 54 65 92 56  1 40]\n",
            " [21 93 18 64 46 32 16 95 61 88]\n",
            " [59 59 29 45 40 29 10 60 42 83]\n",
            " [10 68 53 37 63 99 32 71 83 59]\n",
            " [85  4 59 58 62 51 91 86 74 35]\n",
            " [75 44 87 54 31 44 51 36 51 45]\n",
            " [93 23  5  1 14 66 17 29 26 31]\n",
            " [42  8 78 74 99  5  3  3 48 13]\n",
            " [61 65 30 96 27 72 62 73 87 82]\n",
            " [55 28 43  4 17 10 77 91 92 74]\n",
            " [11 77 85 57 62  8 75 44 17 94]\n",
            " [10 32 91 27 81  4  1 78 59 65]\n",
            " [69 19  3 29 38 32 60 63 21 72]\n",
            " [95 98 88 77 50  8  2 32 59 91]\n",
            " [76 98 58 81 22 66 22 97 63 38]\n",
            " [21 68 76 13 35 51 36 78 11 57]\n",
            " [80  4 53 53 83  2 40 10  9  5]\n",
            " [45 99 25 94 38 80 22 15 59 67]\n",
            " [22 43 29 21 47 69 24 76 59 23]\n",
            " [45 91 88 49 15 61 16 68 66  4]\n",
            " [34 14 15 78 22 55 23 68 39 40]\n",
            " [62 71 33 69 65 66 46 24 80 87]\n",
            " [13 61 84 52 12 74  7 86 19  7]\n",
            " [76 42 87  1 16 23 69 51  3 47]\n",
            " [ 4 21  4  6 90 34 96 42 93 53]\n",
            " [55  3 51  3 68  3 62 26 62 11]\n",
            " [83 21 47 29 39 10 65 95  4 85]\n",
            " [17  8 24 88 35 17 45 62  2 15]\n",
            " [49 19 20 36  3  5  4 47 66 68]\n",
            " [54 59 83 59 53 98 83 53 48 25]\n",
            " [72 90 78  9 84 22  5 41 99 38]\n",
            " [61  2 67 61 43 70 88  6 63 55]\n",
            " [41  5 12 74 89 65 81 97 66 13]\n",
            " [31 62 63 28 78 10 13  5 66 87]\n",
            " [88  7 70 33 87 79 93 66 89 98]\n",
            " [56 30 87  2 16 25 82 24 35 55]\n",
            " [68 60 70 46 41 67 87 66 13  7]\n",
            " [26 69  9 85 20 51 66  7 81 10]\n",
            " [38 93 20 95 83 63 38 69 29 87]\n",
            " [17 54 33 42 88 60 18  3 75 88]\n",
            " [25 52 42 83 61 12 98 86 59 35]\n",
            " [ 5 57 90 74  4 54 64 71 65 47]\n",
            " [ 8 19 40 50 20 45 46 57 17 93]\n",
            " [72 37 19 39 83  6 68 95 10 57]\n",
            " [89 48 87 88 62 11 26 64 22 64]\n",
            " [ 5 32 66 59 76 14 25 20 36 52]\n",
            " [95 29 55 26  7 11 84 88 70 55]\n",
            " [97 90 69 73 28 13 68 41 12 64]\n",
            " [83 30 23 46 69 97 99 27 23 12]\n",
            " [62 14 75 79 77 45 63 52 10 26]\n",
            " [37 54 11 97 52 83 14 27  4 17]\n",
            " [42 47 83 43 20 77 66 15  6 78]\n",
            " [34 81 63 94 19 32 29 84 18 38]\n",
            " [21 67 72 99 99 47  4 13 87 79]\n",
            " [ 1 68 60 45 67  8 19 53 97 20]\n",
            " [90 63 18 61 79 36 50 33  3 59]\n",
            " [50 76  6 64 23 20 89 82 76 49]\n",
            " [59 70 25 94 67  2 87 65 53 62]\n",
            " [61 24 41 97 70 72 40 33 30 73]\n",
            " [65 12 24  9 48 85 79 47  5  6]\n",
            " [25 91 69 82  9 69 96 56 82 84]\n",
            " [37 84 19 77 39 85 85 31 42 87]\n",
            " [ 6 62 11 67  9 16 34 79 47 46]\n",
            " [46  4 22 20 44 61 59 86 93 76]\n",
            " [85 65 65 71 34 21 72 57 20 14]\n",
            " [90 44 25 22  6 16 50 31 88 19]\n",
            " [58 70 75 42 25 58 51 67 33 19]]\n"
          ]
        }
      ],
      "source": [
        "\"\"\"\n",
        "Add comments for you own reference\n",
        "\"\"\"\n",
        "\n",
        "import numpy as np\n",
        "\n",
        "data = np.loadtxt(\"test.csv\",delimiter=\",\", dtype=int)\n",
        "print(data)"
      ]
    },
    {
      "cell_type": "code",
      "execution_count": null,
      "metadata": {
        "colab": {
          "base_uri": "https://localhost:8080/"
        },
        "id": "kQ8pRg5hEVRh",
        "outputId": "aec79668-c568-421d-bb4a-4af03fd80827"
      },
      "outputs": [
        {
          "output_type": "stream",
          "name": "stdout",
          "text": [
            "Type - <class 'numpy.ndarray'>\n",
            "Data Type - int64\n",
            "Size - 1000\n",
            "ItemSize - 8\n",
            "Dimensions - 2\n",
            "Shape - (100, 10)\n"
          ]
        }
      ],
      "source": [
        "\"\"\"\n",
        "Add comments for you own reference\n",
        "\"\"\"\n",
        "\n",
        "print(\"Type -\",type(data))\n",
        "print(\"Data Type -\",data.dtype)\n",
        "print(\"Size -\",data.size)\n",
        "print(\"ItemSize -\",data.itemsize)\n",
        "print(\"Dimensions -\",data.ndim)\n",
        "print(\"Shape -\",data.shape)"
      ]
    },
    {
      "cell_type": "code",
      "source": [
        "from google.colab import drive\n",
        "drive.mount('/content/drive')"
      ],
      "metadata": {
        "colab": {
          "base_uri": "https://localhost:8080/"
        },
        "id": "wfWffQqpIktS",
        "outputId": "14861fd6-1f4e-437e-c2d6-28710b0c3524"
      },
      "execution_count": null,
      "outputs": [
        {
          "output_type": "stream",
          "name": "stdout",
          "text": [
            "Drive already mounted at /content/drive; to attempt to forcibly remount, call drive.mount(\"/content/drive\", force_remount=True).\n"
          ]
        }
      ]
    },
    {
      "cell_type": "markdown",
      "metadata": {
        "id": "Np-eC00xEVRh"
      },
      "source": [
        "**Evaluation:**\n",
        "\n",
        "After running this program, think about and answer these questions:\n",
        "\n",
        "1. What does astype() function do?\n",
        "2. Search for alternate methods of loading.\n",
        "3. What is the use of delimiter parameter?"
      ]
    },
    {
      "cell_type": "markdown",
      "metadata": {
        "id": "QYae197NEVRh"
      },
      "source": [
        "## 8.2 READING CSV (Group)\n",
        "\n",
        "Write a program that will do the following:\n",
        "\n",
        "1. Read csv file 'test.csv'\n",
        "2. Perform basic operations on 'test.csv'\n",
        "    - Multiply each value by 2\n",
        "    - Subtract each value by 50\n",
        "3. Create an array X with same shape and random numbers\n",
        "4. Add X to data\n",
        "   "
      ]
    },
    {
      "cell_type": "code",
      "execution_count": null,
      "metadata": {
        "id": "u5KZFklwEVRh"
      },
      "outputs": [],
      "source": [
        "import numpy as np\n",
        "\n",
        "data = np.loadtxt(\"test.csv\", delimiter=\",\", dtype=int)\n",
        "\n",
        "\n"
      ]
    },
    {
      "cell_type": "code",
      "source": [
        "import numpy as np\n",
        "import pandas as pd\n",
        "\n",
        "# read csv file\n",
        "df = pd.read_csv('test.csv')\n",
        "\n",
        "# perform basic operations on data\n",
        "df = df * 2 - 50\n",
        "\n",
        "# create array X with same shape and random numbers\n",
        "X = np.random.rand(*df.shape)\n",
        "\n",
        "# add X to data\n",
        "df = df + X\n",
        "\n",
        "# print final data\n",
        "print(df)\n"
      ],
      "metadata": {
        "colab": {
          "base_uri": "https://localhost:8080/"
        },
        "id": "AWDYRgz4LJDW",
        "outputId": "906f784f-9ef1-473e-950c-4269b59ec632"
      },
      "execution_count": null,
      "outputs": [
        {
          "output_type": "stream",
          "name": "stdout",
          "text": [
            "            53          28          85          13          57          72  \\\n",
            "0    50.317563  130.259289  124.418719  146.800680  114.834183   20.443990   \n",
            "1    98.190131   56.001218  104.064518  -47.949623   88.112782  144.630702   \n",
            "2    72.381567   84.455727  -35.484346   -7.871819  -37.214315   60.865576   \n",
            "3    66.321886  114.990098  104.539408  -35.757399   86.759261  136.102552   \n",
            "4    68.133375   60.766398   54.903671   76.603277  -25.947973   98.171020   \n",
            "..         ...         ...         ...         ...         ...         ...   \n",
            "94  -37.027135   74.938041  -27.534586   84.014876  -31.219041  -17.166393   \n",
            "95   42.219290  -41.728134   -5.683995   -9.895224   38.299418   72.204506   \n",
            "96  120.764126   80.287125   80.761089   92.630110   18.192607   -7.000112   \n",
            "97  130.708644   38.750781    0.210035   -5.934159  -37.508414  -17.952328   \n",
            "98   66.973729   90.157198  100.230621   34.212112    0.233473   66.053854   \n",
            "\n",
            "            46          31          73          32  \n",
            "0   122.072552   10.675557  -45.087914   36.547370  \n",
            "1   102.357951   -7.625482  100.273312  -43.103815  \n",
            "2    76.228033   34.216522  104.450671  -37.248924  \n",
            "3    32.418269  100.167636  104.466900  -11.544307  \n",
            "4   -27.661854  -35.086327  118.488435   30.087481  \n",
            "..         ...         ...         ...         ...  \n",
            "94   18.601108  108.628128   44.378072   42.813519  \n",
            "95   68.135431  122.045470  136.640808  102.424056  \n",
            "96   94.721768   64.940030   -9.187071  -21.244634  \n",
            "97   50.981921   12.792428  126.325703  -11.475060  \n",
            "98   52.196949   84.667177   16.903146  -11.844513  \n",
            "\n",
            "[99 rows x 10 columns]\n"
          ]
        }
      ]
    },
    {
      "cell_type": "markdown",
      "metadata": {
        "id": "cF8x7ROZEVRi"
      },
      "source": [
        "## 8.3 STATISTICS (Follow)\n",
        "\n",
        "**Learning Objectives:**\n",
        "\n",
        "1. Learn to perform statistical functions on Arrays.\n",
        "2. Understand how arrays provide statistical analysis.\n",
        "3. Understand how to perform statistical analysis of different dimensions of an array."
      ]
    },
    {
      "cell_type": "code",
      "execution_count": null,
      "metadata": {
        "colab": {
          "base_uri": "https://localhost:8080/"
        },
        "id": "61H-xswmEVRi",
        "outputId": "644014b1-bfcc-482a-f69f-271fb1f5c1fc"
      },
      "outputs": [
        {
          "output_type": "stream",
          "name": "stdout",
          "text": [
            "Mean -\n",
            "49.305\n",
            "Median -\n",
            "51.0\n",
            "Sum -\n",
            "490\n",
            "Standard Deviation -\n",
            "28.376398203436604\n",
            "Variance -\n",
            "805.2199750000001\n"
          ]
        }
      ],
      "source": [
        "\"\"\"\n",
        "Add comments for you own reference\n",
        "\"\"\"\n",
        "\n",
        "import numpy as np\n",
        "\n",
        "data = np.loadtxt(\"test.csv\",delimiter=\",\", dtype=int)\n",
        "\n",
        "print(\"Mean -\")\n",
        "print(data.mean())\n",
        "print(\"Median -\")\n",
        "print(np.median(data))\n",
        "print(\"Sum -\")\n",
        "print(np.sum(data[0]))\n",
        "print(\"Standard Deviation -\")\n",
        "print(np.std(data))\n",
        "print(\"Variance -\")\n",
        "print(np.var(data))"
      ]
    },
    {
      "cell_type": "code",
      "execution_count": null,
      "metadata": {
        "colab": {
          "base_uri": "https://localhost:8080/"
        },
        "id": "5Uq3FGJ8EVRi",
        "outputId": "7719240a-c360-4ae0-ef46-47c48945baea"
      },
      "outputs": [
        {
          "output_type": "stream",
          "name": "stdout",
          "text": [
            "Mean by Rows-\n",
            "[51.82 49.84 50.13 51.28 47.67 45.82 48.37 49.49 49.85 48.78]\n",
            "Mean by Column-\n",
            "[49.  60.3 54.6 40.5 59.7 45.7 44.8 45.8 46.6 67.4 62.6 44.9 42.7 50.3\n",
            " 57.6 48.5 42.2 22.9 59.  75.6 44.3 47.1 40.8 45.4 52.1 56.9 40.4 47.8\n",
            " 47.4 53.5 47.6 49.2 50.4 52.1 53.4 45.6 57.5 60.5 51.8 30.5 37.3 65.5\n",
            " 49.1 53.  44.8 40.6 60.  62.1 44.6 33.9 54.4 41.3 50.3 38.8 60.3 41.5\n",
            " 41.5 44.3 34.4 47.8 31.3 31.7 61.5 53.8 51.6 54.3 44.3 71.  41.2 52.5\n",
            " 42.4 61.5 47.8 55.3 53.1 39.5 48.6 56.1 38.5 52.  55.5 50.9 50.3 39.6\n",
            " 47.7 49.2 58.8 43.8 49.2 53.5 58.4 54.1 38.  66.3 58.6 37.7 51.1 50.4\n",
            " 39.1 49.8]\n"
          ]
        }
      ],
      "source": [
        "#https://railsware.com/blog/python-for-machine-learning-pandas-axis-explained/#:~:text=%E2%80%9Caxis%200%E2%80%9D%20represents%20rows%20and,it%20goes%20along%20rows%20direction.\n",
        "\"\"\"\n",
        "Add comments for you own reference\n",
        "\"\"\"\n",
        "\n",
        "print(\"Mean by Rows-\")\n",
        "print(data.mean(axis=0))\n",
        "print(\"Mean by Column-\")\n",
        "print(data.mean(axis=1))"
      ]
    },
    {
      "cell_type": "markdown",
      "metadata": {
        "id": "-xEysq-_EVRi"
      },
      "source": [
        "**Evaluation:**\n",
        "\n",
        "After running this program, think about and answer these questions:\n",
        "\n",
        "1. What other functions are readily available?\n",
        "2. What does axis parameter do?\n",
        "3. How will different functions react to changes in dimensions of the array?"
      ]
    },
    {
      "cell_type": "markdown",
      "metadata": {
        "id": "kbbhR8p-EVRi"
      },
      "source": [
        "## 8.3 STATISTICS (Group)\n",
        "\n",
        "Write a program that will do the following:\n",
        "\n",
        "1. Get a number n from User (10-30)\n",
        "2. Print the statistic information for every nth row of the 'test.csv'\n",
        "    - Mean\n",
        "    - Median\n",
        "    - Sum\n",
        "    - SD\n",
        "    - Variance\n"
      ]
    },
    {
      "cell_type": "code",
      "execution_count": null,
      "metadata": {
        "id": "02joSdImEVRi",
        "colab": {
          "base_uri": "https://localhost:8080/"
        },
        "outputId": "df389e61-24d5-4709-ee69-f369c965cece"
      },
      "outputs": [
        {
          "output_type": "stream",
          "name": "stdout",
          "text": [
            "Enter a number between 10 and 30: 20\n",
            "Statistics for Row 20:\n",
            "Mean: 44.3\n",
            "Median: 32.5\n",
            "Sum: 443\n",
            "Standard Deviation: 32.83915346046545\n",
            "Variance: 1078.4099999999999\n",
            "\n",
            "Statistics for Row 40:\n",
            "Mean: 37.3\n",
            "Median: 27.5\n",
            "Sum: 373\n",
            "Standard Deviation: 34.339627254820336\n",
            "Variance: 1179.2099999999998\n",
            "\n",
            "Statistics for Row 60:\n",
            "Mean: 31.3\n",
            "Median: 20.5\n",
            "Sum: 313\n",
            "Standard Deviation: 25.47174905655283\n",
            "Variance: 648.81\n",
            "\n",
            "Statistics for Row 80:\n",
            "Mean: 55.5\n",
            "Median: 66.0\n",
            "Sum: 555\n",
            "Standard Deviation: 28.800173610587837\n",
            "Variance: 829.45\n",
            "\n"
          ]
        }
      ],
      "source": [
        "import numpy as np\n",
        "import pandas as pd\n",
        "\n",
        "# read csv file\n",
        "df = pd.read_csv('test.csv')\n",
        "\n",
        "# get input from user for n\n",
        "n = int(input(\"Enter a number between 10 and 30: \"))\n",
        "\n",
        "# check if n is within range\n",
        "if n < 10 or n > 30:\n",
        "    print(\"Error: n is not within range.\")\n",
        "else:\n",
        "    # print statistics for every nth row\n",
        "    for i in range(n-1, len(df), n):\n",
        "        row = df.iloc[i]\n",
        "        print(f\"Statistics for Row {i+1}:\")\n",
        "        print(f\"Mean: {np.mean(row)}\")\n",
        "        print(f\"Median: {np.median(row)}\")\n",
        "        print(f\"Sum: {np.sum(row)}\")\n",
        "        print(f\"Standard Deviation: {np.std(row)}\")\n",
        "        print(f\"Variance: {np.var(row)}\")\n",
        "        print()\n",
        "\n"
      ]
    },
    {
      "cell_type": "markdown",
      "metadata": {
        "id": "iOglCuE7EVRi"
      },
      "source": [
        "## 8.4 INDEXING (Follow)\n",
        "\n",
        "**Learning Objectives:**\n",
        "\n",
        "1. Understand how Indexing in arrays works.\n",
        "2. Understand how slicing in arrays works.\n",
        "3. Learn to extract relevant information from numpy array."
      ]
    },
    {
      "cell_type": "code",
      "execution_count": null,
      "metadata": {
        "colab": {
          "base_uri": "https://localhost:8080/"
        },
        "id": "dWFXp626EVRj",
        "outputId": "41a0a5bc-4941-4b18-9199-234c30fb17f4"
      },
      "outputs": [
        {
          "output_type": "stream",
          "name": "stdout",
          "text": [
            "Item at index (20,4):\n",
            " 39 \n",
            "\n"
          ]
        }
      ],
      "source": [
        "\"\"\"\n",
        "Add comments for you own reference\n",
        "\"\"\"\n",
        "\n",
        "import numpy as np\n",
        "\n",
        "data = np.loadtxt(\"test.csv\",delimiter=\",\", dtype=int)\n",
        "\n",
        "print('Item at index (20,4):\\n',data[20,4],'\\n')"
      ]
    },
    {
      "cell_type": "code",
      "execution_count": null,
      "metadata": {
        "colab": {
          "base_uri": "https://localhost:8080/"
        },
        "id": "_jbHJungEVRj",
        "outputId": "a8e35492-e6c6-4b02-e8f0-c30c6c6e8495"
      },
      "outputs": [
        {
          "output_type": "stream",
          "name": "stdout",
          "text": [
            "Slice of rows 20 - 24:\n",
            " [[66 97  7 18 39 84  4 26 21 81]\n",
            " [20 66 56 59 66 53  2 64 73 12]\n",
            " [89  8 26 29 49 82 39 22 31 33]\n",
            " [49 76 11 30 28 21 18 57 95 69]\n",
            " [92 81 85 26 21  7 58 48 47 56]] \n",
            "\n",
            "Specific rows (multiples of 10):\n",
            " [[53 28 85 13 57 72 46 31 73 32]\n",
            " [40  9 25 88 61 86 93 77 74 73]\n",
            " [66 97  7 18 39 84  4 26 21 81]\n",
            " [86 18 80 32 77 54  2 17 75 35]\n",
            " [42  8 78 74 99  5  3  3 48 13]\n",
            " [45 99 25 94 38 80 22 15 59 67]\n",
            " [17  8 24 88 35 17 45 62  2 15]\n",
            " [26 69  9 85 20 51 66  7 81 10]\n",
            " [97 90 69 73 28 13 68 41 12 64]\n",
            " [59 70 25 94 67  2 87 65 53 62]] \n",
            "\n",
            "Specific rows (multiples of 10):\n",
            " [[53 28 85 13 57 72 46 31 73 32]\n",
            " [40  9 25 88 61 86 93 77 74 73]\n",
            " [66 97  7 18 39 84  4 26 21 81]\n",
            " [86 18 80 32 77 54  2 17 75 35]\n",
            " [42  8 78 74 99  5  3  3 48 13]\n",
            " [45 99 25 94 38 80 22 15 59 67]\n",
            " [17  8 24 88 35 17 45 62  2 15]\n",
            " [26 69  9 85 20 51 66  7 81 10]\n",
            " [97 90 69 73 28 13 68 41 12 64]\n",
            " [59 70 25 94 67  2 87 65 53 62]] \n",
            "\n"
          ]
        }
      ],
      "source": [
        "\"\"\"\n",
        "Add comments for you own reference\n",
        "\"\"\"\n",
        "\n",
        "print('Slice of rows 20 - 24:\\n',data[20:25],'\\n')\n",
        "\n",
        "print('Specific rows (multiples of 10):\\n',data[[i for i in range(0,100,10)]],'\\n')\n",
        "\n",
        "print('Specific rows (multiples of 10):\\n',data[0:100:10],'\\n')"
      ]
    },
    {
      "cell_type": "code",
      "execution_count": null,
      "metadata": {
        "colab": {
          "base_uri": "https://localhost:8080/"
        },
        "id": "2Qo5vAMUEVRj",
        "outputId": "5e20e25e-cb28-4e3d-cac5-8eb08b7f5a3d"
      },
      "outputs": [
        {
          "output_type": "stream",
          "name": "stdout",
          "text": [
            "Slice of columns 5 - 7:\n",
            " [[72 46 31]\n",
            " [35 86 30]\n",
            " [97 76 21]\n",
            " [55 63 42]\n",
            " [93 41 75]\n",
            " [74 11  7]\n",
            " [46 73 79]\n",
            " [83 30 32]\n",
            " [18 16 44]\n",
            " [52 81 64]\n",
            " [86 93 77]\n",
            " [41 50 44]\n",
            " [11 21 84]\n",
            " [32 83  1]\n",
            " [56 44 31]\n",
            " [72 48 65]\n",
            " [66 22 17]\n",
            " [14 12 22]\n",
            " [12 34 69]\n",
            " [89 47 98]\n",
            " [84  4 26]\n",
            " [53  2 64]\n",
            " [82 39 22]\n",
            " [21 18 57]\n",
            " [ 7 58 48]\n",
            " [28 85  6]\n",
            " [45 18 23]\n",
            " [23 76  7]\n",
            " [30 67 36]\n",
            " [22 34 75]\n",
            " [54  2 17]\n",
            " [99 66 53]\n",
            " [83  6 23]\n",
            " [65 92 56]\n",
            " [32 16 95]\n",
            " [29 10 60]\n",
            " [99 32 71]\n",
            " [51 91 86]\n",
            " [44 51 36]\n",
            " [66 17 29]\n",
            " [ 5  3  3]\n",
            " [72 62 73]\n",
            " [10 77 91]\n",
            " [ 8 75 44]\n",
            " [ 4  1 78]\n",
            " [32 60 63]\n",
            " [ 8  2 32]\n",
            " [66 22 97]\n",
            " [51 36 78]\n",
            " [ 2 40 10]\n",
            " [80 22 15]\n",
            " [69 24 76]\n",
            " [61 16 68]\n",
            " [55 23 68]\n",
            " [66 46 24]\n",
            " [74  7 86]\n",
            " [23 69 51]\n",
            " [34 96 42]\n",
            " [ 3 62 26]\n",
            " [10 65 95]\n",
            " [17 45 62]\n",
            " [ 5  4 47]\n",
            " [98 83 53]\n",
            " [22  5 41]\n",
            " [70 88  6]\n",
            " [65 81 97]\n",
            " [10 13  5]\n",
            " [79 93 66]\n",
            " [25 82 24]\n",
            " [67 87 66]\n",
            " [51 66  7]\n",
            " [63 38 69]\n",
            " [60 18  3]\n",
            " [12 98 86]\n",
            " [54 64 71]\n",
            " [45 46 57]\n",
            " [ 6 68 95]\n",
            " [11 26 64]\n",
            " [14 25 20]\n",
            " [11 84 88]\n",
            " [13 68 41]\n",
            " [97 99 27]\n",
            " [45 63 52]\n",
            " [83 14 27]\n",
            " [77 66 15]\n",
            " [32 29 84]\n",
            " [47  4 13]\n",
            " [ 8 19 53]\n",
            " [36 50 33]\n",
            " [20 89 82]\n",
            " [ 2 87 65]\n",
            " [72 40 33]\n",
            " [85 79 47]\n",
            " [69 96 56]\n",
            " [85 85 31]\n",
            " [16 34 79]\n",
            " [61 59 86]\n",
            " [21 72 57]\n",
            " [16 50 31]\n",
            " [58 51 67]] \n",
            "\n",
            "Specific columns (multiples of 2):\n",
            " [[53 85 57 46 73]\n",
            " [50 87 82 86  2]\n",
            " [74 77 69 76 75]\n",
            " [61  7  6 63 77]\n",
            " [58 77 68 41 77]\n",
            " [59 52 12 11 84]\n",
            " [12 46 85 73 31]\n",
            " [77 56 21 30 83]\n",
            " [24 21 72 16 51]\n",
            " [63 95 69 81 92]\n",
            " [40 25 61 93 74]\n",
            " [81 13 41 50 90]\n",
            " [87 73 10 21 68]\n",
            " [33 82 92 83 58]\n",
            " [61 64 19 44 78]\n",
            " [51 46 13 48 19]\n",
            " [33 58 41 22 40]\n",
            " [37 10 89 12  1]\n",
            " [96 80  6 34 80]\n",
            " [67 93 73 47 73]\n",
            " [66  7 39  4 21]\n",
            " [20 56 66  2 73]\n",
            " [89 26 49 39 31]\n",
            " [49 11 28 18 95]\n",
            " [92 85 21 58 47]\n",
            " [37 41 59 85 68]\n",
            " [26 31 23 18 67]\n",
            " [83 30 92 76 33]\n",
            " [69 46 42 67 26]\n",
            " [83 82 30 34 64]\n",
            " [86 80 77  2 75]\n",
            " [56 47 23 66 15]\n",
            " [10 79 79  6 16]\n",
            " [31 35 54 92  1]\n",
            " [21 18 46 16 61]\n",
            " [59 29 40 10 42]\n",
            " [10 53 63 32 83]\n",
            " [85 59 62 91 74]\n",
            " [75 87 31 51 51]\n",
            " [93  5 14 17 26]\n",
            " [42 78 99  3 48]\n",
            " [61 30 27 62 87]\n",
            " [55 43 17 77 92]\n",
            " [11 85 62 75 17]\n",
            " [10 91 81  1 59]\n",
            " [69  3 38 60 21]\n",
            " [95 88 50  2 59]\n",
            " [76 58 22 22 63]\n",
            " [21 76 35 36 11]\n",
            " [80 53 83 40  9]\n",
            " [45 25 38 22 59]\n",
            " [22 29 47 24 59]\n",
            " [45 88 15 16 66]\n",
            " [34 15 22 23 39]\n",
            " [62 33 65 46 80]\n",
            " [13 84 12  7 19]\n",
            " [76 87 16 69  3]\n",
            " [ 4  4 90 96 93]\n",
            " [55 51 68 62 62]\n",
            " [83 47 39 65  4]\n",
            " [17 24 35 45  2]\n",
            " [49 20  3  4 66]\n",
            " [54 83 53 83 48]\n",
            " [72 78 84  5 99]\n",
            " [61 67 43 88 63]\n",
            " [41 12 89 81 66]\n",
            " [31 63 78 13 66]\n",
            " [88 70 87 93 89]\n",
            " [56 87 16 82 35]\n",
            " [68 70 41 87 13]\n",
            " [26  9 20 66 81]\n",
            " [38 20 83 38 29]\n",
            " [17 33 88 18 75]\n",
            " [25 42 61 98 59]\n",
            " [ 5 90  4 64 65]\n",
            " [ 8 40 20 46 17]\n",
            " [72 19 83 68 10]\n",
            " [89 87 62 26 22]\n",
            " [ 5 66 76 25 36]\n",
            " [95 55  7 84 70]\n",
            " [97 69 28 68 12]\n",
            " [83 23 69 99 23]\n",
            " [62 75 77 63 10]\n",
            " [37 11 52 14  4]\n",
            " [42 83 20 66  6]\n",
            " [34 63 19 29 18]\n",
            " [21 72 99  4 87]\n",
            " [ 1 60 67 19 97]\n",
            " [90 18 79 50  3]\n",
            " [50  6 23 89 76]\n",
            " [59 25 67 87 53]\n",
            " [61 41 70 40 30]\n",
            " [65 24 48 79  5]\n",
            " [25 69  9 96 82]\n",
            " [37 19 39 85 42]\n",
            " [ 6 11  9 34 47]\n",
            " [46 22 44 59 93]\n",
            " [85 65 34 72 20]\n",
            " [90 25  6 50 88]\n",
            " [58 75 25 51 33]] \n",
            "\n"
          ]
        }
      ],
      "source": [
        "\"\"\"\n",
        "Add comments for you own reference\n",
        "\"\"\"\n",
        "\n",
        "print('Slice of columns 5 - 7:\\n',data[:,5:8],'\\n')\n",
        "print('Specific columns (multiples of 2):\\n',data[:,[i for i in range(0,10,2)]],'\\n')"
      ]
    },
    {
      "cell_type": "code",
      "execution_count": null,
      "metadata": {
        "colab": {
          "base_uri": "https://localhost:8080/"
        },
        "id": "H10iq6g-EVRj",
        "outputId": "90bc6726-0f84-4ae2-c6fa-21557f8c1252"
      },
      "outputs": [
        {
          "output_type": "stream",
          "name": "stdout",
          "text": [
            "Slice of rows 20-24 & columns 5 - 7:\n",
            " [[84  4 26]\n",
            " [53  2 64]\n",
            " [82 39 22]\n",
            " [21 18 57]\n",
            " [ 7 58 48]] \n",
            "\n"
          ]
        }
      ],
      "source": [
        "\"\"\"\n",
        "Add comments for you own reference\n",
        "\"\"\"\n",
        "\n",
        "print('Slice of rows 20-24 & columns 5 - 7:\\n',data[20:25,5:8],'\\n')"
      ]
    },
    {
      "cell_type": "markdown",
      "metadata": {
        "id": "ujh8ae-iEVRj"
      },
      "source": [
        "**Evaluation:**\n",
        "\n",
        "After running this program, think about and answer these questions:\n",
        "\n",
        "1. What is the use case for slicing and indexing?\n",
        "2. Try to manipulate the array by slicing differently."
      ]
    },
    {
      "cell_type": "markdown",
      "metadata": {
        "id": "HMdYZyAgEVRj"
      },
      "source": [
        "## 8.4 INDEXING (Group)\n",
        "\n",
        "Write a program that will do the following:\n",
        "\n",
        "1. Use 'test.csv' \n",
        "2. Get a row and column number from the user and display the value at the index\n",
        "3. Get a range of rows and columns from the user and display all rows in column range and all columns in row range and also all data in row and column range\n",
        "4. Add rows 10-15 with rows 50-55 and display output"
      ]
    },
    {
      "cell_type": "code",
      "execution_count": null,
      "metadata": {
        "id": "7bfA9NpnEVRj",
        "colab": {
          "base_uri": "https://localhost:8080/",
          "height": 397
        },
        "outputId": "ccf41cb5-ee19-473c-a892-42a5e4ba1fde"
      },
      "outputs": [
        {
          "output_type": "error",
          "ename": "KeyboardInterrupt",
          "evalue": "ignored",
          "traceback": [
            "\u001b[0;31m---------------------------------------------------------------------------\u001b[0m",
            "\u001b[0;31mKeyboardInterrupt\u001b[0m                         Traceback (most recent call last)",
            "\u001b[0;32m<ipython-input-12-174b603c6e4a>\u001b[0m in \u001b[0;36m<module>\u001b[0;34m\u001b[0m\n\u001b[1;32m      6\u001b[0m \u001b[0;34m\u001b[0m\u001b[0m\n\u001b[1;32m      7\u001b[0m \u001b[0;31m# get input from user for row and column numbers or ranges\u001b[0m\u001b[0;34m\u001b[0m\u001b[0;34m\u001b[0m\u001b[0;34m\u001b[0m\u001b[0m\n\u001b[0;32m----> 8\u001b[0;31m \u001b[0mrow_input\u001b[0m \u001b[0;34m=\u001b[0m \u001b[0minput\u001b[0m\u001b[0;34m(\u001b[0m\u001b[0;34m\"Enter a row number or range (e.g. 1, 2-5): \"\u001b[0m\u001b[0;34m)\u001b[0m\u001b[0;34m\u001b[0m\u001b[0;34m\u001b[0m\u001b[0m\n\u001b[0m\u001b[1;32m      9\u001b[0m \u001b[0mcol_input\u001b[0m \u001b[0;34m=\u001b[0m \u001b[0minput\u001b[0m\u001b[0;34m(\u001b[0m\u001b[0;34m\"Enter a column number or range (e.g. 1, 2-5): \"\u001b[0m\u001b[0;34m)\u001b[0m\u001b[0;34m\u001b[0m\u001b[0;34m\u001b[0m\u001b[0m\n\u001b[1;32m     10\u001b[0m \u001b[0;34m\u001b[0m\u001b[0m\n",
            "\u001b[0;32m/usr/local/lib/python3.8/dist-packages/ipykernel/kernelbase.py\u001b[0m in \u001b[0;36mraw_input\u001b[0;34m(self, prompt)\u001b[0m\n\u001b[1;32m    858\u001b[0m                 \u001b[0;34m\"raw_input was called, but this frontend does not support input requests.\"\u001b[0m\u001b[0;34m\u001b[0m\u001b[0;34m\u001b[0m\u001b[0m\n\u001b[1;32m    859\u001b[0m             )\n\u001b[0;32m--> 860\u001b[0;31m         return self._input_request(str(prompt),\n\u001b[0m\u001b[1;32m    861\u001b[0m             \u001b[0mself\u001b[0m\u001b[0;34m.\u001b[0m\u001b[0m_parent_ident\u001b[0m\u001b[0;34m,\u001b[0m\u001b[0;34m\u001b[0m\u001b[0;34m\u001b[0m\u001b[0m\n\u001b[1;32m    862\u001b[0m             \u001b[0mself\u001b[0m\u001b[0;34m.\u001b[0m\u001b[0m_parent_header\u001b[0m\u001b[0;34m,\u001b[0m\u001b[0;34m\u001b[0m\u001b[0;34m\u001b[0m\u001b[0m\n",
            "\u001b[0;32m/usr/local/lib/python3.8/dist-packages/ipykernel/kernelbase.py\u001b[0m in \u001b[0;36m_input_request\u001b[0;34m(self, prompt, ident, parent, password)\u001b[0m\n\u001b[1;32m    902\u001b[0m             \u001b[0;32mexcept\u001b[0m \u001b[0mKeyboardInterrupt\u001b[0m\u001b[0;34m:\u001b[0m\u001b[0;34m\u001b[0m\u001b[0;34m\u001b[0m\u001b[0m\n\u001b[1;32m    903\u001b[0m                 \u001b[0;31m# re-raise KeyboardInterrupt, to truncate traceback\u001b[0m\u001b[0;34m\u001b[0m\u001b[0;34m\u001b[0m\u001b[0;34m\u001b[0m\u001b[0m\n\u001b[0;32m--> 904\u001b[0;31m                 \u001b[0;32mraise\u001b[0m \u001b[0mKeyboardInterrupt\u001b[0m\u001b[0;34m(\u001b[0m\u001b[0;34m\"Interrupted by user\"\u001b[0m\u001b[0;34m)\u001b[0m \u001b[0;32mfrom\u001b[0m \u001b[0;32mNone\u001b[0m\u001b[0;34m\u001b[0m\u001b[0;34m\u001b[0m\u001b[0m\n\u001b[0m\u001b[1;32m    905\u001b[0m             \u001b[0;32mexcept\u001b[0m \u001b[0mException\u001b[0m \u001b[0;32mas\u001b[0m \u001b[0me\u001b[0m\u001b[0;34m:\u001b[0m\u001b[0;34m\u001b[0m\u001b[0;34m\u001b[0m\u001b[0m\n\u001b[1;32m    906\u001b[0m                 \u001b[0mself\u001b[0m\u001b[0;34m.\u001b[0m\u001b[0mlog\u001b[0m\u001b[0;34m.\u001b[0m\u001b[0mwarning\u001b[0m\u001b[0;34m(\u001b[0m\u001b[0;34m\"Invalid Message:\"\u001b[0m\u001b[0;34m,\u001b[0m \u001b[0mexc_info\u001b[0m\u001b[0;34m=\u001b[0m\u001b[0;32mTrue\u001b[0m\u001b[0;34m)\u001b[0m\u001b[0;34m\u001b[0m\u001b[0;34m\u001b[0m\u001b[0m\n",
            "\u001b[0;31mKeyboardInterrupt\u001b[0m: Interrupted by user"
          ]
        }
      ],
      "source": [
        "import numpy as np\n",
        "import pandas as pd\n",
        "\n",
        "# read csv file\n",
        "df = pd.read_csv('test.csv')\n",
        "\n",
        "# get input from user for row and column numbers or ranges\n",
        "row_input = input(\"Enter a row number or range (e.g. 1, 2-5): \")\n",
        "col_input = input(\"Enter a column number or range (e.g. 1, 2-5): \")\n",
        "\n",
        "# function to get rows or columns within a range\n",
        "def get_range(input_str):\n",
        "    if '-' in input_str:\n",
        "        start, end = input_str.split('-')\n",
        "        return slice(int(start)-1, int(end))\n",
        "    else:\n",
        "        return int(input_str)-1\n",
        "\n",
        "# display value at index\n",
        "row_idx = get_range(row_input)\n",
        "col_idx = get_range(col_input)\n",
        "print(f\"Value at ({row_input}, {col_input}): {df.iloc[row_idx, col_idx]}\")\n",
        "\n",
        "# display rows and columns within range\n",
        "row_range = get_range(row_input)\n",
        "col_range = get_range(col_input)\n",
        "if isinstance(row_range, int):\n",
        "    print(f\"All values in Row {row_range+1} and Columns {col_input}:\")\n",
        "    print(df.iloc[row_range, col_range])\n",
        "else:\n",
        "    print(f\"All values in Rows {row_input} and Columns {col_input}:\")\n",
        "    print(df.iloc[row_range, col_range])\n",
        "    print()\n",
        "\n",
        "    print(f\"All values in Rows {row_input} and Columns {col_range}:\")\n",
        "    print(df.iloc[row_range, :, col_range])\n",
        "    print()\n",
        "\n",
        "# add rows 10-15 with rows 50-55 and display output\n",
        "df_add = df.iloc[10:16, :] + df.iloc[50:56, :]\n",
        "print(\"Result of adding Rows 10-15 with Rows 50-55:\")\n",
        "print(df_add)\n",
        "\n"
      ]
    },
    {
      "cell_type": "code",
      "execution_count": null,
      "metadata": {
        "id": "rBoNCWApEVRj"
      },
      "outputs": [],
      "source": [
        "\n"
      ]
    },
    {
      "cell_type": "code",
      "execution_count": null,
      "metadata": {
        "id": "qr0tudXxEVRj"
      },
      "outputs": [],
      "source": [
        "\n"
      ]
    },
    {
      "cell_type": "code",
      "execution_count": null,
      "metadata": {
        "id": "Ruusdjv7EVRj"
      },
      "outputs": [],
      "source": [
        "\n"
      ]
    },
    {
      "cell_type": "code",
      "execution_count": null,
      "metadata": {
        "id": "tkbAtumMEVRk"
      },
      "outputs": [],
      "source": [
        "\n"
      ]
    },
    {
      "cell_type": "markdown",
      "metadata": {
        "id": "ysdnVuYlEVRk"
      },
      "source": [
        "## 8.5 COPY VS VIEW (Follow)\n",
        "\n",
        "**Learning Objectives:**\n",
        "\n",
        "1. Understand the difference between a copy and a view.\n",
        "2. Understand how the original array is affected when deling with views.\n",
        "3. Understand how the original array is affected when deling with copies.\n",
        "4. Learn to manipulate data using copies and views"
      ]
    },
    {
      "cell_type": "code",
      "execution_count": null,
      "metadata": {
        "id": "32P8daIiEVRk",
        "colab": {
          "base_uri": "https://localhost:8080/"
        },
        "outputId": "24395c35-b6ae-4357-fbcc-5b70fcc931d1"
      },
      "outputs": [
        {
          "output_type": "stream",
          "name": "stdout",
          "text": [
            "Original Before -\n",
            "[1 2 3 4 5]\n",
            "Original for view -\n",
            "[9 2 3 4 5]\n",
            "View -\n",
            "[9 2 3 4 5]\n",
            "Original for copy -\n",
            "[9 2 3 4 5]\n",
            "Copy -\n",
            "[9 8 3 4 5]\n"
          ]
        }
      ],
      "source": [
        "\"\"\"\n",
        "Add comments for you own reference\n",
        "\"\"\"\n",
        "\n",
        "arr = np.array([1,2,3,4,5])\n",
        "print(\"Original Before -\")\n",
        "print(arr)\n",
        "x = arr.view()\n",
        "x[0] = 9\n",
        "print(\"Original for view -\")\n",
        "print(arr)\n",
        "print(\"View -\")\n",
        "print(x)\n",
        "y = arr.copy()\n",
        "y[1] = 8\n",
        "print(\"Original for copy -\")\n",
        "print(arr)\n",
        "print(\"Copy -\")\n",
        "print(y)"
      ]
    },
    {
      "cell_type": "code",
      "execution_count": null,
      "metadata": {
        "id": "Ew_mJXMsEVRk",
        "colab": {
          "base_uri": "https://localhost:8080/"
        },
        "outputId": "c46b2126-4efd-4ffd-cf1e-3bd36d540b55"
      },
      "outputs": [
        {
          "output_type": "stream",
          "name": "stdout",
          "text": [
            "Original Before -\n",
            "[[59 55 52 63 12 74 11  7 84 40]\n",
            " [12 11 46 30 85 46 73 79 31 35]\n",
            " [77 20 56 32 21 83 30 32 83 24]\n",
            " [24 80 21 79 72 18 16 44 51 61]\n",
            " [63 64 95 29 69 52 81 64 92 65]]\n",
            "Original for view -\n",
            "[[ 9  9  9  9  9  9  9  9  9  9]\n",
            " [12 11 46 30 85 46 73 79 31 35]\n",
            " [77 20 56 32 21 83 30 32 83 24]\n",
            " [24 80 21 79 72 18 16 44 51 61]\n",
            " [63 64 95 29 69 52 81 64 92 65]]\n",
            "View -\n",
            "[[ 9  9  9  9  9  9  9  9  9  9]\n",
            " [12 11 46 30 85 46 73 79 31 35]\n",
            " [77 20 56 32 21 83 30 32 83 24]\n",
            " [24 80 21 79 72 18 16 44 51 61]\n",
            " [63 64 95 29 69 52 81 64 92 65]]\n",
            "Original for copy -\n",
            "[[ 9  9  9  9  9  9  9  9  9  9]\n",
            " [12 11 46 30 85 46 73 79 31 35]\n",
            " [77 20 56 32 21 83 30 32 83 24]\n",
            " [24 80 21 79 72 18 16 44 51 61]\n",
            " [63 64 95 29 69 52 81 64 92 65]]\n",
            "Copy -\n",
            "[[ 9  9  9  9  9  9  9  9  9  9]\n",
            " [ 8  8  8  8  8  8  8  8  8  8]\n",
            " [77 20 56 32 21 83 30 32 83 24]\n",
            " [24 80 21 79 72 18 16 44 51 61]\n",
            " [63 64 95 29 69 52 81 64 92 65]]\n"
          ]
        }
      ],
      "source": [
        "\"\"\"\n",
        "Add comments for you own reference\n",
        "\"\"\"\n",
        "\n",
        "data = np.loadtxt(\"test.csv\",delimiter=\",\", dtype=int)\n",
        "data = data[5:10]\n",
        "\n",
        "print(\"Original Before -\")\n",
        "print(data)\n",
        "x = data.view()\n",
        "x[0] = 9\n",
        "print(\"Original for view -\")\n",
        "print(data)\n",
        "print(\"View -\")\n",
        "print(x)\n",
        "y = data.copy()\n",
        "y[1] = 8\n",
        "print(\"Original for copy -\")\n",
        "print(data)\n",
        "print(\"Copy -\")\n",
        "print(y)"
      ]
    },
    {
      "cell_type": "markdown",
      "metadata": {
        "id": "Vqqu_1A8EVRk"
      },
      "source": [
        "**Evaluation:**\n",
        "\n",
        "After running this program, think about and answer these questions:\n",
        "\n",
        "1. What does the copy() function do?\n",
        "2. What does the view() function do?\n",
        "3. How is the original array affected by manipulating views / copies?\n",
        "4. What is the best use case for views?\n",
        "5. What is the best use case for copies?"
      ]
    },
    {
      "cell_type": "markdown",
      "metadata": {
        "id": "DT2bx46_EVRk"
      },
      "source": [
        "## 8.5 COPY VS VIEW (Group)\n",
        "\n",
        "Write a program that will do the following:\n",
        "\n",
        "1. Read 'test.csv' \n",
        "2. Make a copy and a view of the data\n",
        "3. Convert even rows of view to all 5\n",
        "4. Convert odd rows of copy to all 10\n",
        "5. Add Copy to view\n",
        "6. Display all three Arrays"
      ]
    },
    {
      "cell_type": "code",
      "execution_count": null,
      "metadata": {
        "id": "s8xjV5e9EVRl",
        "colab": {
          "base_uri": "https://localhost:8080/"
        },
        "outputId": "faa89729-a04c-406a-9929-a10302ab78e2"
      },
      "outputs": [
        {
          "output_type": "stream",
          "name": "stdout",
          "text": [
            "Copy:\n",
            "    53  28  85  13  57  72  46  31  73  32\n",
            "0   10  10  10  10  10  10  10  10  10  10\n",
            "1   74  53  77   1  69  97  76  21  75   3\n",
            "2   10  10  10  10  10  10  10  10  10  10\n",
            "3   58  82  77   7  68  93  41  75  77  19\n",
            "4   10  10  10  10  10  10  10  10  10  10\n",
            "..  ..  ..  ..  ..  ..  ..  ..  ..  ..  ..\n",
            "94  10  10  10  10  10  10  10  10  10  10\n",
            "95  46   4  22  20  44  61  59  86  93  76\n",
            "96  10  10  10  10  10  10  10  10  10  10\n",
            "97  90  44  25  22   6  16  50  31  88  19\n",
            "98  10  10  10  10  10  10  10  10  10  10\n",
            "\n",
            "[99 rows x 10 columns]\n",
            "\n",
            "View:\n",
            "    53  28  85  13  57  72  46  31  73  32\n",
            "0   50  90  87  98  82  35  86  30   2  43\n",
            "1    5   5   5   5   5   5   5   5   5   5\n",
            "2   61  67   7  21   6  55  63  42  77   6\n",
            "3    5   5   5   5   5   5   5   5   5   5\n",
            "4   59  55  52  63  12  74  11   7  84  40\n",
            "..  ..  ..  ..  ..  ..  ..  ..  ..  ..  ..\n",
            "94   6  62  11  67   9  16  34  79  47  46\n",
            "95   5   5   5   5   5   5   5   5   5   5\n",
            "96  85  65  65  71  34  21  72  57  20  14\n",
            "97   5   5   5   5   5   5   5   5   5   5\n",
            "98  58  70  75  42  25  58  51  67  33  19\n",
            "\n",
            "[99 rows x 10 columns]\n",
            "\n",
            "Copy + View:\n",
            "    53   28  85   13  57   72  46  31  73  32\n",
            "0   60  100  97  108  92   45  96  40  12  53\n",
            "1   79   58  82    6  74  102  81  26  80   8\n",
            "2   71   77  17   31  16   65  73  52  87  16\n",
            "3   63   87  82   12  73   98  46  80  82  24\n",
            "4   69   65  62   73  22   84  21  17  94  50\n",
            "..  ..  ...  ..  ...  ..  ...  ..  ..  ..  ..\n",
            "94  16   72  21   77  19   26  44  89  57  56\n",
            "95  51    9  27   25  49   66  64  91  98  81\n",
            "96  95   75  75   81  44   31  82  67  30  24\n",
            "97  95   49  30   27  11   21  55  36  93  24\n",
            "98  68   80  85   52  35   68  61  77  43  29\n",
            "\n",
            "[99 rows x 10 columns]\n"
          ]
        }
      ],
      "source": [
        "import numpy as np\n",
        "import pandas as pd\n",
        "\n",
        "# read csv file\n",
        "df = pd.read_csv('test.csv')\n",
        "\n",
        "# make a copy and a view of the data\n",
        "df_copy = df.copy()\n",
        "df_view = df.copy()\n",
        "\n",
        "# convert even rows of view to all 5\n",
        "df_view.iloc[1::2] = 5\n",
        "\n",
        "# convert odd rows of copy to all 10\n",
        "df_copy.iloc[::2] = 10\n",
        "\n",
        "# add copy to view\n",
        "df_add = df_view + df_copy\n",
        "\n",
        "# display all three arrays\n",
        "print(\"Copy:\")\n",
        "print(df_copy)\n",
        "print()\n",
        "\n",
        "print(\"View:\")\n",
        "print(df_view)\n",
        "print()\n",
        "\n",
        "print(\"Copy + View:\")\n",
        "print(df_add)\n",
        "\n"
      ]
    },
    {
      "cell_type": "code",
      "execution_count": null,
      "metadata": {
        "id": "qXbXJuoPEVRl"
      },
      "outputs": [],
      "source": [
        "\n"
      ]
    },
    {
      "cell_type": "code",
      "execution_count": null,
      "metadata": {
        "id": "z99uwygbEVRl"
      },
      "outputs": [],
      "source": [
        "\n"
      ]
    },
    {
      "cell_type": "markdown",
      "metadata": {
        "id": "0gkBUsOuEVRl"
      },
      "source": [
        "## 8.6 MODIFICATION (Follow)\n",
        "\n",
        "**Learning Objectives:**\n",
        "\n",
        "1. Understand how to modify an array.\n",
        "2. Learn modification functions.\n",
        "3. Understand the use of array modification"
      ]
    },
    {
      "cell_type": "code",
      "execution_count": null,
      "metadata": {
        "id": "GmbZWithEVRl",
        "colab": {
          "base_uri": "https://localhost:8080/"
        },
        "outputId": "1adf5fab-1d7a-46e4-d7c1-273b3ba205ba"
      },
      "outputs": [
        {
          "output_type": "stream",
          "name": "stdout",
          "text": [
            "[1 2 3 4 5 6] \n",
            "\n",
            "[[1 2 3]\n",
            " [4 5 6]] \n",
            "\n",
            "[[1 2]\n",
            " [3 4]\n",
            " [5 6]] \n",
            "\n",
            "[[88  2]\n",
            " [ 3  4]\n",
            " [ 5  6]] \n",
            "\n",
            "[99  2  3  4  5  6] \n",
            "\n",
            "[88  2  3  4  5  6] \n",
            "\n",
            "[[88  3  5]\n",
            " [ 2  4  6]] \n",
            "\n",
            "[[88  2]\n",
            " [ 3  4]\n",
            " [ 5  6]]\n"
          ]
        }
      ],
      "source": [
        "\"\"\"\n",
        "Add comments for you own reference\n",
        "\"\"\"\n",
        "\n",
        "import numpy as np\n",
        "arr = np.array([1,2,3,4,5,6])\n",
        "print(arr, \"\\n\")\n",
        "arr.resize(2,3) #view\n",
        "print(arr,\"\\n\")\n",
        "x = arr.reshape(3,2) #copy\n",
        "print(x,\"\\n\")\n",
        "\n",
        "y = x.flatten()  #copy\n",
        "z = x.ravel()    #view\n",
        "y[0] = 99\n",
        "z[0] = 88\n",
        "print(x,\"\\n\")\n",
        "print(y,\"\\n\")\n",
        "print(z,\"\\n\")\n",
        "print(x.transpose(),\"\\n\")\n",
        "print(x)"
      ]
    },
    {
      "cell_type": "code",
      "execution_count": null,
      "metadata": {
        "id": "Ljtr91IpEVRl",
        "colab": {
          "base_uri": "https://localhost:8080/"
        },
        "outputId": "5add55e2-8758-4f9f-ce58-e190ac496ef5"
      },
      "outputs": [
        {
          "output_type": "stream",
          "name": "stdout",
          "text": [
            "[[37 80]\n",
            " [41 91]\n",
            " [59 28]\n",
            " [85  6]\n",
            " [68 74]\n",
            " [26 90]\n",
            " [31 28]\n",
            " [23 45]\n",
            " [18 23]\n",
            " [67 53]\n",
            " [83 17]\n",
            " [30 50]\n",
            " [92 23]\n",
            " [76  7]\n",
            " [33 67]\n",
            " [69 20]\n",
            " [46 89]\n",
            " [42 30]\n",
            " [67 36]\n",
            " [26 49]\n",
            " [83 61]\n",
            " [82  6]\n",
            " [30 22]\n",
            " [34 75]\n",
            " [64 78]] \n",
            "\n",
            "[[37 80 41 91 59]\n",
            " [28 85  6 68 74]\n",
            " [26 90 31 28 23]\n",
            " [45 18 23 67 53]\n",
            " [83 17 30 50 92]\n",
            " [23 76  7 33 67]\n",
            " [69 20 46 89 42]\n",
            " [30 67 36 26 49]\n",
            " [83 61 82  6 30]\n",
            " [22 34 75 64 78]] \n",
            "\n",
            "[[88 80 41 91 59]\n",
            " [28 85  6 68 74]\n",
            " [26 90 31 28 23]\n",
            " [45 18 23 67 53]\n",
            " [83 17 30 50 92]\n",
            " [23 76  7 33 67]\n",
            " [69 20 46 89 42]\n",
            " [30 67 36 26 49]\n",
            " [83 61 82  6 30]\n",
            " [22 34 75 64 78]] \n",
            "\n",
            "[99 80 41 91 59 28 85  6 68 74 26 90 31 28 23 45 18 23 67 53 83 17 30 50\n",
            " 92 23 76  7 33 67 69 20 46 89 42 30 67 36 26 49 83 61 82  6 30 22 34 75\n",
            " 64 78] \n",
            "\n",
            "[88 80 41 91 59 28 85  6 68 74 26 90 31 28 23 45 18 23 67 53 83 17 30 50\n",
            " 92 23 76  7 33 67 69 20 46 89 42 30 67 36 26 49 83 61 82  6 30 22 34 75\n",
            " 64 78] \n",
            "\n",
            "[[88 28 26 45 83 23 69 30 83 22]\n",
            " [80 85 90 18 17 76 20 67 61 34]\n",
            " [41  6 31 23 30  7 46 36 82 75]\n",
            " [91 68 28 67 50 33 89 26  6 64]\n",
            " [59 74 23 53 92 67 42 49 30 78]] \n",
            "\n"
          ]
        }
      ],
      "source": [
        "\"\"\"\n",
        "Add comments for you own reference\n",
        "\"\"\"\n",
        "\n",
        "data = np.loadtxt(\"test.csv\",delimiter=\",\", dtype=str).astype(int)\n",
        "data = data[25:30]\n",
        "\n",
        "data.resize(25,2)\n",
        "print(data,\"\\n\")\n",
        "x = data.reshape(10,5)\n",
        "print(x,\"\\n\")\n",
        "y = x.flatten()\n",
        "z = x.ravel()\n",
        "y[0] = 99\n",
        "z[0] = 88\n",
        "print(x,\"\\n\")\n",
        "print(y,\"\\n\")\n",
        "print(z,\"\\n\")\n",
        "print(x.transpose(),\"\\n\")"
      ]
    },
    {
      "cell_type": "markdown",
      "metadata": {
        "id": "SdLD7x-KEVRl"
      },
      "source": [
        "**Evaluation:**\n",
        "\n",
        "After running this program, think about and answer these questions:\n",
        "\n",
        "1. What is the difference between resize and reshape?\n",
        "2. What is the difference between ravel and flatten?\n",
        "3. What does transpose() function do?\n",
        "4. How are these functions helpful in data analysis or statistics?"
      ]
    },
    {
      "cell_type": "markdown",
      "metadata": {
        "id": "FAS6yB0MEVRl"
      },
      "source": [
        "## 8.6 MODIFICATION (Group)\n",
        "\n",
        "Write a program that will do the following:\n",
        "\n",
        "1. Read 'test.csv' \n",
        "2. Slice a 5:8 grid from the array (X)\n",
        "3. Make a copy and transpose (X)\n",
        "4. Reshape both arrays to (4,10)\n",
        "5. Multiply the arrays and display the Output\n",
        "6. Try to display each step"
      ]
    },
    {
      "cell_type": "code",
      "execution_count": null,
      "metadata": {
        "id": "_TkSwvq6EVRl",
        "colab": {
          "base_uri": "https://localhost:8080/"
        },
        "outputId": "8549d07d-6156-4c6a-9db6-ad27bd95d1a8"
      },
      "outputs": [
        {
          "output_type": "stream",
          "name": "stdout",
          "text": [
            "Output:\n",
            "[[3364 6724 5929   49 4624 8649 1681 5625 5929  361]\n",
            " [3481 3025 2704 3969  144 5476  121   49 7056 1600]\n",
            " [ 144  121 2116  900 7225 2116 5329 6241  961 1225]\n",
            " [5929  400 3136 1024  441 6889  900 1024 6889  576]]\n"
          ]
        }
      ],
      "source": [
        "import numpy as np\n",
        "import pandas as pd\n",
        "\n",
        "# read csv file\n",
        "df = pd.read_csv('test.csv')\n",
        "\n",
        "# select a 4x10 grid from the original DataFrame\n",
        "X = df.iloc[3:7, :10]\n",
        "\n",
        "# make a copy and transpose\n",
        "X_copy = X.copy()\n",
        "X_T = X.transpose()\n",
        "\n",
        "# reshape both arrays to (4,10)\n",
        "X_reshape = X.values.reshape(4, 10)\n",
        "X_copy_reshape = X_copy.values.reshape(4, 10)\n",
        "\n",
        "# multiply the arrays and display the output\n",
        "X_mult = np.multiply(X_reshape, X_copy_reshape)\n",
        "print(\"Output:\")\n",
        "print(X_mult)\n"
      ]
    },
    {
      "cell_type": "code",
      "execution_count": null,
      "metadata": {
        "id": "NUT1yfkjEVRl"
      },
      "outputs": [],
      "source": [
        "\n"
      ]
    }
  ],
  "metadata": {
    "kernelspec": {
      "display_name": "Python 3 (ipykernel)",
      "language": "python",
      "name": "python3"
    },
    "language_info": {
      "codemirror_mode": {
        "name": "ipython",
        "version": 3
      },
      "file_extension": ".py",
      "mimetype": "text/x-python",
      "name": "python",
      "nbconvert_exporter": "python",
      "pygments_lexer": "ipython3",
      "version": "3.9.15"
    },
    "colab": {
      "provenance": [],
      "include_colab_link": true
    }
  },
  "nbformat": 4,
  "nbformat_minor": 0
}