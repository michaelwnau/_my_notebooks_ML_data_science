{
  "cells": [
    {
      "cell_type": "markdown",
      "metadata": {
        "id": "view-in-github",
        "colab_type": "text"
      },
      "source": [
        "<a href=\"https://colab.research.google.com/github/michaelwnau/ai_academy_notebooks/blob/main/spotify_exploratory_analysis_P1.ipynb\" target=\"_parent\"><img src=\"https://colab.research.google.com/assets/colab-badge.svg\" alt=\"Open In Colab\"/></a>"
      ]
    },
    {
      "cell_type": "markdown",
      "metadata": {
        "id": "VcOe5mucale2"
      },
      "source": [
        "## Project Template: Phase 1\n",
        "\n",
        "Below are some concrete steps that you can take while doing your analysis. This guide isn't \"one size fit all\" so you will probably not do everything listed. But it still serves as a good \"pipeline\" for how to do data analysis.\n",
        "\n",
        "If you do engage in a step, you should clearly mention it in the notebook.\n",
        "\n",
        "---\n"
      ]
    },
    {
      "cell_type": "markdown",
      "metadata": {
        "id": "GIJF-hk4ale4"
      },
      "source": [
        "## Loading Data\n",
        "\n",
        "1. Load up your data\n",
        "2. Decide what you want to predict\n",
        "\n",
        "### Refresher on Data Types\n",
        "\n",
        "* Scalar (no transformation needed)\n",
        "    * Numeric\n",
        "    * Discrete\n",
        "        * Ordinal\n",
        "        * Binary\n",
        "* Text\n",
        "    * Bag of Words, TF-IDF, Embeddings\n",
        "* Sets (e.g. tags)\n",
        "    * Can't do simple bag of words, since tags can be multi word\n",
        "    * One hot encoding\n",
        "* Time series\n",
        "    * Naive approaches\n",
        "        * Last value\n",
        "        * Average, Median\n",
        "        * Max/min\n",
        "* Numeric Data that isn't directly interpretable (e.g. geospatial data)"
      ]
    },
    {
      "cell_type": "code",
      "execution_count": null,
      "metadata": {
        "id": "R0gpl9F5ale5"
      },
      "outputs": [],
      "source": []
    },
    {
      "cell_type": "code",
      "source": [
        "from google.colab import drive\n",
        "drive.mount('/content/drive')"
      ],
      "metadata": {
        "colab": {
          "base_uri": "https://localhost:8080/"
        },
        "id": "D0QTOmVLlEIG",
        "outputId": "3786c88b-65bb-429f-87d8-a08f961d6555"
      },
      "execution_count": null,
      "outputs": [
        {
          "output_type": "stream",
          "name": "stdout",
          "text": [
            "Mounted at /content/drive\n"
          ]
        }
      ]
    },
    {
      "cell_type": "code",
      "execution_count": null,
      "metadata": {
        "id": "nl7s2Xpkale5"
      },
      "outputs": [],
      "source": [
        "# Import necessary libraries\n",
        "import pandas as pd\n",
        "import numpy as np\n",
        "import matplotlib.pyplot as plt\n",
        "import seaborn as sns\n",
        "from sklearn.model_selection import train_test_split\n",
        "from sklearn.preprocessing import OneHotEncoder\n",
        "from sklearn.feature_extraction.text import CountVectorizer\n",
        "from sklearn.ensemble import RandomForestClassifier\n",
        "from sklearn.metrics import classification_report\n"
      ]
    },
    {
      "cell_type": "code",
      "source": [
        "# Load data\n",
        "playlists = pd.read_csv('/content/drive/MyDrive/AI ACADEMY/2 - Data Mining/8- Week 8/WKS8_Student/archive/playlists.csv')\n",
        "genres = pd.read_csv('/content/drive/MyDrive/AI ACADEMY/2 - Data Mining/8- Week 8/WKS8_Student/archive/genres_v2.csv')\n",
        "\n",
        "# Recon the data\n",
        "print(playlists.head())\n",
        "print(genres.head())\n"
      ],
      "metadata": {
        "colab": {
          "base_uri": "https://localhost:8080/"
        },
        "id": "rxglz9t6lOdS",
        "outputId": "864e830e-e40a-45bf-b169-e72e6ccf0e6f"
      },
      "execution_count": null,
      "outputs": [
        {
          "output_type": "stream",
          "name": "stdout",
          "text": [
            "                 Playlist      Genre\n",
            "0  19WuHd4MxWLzE1fpMmw4S4  Dark Trap\n",
            "1  6XyR8uzgkSoDzHuOxxRtLH  Dark Trap\n",
            "2  37Ij3ofyhvEhFEH8YZMZ2X  Dark Trap\n",
            "3  07zTlfPpsxeoWdumbkNWMI  Dark Trap\n",
            "4  2dClSRLsnptdkDQnpi5H2f  Dark Trap\n",
            "   danceability  energy  key  loudness  mode  speechiness  acousticness  \\\n",
            "0         0.831   0.814    2    -7.364     1       0.4200        0.0598   \n",
            "1         0.719   0.493    8    -7.230     1       0.0794        0.4010   \n",
            "2         0.850   0.893    5    -4.783     1       0.0623        0.0138   \n",
            "3         0.476   0.781    0    -4.710     1       0.1030        0.0237   \n",
            "4         0.798   0.624    2    -7.668     1       0.2930        0.2170   \n",
            "\n",
            "   instrumentalness  liveness  valence  ...                      id  \\\n",
            "0          0.013400    0.0556   0.3890  ...  2Vc6NJ9PW9gD9q343XFRKx   \n",
            "1          0.000000    0.1180   0.1240  ...  7pgJBLVz5VmnL7uGHmRj6p   \n",
            "2          0.000004    0.3720   0.0391  ...  0vSWgAlfpye0WCGeNmuNhy   \n",
            "3          0.000000    0.1140   0.1750  ...  0VSXnJqQkwuH2ei1nOQ1nu   \n",
            "4          0.000000    0.1660   0.5910  ...  4jCeguq9rMTlbMmPHuO7S3   \n",
            "\n",
            "                                    uri  \\\n",
            "0  spotify:track:2Vc6NJ9PW9gD9q343XFRKx   \n",
            "1  spotify:track:7pgJBLVz5VmnL7uGHmRj6p   \n",
            "2  spotify:track:0vSWgAlfpye0WCGeNmuNhy   \n",
            "3  spotify:track:0VSXnJqQkwuH2ei1nOQ1nu   \n",
            "4  spotify:track:4jCeguq9rMTlbMmPHuO7S3   \n",
            "\n",
            "                                          track_href  \\\n",
            "0  https://api.spotify.com/v1/tracks/2Vc6NJ9PW9gD...   \n",
            "1  https://api.spotify.com/v1/tracks/7pgJBLVz5Vmn...   \n",
            "2  https://api.spotify.com/v1/tracks/0vSWgAlfpye0...   \n",
            "3  https://api.spotify.com/v1/tracks/0VSXnJqQkwuH...   \n",
            "4  https://api.spotify.com/v1/tracks/4jCeguq9rMTl...   \n",
            "\n",
            "                                        analysis_url duration_ms  \\\n",
            "0  https://api.spotify.com/v1/audio-analysis/2Vc6...      124539   \n",
            "1  https://api.spotify.com/v1/audio-analysis/7pgJ...      224427   \n",
            "2  https://api.spotify.com/v1/audio-analysis/0vSW...       98821   \n",
            "3  https://api.spotify.com/v1/audio-analysis/0VSX...      123661   \n",
            "4  https://api.spotify.com/v1/audio-analysis/4jCe...      123298   \n",
            "\n",
            "  time_signature      genre                                      song_name  \\\n",
            "0              4  Dark Trap                            Mercury: Retrograde   \n",
            "1              4  Dark Trap                                      Pathology   \n",
            "2              4  Dark Trap                                       Symbiote   \n",
            "3              3  Dark Trap  ProductOfDrugs (Prod. The Virus and Antidote)   \n",
            "4              4  Dark Trap                                          Venom   \n",
            "\n",
            "  Unnamed: 0 title  \n",
            "0        NaN   NaN  \n",
            "1        NaN   NaN  \n",
            "2        NaN   NaN  \n",
            "3        NaN   NaN  \n",
            "4        NaN   NaN  \n",
            "\n",
            "[5 rows x 22 columns]\n"
          ]
        },
        {
          "output_type": "stream",
          "name": "stderr",
          "text": [
            "<ipython-input-5-bc97dc9d5ac5>:3: DtypeWarning: Columns (19) have mixed types. Specify dtype option on import or set low_memory=False.\n",
            "  genres = pd.read_csv('/content/drive/MyDrive/AI ACADEMY/2 - Data Mining/8- Week 8/WKS8_Student/archive/genres_v2.csv')\n"
          ]
        }
      ]
    },
    {
      "cell_type": "code",
      "source": [
        "# Check and handle missing values\n",
        "playlists.isnull().sum()\n",
        "\n",
        "# Fill numeric missing values with median or mean\n",
        "playlists.fillna(playlists.median(), inplace=True)\n"
      ],
      "metadata": {
        "colab": {
          "base_uri": "https://localhost:8080/"
        },
        "id": "ZH39NnvwlydZ",
        "outputId": "d68e8627-c2bd-46db-9a70-f4665f7aedd0"
      },
      "execution_count": null,
      "outputs": [
        {
          "output_type": "stream",
          "name": "stderr",
          "text": [
            "<ipython-input-7-cb1a85c97022>:5: FutureWarning: The default value of numeric_only in DataFrame.median is deprecated. In a future version, it will default to False. In addition, specifying 'numeric_only=None' is deprecated. Select only valid columns or specify the value of numeric_only to silence this warning.\n",
            "  playlists.fillna(playlists.median(), inplace=True)\n"
          ]
        }
      ]
    },
    {
      "cell_type": "code",
      "source": [
        "# Create a CountVectorizer instance\n",
        "vectorizer = CountVectorizer()\n",
        "\n",
        "# Fit and transform the 'Playlist' data\n",
        "X = vectorizer.fit_transform(playlists['Playlist'])\n",
        "\n",
        "# Convert to dataframe\n",
        "X_df = pd.DataFrame(X.toarray(), columns=vectorizer.get_feature_names_out())\n",
        "\n",
        "print(playlists.columns)\n"
      ],
      "metadata": {
        "colab": {
          "base_uri": "https://localhost:8080/"
        },
        "id": "-YjRTtdql2VN",
        "outputId": "134285d9-2949-4442-fc0b-ed7aeaf4a44e"
      },
      "execution_count": null,
      "outputs": [
        {
          "output_type": "stream",
          "name": "stdout",
          "text": [
            "Index(['Playlist', 'Genre'], dtype='object')\n"
          ]
        }
      ]
    },
    {
      "cell_type": "code",
      "source": [
        "# Create a OneHotEncoder instance\n",
        "encoder = OneHotEncoder()\n",
        "\n",
        "# Fit and transform the Genre data\n",
        "X = encoder.fit_transform(playlists['Genre'].values.reshape(-1, 1))\n",
        "\n",
        "# Convert to dataframe\n",
        "X_df = pd.DataFrame(X.toarray(), columns=encoder.get_feature_names_out())\n"
      ],
      "metadata": {
        "id": "WYBZM8ahl6ut"
      },
      "execution_count": null,
      "outputs": []
    },
    {
      "cell_type": "code",
      "source": [
        "# Split data into train and test sets\n",
        "X_train, X_test, y_train, y_test = train_test_split(X_df, playlists['Genre'], test_size=0.2, random_state=42)\n",
        "\n",
        "# Create a RandomForestClassifier instance\n",
        "clf = RandomForestClassifier()\n",
        "\n",
        "# Fit the model\n",
        "clf.fit(X_train, y_train)\n",
        "\n",
        "# Make predictions\n",
        "y_pred = clf.predict(X_test)\n",
        "\n",
        "# Print a classification report\n",
        "print(classification_report(y_test, y_pred))\n"
      ],
      "metadata": {
        "colab": {
          "base_uri": "https://localhost:8080/"
        },
        "id": "BhLQA8cJl85v",
        "outputId": "2eeb63bd-7c53-4105-b057-f77a0874a2ee"
      },
      "execution_count": null,
      "outputs": [
        {
          "output_type": "stream",
          "name": "stdout",
          "text": [
            "              precision    recall  f1-score   support\n",
            "\n",
            "   Dark Trap       1.00      1.00      1.00         1\n",
            "         Emo       1.00      1.00      1.00         1\n",
            "      Hiphop       1.00      1.00      1.00         1\n",
            "         Pop       1.00      1.00      1.00         1\n",
            "         RnB       1.00      1.00      1.00         3\n",
            "  Trap Metal       1.00      1.00      1.00         1\n",
            "\n",
            "    accuracy                           1.00         8\n",
            "   macro avg       1.00      1.00      1.00         8\n",
            "weighted avg       1.00      1.00      1.00         8\n",
            "\n"
          ]
        }
      ]
    },
    {
      "cell_type": "markdown",
      "metadata": {
        "id": "Dj5BVgQCale5"
      },
      "source": [
        "## Exploratory Data Analysis (EDA)\n",
        "\n",
        "1. Decide if feature selection is needed.\n",
        "    * Do you have hihgly correlated features?\n",
        "2. Decide if you have non-scalar attributes.\n",
        "3. What type of supervised learning is this?\n",
        "    * Binary Classification\n",
        "    * Multi-class classification?\n",
        "    * Ordinal classification [Tricky]\n",
        "        * Do you want to change this into regression or binarize into binary classification?\n",
        "    * Regression\n",
        "4. If doing classification\n",
        "    1. Decide whether you class variable makes sense.\n",
        "    2. Figure out what your class balance is\n",
        "5. Histogram the features\n",
        "    * Good if distribution is highly skewed\n",
        "6. Vizualize using reduced dimensions\n",
        "    * PCA, MVD\n",
        "    * T-SNE"
      ]
    },
    {
      "cell_type": "code",
      "execution_count": null,
      "metadata": {
        "id": "T2cc8vqDale6"
      },
      "outputs": [],
      "source": []
    },
    {
      "cell_type": "code",
      "execution_count": null,
      "metadata": {
        "id": "dyU4sdvkale6"
      },
      "outputs": [],
      "source": []
    },
    {
      "cell_type": "markdown",
      "metadata": {
        "id": "hn1WCY7yale6"
      },
      "source": [
        "## Preprocessing\n",
        "\n",
        "1. Remove meaningless features (e.g. IDs), or unfair features (e.g. percent grade should be removed if predicing final grade)\n",
        "2. Discretization\n",
        "3. Transform features into usable formats (standardize dates, vectorize words)\n",
        "4. Transform data to a wide format (one row per prediction)\n",
        "5. **Feature Selection**: Remove redundant, noisy features or unhelpful features\n",
        "6. Feature creation\n",
        "    * Use an external tool (e.g. analyzing sentiment from text)\n",
        "7. Revist EDA using processed features"
      ]
    },
    {
      "cell_type": "code",
      "execution_count": null,
      "metadata": {
        "id": "I7UuxVPwale6"
      },
      "outputs": [],
      "source": []
    },
    {
      "cell_type": "code",
      "execution_count": null,
      "metadata": {
        "id": "DYu7PIVdale7"
      },
      "outputs": [],
      "source": []
    }
  ],
  "metadata": {
    "kernelspec": {
      "display_name": "Python 3 (ipykernel)",
      "language": "python",
      "name": "python3"
    },
    "language_info": {
      "codemirror_mode": {
        "name": "ipython",
        "version": 3
      },
      "file_extension": ".py",
      "mimetype": "text/x-python",
      "name": "python",
      "nbconvert_exporter": "python",
      "pygments_lexer": "ipython3",
      "version": "3.9.12"
    },
    "colab": {
      "provenance": [],
      "include_colab_link": true
    }
  },
  "nbformat": 4,
  "nbformat_minor": 0
}