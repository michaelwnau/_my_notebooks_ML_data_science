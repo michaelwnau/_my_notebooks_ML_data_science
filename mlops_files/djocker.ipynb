{
  "nbformat": 4,
  "nbformat_minor": 0,
  "metadata": {
    "colab": {
      "provenance": [],
      "authorship_tag": "ABX9TyMHnj5S+ILGPm6xzCjNtzay",
      "include_colab_link": true
    },
    "kernelspec": {
      "name": "python3",
      "display_name": "Python 3"
    },
    "language_info": {
      "name": "python"
    }
  },
  "cells": [
    {
      "cell_type": "markdown",
      "metadata": {
        "id": "view-in-github",
        "colab_type": "text"
      },
      "source": [
        "<a href=\"https://colab.research.google.com/github/michaelwnau/_ai_academy_notebooks/blob/main/djocker.ipynb\" target=\"_parent\"><img src=\"https://colab.research.google.com/assets/colab-badge.svg\" alt=\"Open In Colab\"/></a>"
      ]
    },
    {
      "cell_type": "code",
      "execution_count": 1,
      "metadata": {
        "id": "fF15gHy0BWex"
      },
      "outputs": [],
      "source": [
        "import os\n",
        "import subprocess\n",
        "\n",
        "def main():\n",
        "    project_name = input(\"Enter your Django project name: \")\n",
        "    app_name = input(\"Enter your Django app name: \")\n",
        "    docker_username = input(\"Enter your Docker Hub username: \")\n",
        "    gcp_project_id = input(\"Enter your GCP project ID: \")\n",
        "    gcp_region = input(\"Enter your GCP region: \")\n",
        "    gcp_zone = input(\"Enter your GCP zone: \")\n",
        "    gcp_cluster_name = input(\"Enter your GCP cluster name: \")\n",
        "    gcp_k8s_namespace = input(\"Enter your GCP Kubernetes namespace: \")\n",
        "    \n",
        "    # Create Django app\n",
        "    subprocess.run([\"django-admin\", \"startproject\", project_name, \".\"])\n",
        "    os.chdir(project_name)\n",
        "    subprocess.run([\"python\", \"manage.py\", \"startapp\", app_name])\n",
        "    \n",
        "    # Create Docker image and push to Docker Hub\n",
        "    subprocess.run([\"docker\", \"build\", \"-t\", f\"{docker_username}/{project_name}-django-app:latest\", \".\"])\n",
        "    subprocess.run([\"docker\", \"push\", f\"{docker_username}/{project_name}-django-app:latest\"])\n",
        "    \n",
        "    # Create GCP resources and deploy Django app\n",
        "    subprocess.run([\"gcloud\", \"config\", \"set\", \"project\", gcp_project_id])\n",
        "    subprocess.run([\"gcloud\", \"container\", \"clusters\", \"get-credentials\", gcp_cluster_name, \"--zone\", gcp_zone])\n",
        "    subprocess.run([\"kubectl\", \"create\", \"namespace\", gcp_k8s_namespace])\n",
        "    subprocess.run([\"kubectl\", \"apply\", \"-f\", \"k8s\"])\n"
      ]
    }
  ]
}