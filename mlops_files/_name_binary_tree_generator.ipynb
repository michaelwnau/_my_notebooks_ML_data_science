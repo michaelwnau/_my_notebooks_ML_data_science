{
  "nbformat": 4,
  "nbformat_minor": 0,
  "metadata": {
    "colab": {
      "provenance": [],
      "authorship_tag": "ABX9TyOrcpCt15aTKMKa2uC0e9+r",
      "include_colab_link": true
    },
    "kernelspec": {
      "name": "python3",
      "display_name": "Python 3"
    },
    "language_info": {
      "name": "python"
    }
  },
  "cells": [
    {
      "cell_type": "markdown",
      "metadata": {
        "id": "view-in-github",
        "colab_type": "text"
      },
      "source": [
        "<a href=\"https://colab.research.google.com/github/michaelwnau/_my_notebooks_ML_data_science/blob/main/_name_binary_tree_generator.ipynb\" target=\"_parent\"><img src=\"https://colab.research.google.com/assets/colab-badge.svg\" alt=\"Open In Colab\"/></a>"
      ]
    },
    {
      "cell_type": "code",
      "execution_count": 1,
      "metadata": {
        "colab": {
          "base_uri": "https://localhost:8080/",
          "height": 371
        },
        "id": "TY-JtEJK1e5M",
        "outputId": "37ac3ebe-678f-4998-93fd-fa9f7c21f970"
      },
      "outputs": [
        {
          "output_type": "stream",
          "name": "stdout",
          "text": [
            "Enter your first name: Nina\n",
            "Enter your last name: Simone\n",
            "The graph is not a binary tree.\n"
          ]
        },
        {
          "output_type": "display_data",
          "data": {
            "text/plain": [
              "<Figure size 432x288 with 1 Axes>"
            ],
            "image/png": "[encoded data removed]"
          },
          "metadata": {}
        }
      ],
      "source": [
        "#_____Takes first_name and last_name and generates a graph by parsing the two \n",
        "# strings to separate vowels and consonants into two poles and then\n",
        "# checking is_binary_tree function\n",
        "\n",
        "\n",
        "import networkx as nx\n",
        "import numpy as np\n",
        "from collections import defaultdict\n",
        "\n",
        "class Tree:\n",
        "    def __init__(self):\n",
        "        self.tree = defaultdict(list)\n",
        "\n",
        "    def addEdge(self, u, v):\n",
        "        self.tree[u].append(v)\n",
        "\n",
        "    def __str__(self):\n",
        "        s = \"\"\n",
        "        for i in self.tree:\n",
        "            s += f'\\n {i} -> {self.tree[i]}'\n",
        "        return s\n",
        "\n",
        "    def is_binary_tree(self, root):\n",
        "        if not self.tree[root]:\n",
        "            return True\n",
        "        elif len(self.tree[root]) == 1:\n",
        "            return self.is_binary_tree(self.tree[root][0])\n",
        "        elif len(self.tree[root]) == 2:\n",
        "            left_child, right_child = self.tree[root]\n",
        "            return self.is_binary_tree(left_child) and self.is_binary_tree(right_child)\n",
        "        else:\n",
        "            return False\n",
        "\n",
        "# Get the user's first and last names\n",
        "first_name = input(\"Enter your first name: \")\n",
        "last_name = input(\"Enter your last name: \")\n",
        "\n",
        "# Create an empty graph\n",
        "G = nx.Graph()\n",
        "\n",
        "# Add nodes to the graph and label them with the corresponding letters\n",
        "for letter in first_name + last_name:\n",
        "    G.add_node(letter)\n",
        "\n",
        "# Separate the nodes into two groups (vowels and consonants)\n",
        "vowels = set(['a', 'e', 'i', 'o', 'u'])\n",
        "consonants = set(first_name + last_name) - vowels\n",
        "\n",
        "# Extract vowels from the user input\n",
        "user_vowels = set(filter(lambda x: x in vowels, first_name + last_name))\n",
        "\n",
        "# Connect consonants to consonants and vowels to vowels\n",
        "for u in user_vowels:\n",
        "    for v in user_vowels:\n",
        "        if u != v:\n",
        "            G.add_edge(u, v)\n",
        "\n",
        "for u in consonants:\n",
        "    for v in consonants:\n",
        "        if u != v:\n",
        "            G.add_edge(u, v)\n",
        "\n",
        "# Add one random edge between the two groups\n",
        "u = np.random.choice(list(user_vowels))\n",
        "v = np.random.choice(list(consonants))\n",
        "G.add_edge(u, v)\n",
        "\n",
        "# Check if the resulting diagram is a binary tree\n",
        "tree = Tree()\n",
        "for u, v in G.edges:\n",
        "    tree.addEdge(u, v)\n",
        "root = next(iter(user_vowels))\n",
        "is_binary_tree = tree.is_binary_tree(root)\n",
        "\n",
        "# Draw and display the graph\n",
        "nx.draw(G, with_labels=True)\n",
        "print(f\"The graph is {'a binary tree' if is_binary_tree else 'not a binary tree'}.\")\n"
      ]
    }
  ]
}