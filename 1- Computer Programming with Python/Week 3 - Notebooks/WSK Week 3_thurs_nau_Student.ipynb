{
 "cells": [
  {
   "cell_type": "markdown",
   "id": "2f4a642b",
   "metadata": {},
   "source": [
    "# Workshop 3 [Student]\n",
    "\n",
    "This notebook will cover the following topics:\n",
    "\n",
    "1. Basic Recursion\n",
    "2. Mathematical problem solving using recursion.\n",
    "3. Recursion versus iteration\n",
    "4. Dynamic programming and big O notation.\n",
    "5. Try and except blocks"
   ]
  },
  {
   "cell_type": "markdown",
   "id": "b638de8a",
   "metadata": {},
   "source": [
    "## 3.1 Basic Recursion (Follow):  \n",
    "\n",
    "**Learning Objectives:**\n",
    "\n",
    "    1. Understand how recursion works\n",
    "    2. Understand how to implement a simple recursion program\n",
    "    3. Understand how a program executes through recursion"
   ]
  },
  {
   "cell_type": "code",
   "execution_count": 30,
   "id": "a1bf9715-0c43-4ead-ac0c-4d9d5217e5c5",
   "metadata": {},
   "outputs": [
    {
     "name": "stdout",
     "output_type": "stream",
     "text": [
      "^C\n"
     ]
    }
   ],
   "source": [
    "!pip uninstall numba jupyter numpy"
   ]
  },
  {
   "cell_type": "code",
   "execution_count": null,
   "id": "5d433af7-b545-46c4-b0cd-c8c3ddf612b0",
   "metadata": {},
   "outputs": [],
   "source": []
  },
  {
   "cell_type": "code",
   "execution_count": 10,
   "id": "7f9e28e4",
   "metadata": {},
   "outputs": [
    {
     "name": "stdin",
     "output_type": "stream",
     "text": [
      "How many numbers to display?  5\n"
     ]
    },
    {
     "name": "stdout",
     "output_type": "stream",
     "text": [
      "1\n",
      "2\n",
      "3\n",
      "4\n",
      "5\n"
     ]
    }
   ],
   "source": [
    "# add comments \n",
    "\n",
    "def main():\n",
    "    number = 0\n",
    "    number = int(input('How many numbers to display? '))\n",
    "\n",
    "    print_num(number)\n",
    "\n",
    "    \n",
    "def print_num(n):\n",
    "    \n",
    "    #print(n)\n",
    "    if n > 1:\n",
    "        print_num(n - 1)\n",
    "    print (n)\n",
    "\n",
    "\n",
    "if __name__ == '__main__':\n",
    "    main()"
   ]
  },
  {
   "cell_type": "markdown",
   "id": "c55b4780",
   "metadata": {},
   "source": [
    "### As the above code executes, think about the following questions:\n",
    "\n",
    "1. Map out the execution of the program with print statements.\n",
    "2. Follow the value of n as the program executes.\n",
    "3. How many times does print_num execute before the program terminates?"
   ]
  },
  {
   "cell_type": "markdown",
   "id": "1c843288",
   "metadata": {},
   "source": [
    "## 3.1 Basic Recursion (Group):  \n",
    "\n",
    "**Write a program that will do the following:**\n",
    "\n",
    "    1. Take an integer N input from the user.\n",
    "    2. The program will recursively create N rows of asterisks.\n",
    "    3. Each row N will have N asterisks.\n",
    "    4. Use recursion to accomplish this task.\n",
    "    \n",
    "    For example: N = 3 will produce the following results\n",
    "    1. *\n",
    "    2. **\n",
    "    3. ***\n",
    "    "
   ]
  },
  {
   "cell_type": "code",
   "execution_count": 1,
   "id": "bd778336",
   "metadata": {},
   "outputs": [
    {
     "name": "stdin",
     "output_type": "stream",
     "text": [
      "Enter an integer N:  9\n"
     ]
    },
    {
     "name": "stdout",
     "output_type": "stream",
     "text": [
      "*\n",
      "**\n",
      "***\n",
      "****\n",
      "*****\n",
      "******\n",
      "*******\n",
      "********\n",
      "*********\n"
     ]
    }
   ],
   "source": [
    "def print_asterisks(n, current_row=1):\n",
    "    if current_row > n:\n",
    "        return\n",
    "    print(\"*\" * current_row)\n",
    "    print_asterisks(n, current_row + 1)\n",
    "\n",
    "n = int(input(\"Enter an integer N: \"))\n",
    "print_asterisks(n)\n"
   ]
  },
  {
   "cell_type": "markdown",
   "id": "3a88f60c",
   "metadata": {},
   "source": [
    "## 3.2 Mathematical Problem Solving Using Recursion (Follow):  \n",
    "\n",
    "**Learning Objectives:**\n",
    "\n",
    "    1. Understand how mathematical operations can be accomplished using recursion\n",
    "    2. Understand base case and recursive case in recursion"
   ]
  },
  {
   "cell_type": "code",
   "execution_count": 1,
   "id": "4c11de03",
   "metadata": {
    "scrolled": true
   },
   "outputs": [
    {
     "name": "stdin",
     "output_type": "stream",
     "text": [
      "Enter a nonnegative integer:  50\n"
     ]
    },
    {
     "name": "stdout",
     "output_type": "stream",
     "text": [
      "The factorial of 50 is 30414093201713378043612608166064768844377641568960512000000000000\n"
     ]
    }
   ],
   "source": [
    "# add comments\n",
    "\n",
    "def main():  \n",
    "    number = int(input('Enter a nonnegative integer: '))\n",
    "    fact = factorial(number)\n",
    "    print('The factorial of', number, 'is', fact)\n",
    "\n",
    "    \n",
    "def factorial(num):\n",
    "    if num == 0:\n",
    "        return 1\n",
    "    else:\n",
    "        return num * factorial(num - 1)\n",
    "\n",
    "\n",
    "main()\n"
   ]
  },
  {
   "cell_type": "code",
   "execution_count": 1,
   "id": "26dd64dc",
   "metadata": {},
   "outputs": [
    {
     "name": "stdin",
     "output_type": "stream",
     "text": [
      "Enter Number:  3\n"
     ]
    },
    {
     "name": "stdout",
     "output_type": "stream",
     "text": [
      "2\n"
     ]
    }
   ],
   "source": [
    "\"\"\"\n",
    "Add comments for you own reference\n",
    "\"\"\"\n",
    "\n",
    "def main():\n",
    "    num = int(input(\"Enter Number: \"))\n",
    "    print(fibonacci(num))\n",
    "    \n",
    "def fibonacci(n):\n",
    "    if n == 0 or n == 1:\n",
    "        return n\n",
    "    else:\n",
    "        \n",
    "        return (fibonacci(n-1) + fibonacci(n-2))\n",
    "\n",
    "main()"
   ]
  },
  {
   "cell_type": "code",
   "execution_count": null,
   "id": "8a3f9d6d-1994-4665-8326-d2cf3d6b07b1",
   "metadata": {},
   "outputs": [],
   "source": []
  },
  {
   "cell_type": "markdown",
   "id": "923eabe7",
   "metadata": {},
   "source": [
    "### As the above code executes, think about the following questions:\n",
    "\n",
    "1. Trace the execution of the code by placing print statements throughout.\n",
    "2. As the above programs execute, what are the values of the variables?\n",
    "3. Why would python change a multiplication problem into a recursive addition problem?"
   ]
  },
  {
   "cell_type": "markdown",
   "id": "2ac98e0f",
   "metadata": {},
   "source": [
    "## 3.2 Mathematical Problem Solving Using Recursion (Group): \n",
    "\n",
    "Write a program that will do the following:\n",
    "\n",
    "1. Get integer input from the user \n",
    "2. Store all odd numbers less than the given number in a list and display list\n",
    "3. Compute sum of all even numbers less than the given number\n",
    "3. Use recursion\n",
    "4. Input from user can be odd or even"
   ]
  },
  {
   "cell_type": "code",
   "execution_count": 15,
   "id": "02343d66",
   "metadata": {},
   "outputs": [
    {
     "name": "stdin",
     "output_type": "stream",
     "text": [
      "Enter an integer:  11\n"
     ]
    },
    {
     "name": "stdout",
     "output_type": "stream",
     "text": [
      "Odd numbers less than 11:  [1, 3, 5, 7, 9]\n",
      "Sum of even numbers less than 11:  20\n",
      "[1, 3]\n",
      "[1, 3, 5, 7]\n",
      "[1, 3, 5, 7, 9]\n"
     ]
    }
   ],
   "source": [
    "def main():\n",
    "    num = int(input(\"Enter an integer: \"))\n",
    "    odd_nums = get_odd_nums(num)\n",
    "    print(\"Odd numbers less than {}: \".format(num), odd_nums)\n",
    "    even_sum = get_even_sum(num)\n",
    "    print(\"Sum of even numbers less than {}: \".format(num), even_sum)\n",
    "\n",
    "def get_odd_nums(n):\n",
    "    if n <= 1:\n",
    "        return []\n",
    "    else:\n",
    "        return get_odd_nums(n-1) + [n-1] if (n-1) % 2 != 0 else get_odd_nums(n-1)\n",
    "\n",
    "def get_even_sum(n):\n",
    "    if n <= 0:\n",
    "        return 0\n",
    "    elif n == 1:\n",
    "        return 0\n",
    "    elif n % 2 == 0:\n",
    "        return n-2 + get_even_sum(n-2)\n",
    "    else:\n",
    "        return get_even_sum(n-1)\n",
    "\n",
    "main()\n",
    "\n",
    "print(get_odd_nums(5))\n",
    "print(get_odd_nums(8))\n",
    "print(get_odd_nums(10))"
   ]
  },
  {
   "cell_type": "markdown",
   "id": "5456bac5",
   "metadata": {},
   "source": [
    "## 3.3 Recursion versus Iteration (Follow):  \n",
    "\n",
    "**Learning Objectives:**\n",
    "\n",
    "    1. Understand the benefits of doing recursion versus iteration\n",
    "    2. Understand why iteration is faster than recursion"
   ]
  },
  {
   "cell_type": "code",
   "execution_count": 16,
   "id": "2e0ba5fa",
   "metadata": {},
   "outputs": [
    {
     "name": "stdout",
     "output_type": "stream",
     "text": [
      "27.8 µs ± 338 ns per loop (mean ± std. dev. of 7 runs, 10,000 loops each)\n",
      "The factorial of 1000 is 402387260077093773543702433923003985719374864210714632543799910429938512398629020592044208486969404800479988610197196058631666872994808558901323829669944590997424504087073759918823627727188732519779505950995276120874975462497043601418278094646496291056393887437886487337119181045825783647849977012476632889835955735432513185323958463075557409114262417474349347553428646576611667797396668820291207379143853719588249808126867838374559731746136085379534524221586593201928090878297308431392844403281231558611036976801357304216168747609675871348312025478589320767169132448426236131412508780208000261683151027341827977704784635868170164365024153691398281264810213092761244896359928705114964975419909342221566832572080821333186116811553615836546984046708975602900950537616475847728421889679646244945160765353408198901385442487984959953319101723355556602139450399736280750137837615307127761926849034352625200015888535147331611702103968175921510907788019393178114194545257223865541461062892187960223838971476088506276862967146674697562911234082439208160153780889893964518263243671616762179168909779911903754031274622289988005195444414282012187361745992642956581746628302955570299024324153181617210465832036786906117260158783520751516284225540265170483304226143974286933061690897968482590125458327168226458066526769958652682272807075781391858178889652208164348344825993266043367660176999612831860788386150279465955131156552036093988180612138558600301435694527224206344631797460594682573103790084024432438465657245014402821885252470935190620929023136493273497565513958720559654228749774011413346962715422845862377387538230483865688976461927383814900140767310446640259899490222221765904339901886018566526485061799702356193897017860040811889729918311021171229845901641921068884387121855646124960798722908519296819372388642614839657382291123125024186649353143970137428531926649875337218940694281434118520158014123344828015051399694290153483077644569099073152433278288269864602789864321139083506217095002597389863554277196742822248757586765752344220207573630569498825087968928162753848863396909959826280956121450994871701244516461260379029309120889086942028510640182154399457156805941872748998094254742173582401063677404595741785160829230135358081840096996372524230560855903700624271243416909004153690105933983835777939410970027753472000000000000000000000000000000000000000000000000000000000000000000000000000000000000000000000000000000000000000000000000000000000000000000000000000000000000000000000000000000000000000000000000000000000000000000000000000000000000000000000000000000000\n",
      "CPU times: total: 125 ms\n",
      "Wall time: 2.26 s\n"
     ]
    }
   ],
   "source": [
    "%%time\n",
    "import timeit\n",
    "import numpy as np\n",
    "\n",
    "def main(factorial_number): \n",
    "    number = compute_factorial(factorial_number)\n",
    "    print('The factorial of', factorial_number, 'is', number)\n",
    "\n",
    "def compute_factorial(number):\n",
    "    return np.math.factorial(number)\n",
    "\n",
    "factorial_number = 1000\n",
    "%timeit compute_factorial(factorial_number)\n",
    "main(factorial_number)"
   ]
  },
  {
   "cell_type": "code",
   "execution_count": 19,
   "id": "1aa439d6",
   "metadata": {},
   "outputs": [
    {
     "name": "stdout",
     "output_type": "stream",
     "text": [
      "The factorial of 1000 is 402387260077093773543702433923003985719374864210714632543799910429938512398629020592044208486969404800479988610197196058631666872994808558901323829669944590997424504087073759918823627727188732519779505950995276120874975462497043601418278094646496291056393887437886487337119181045825783647849977012476632889835955735432513185323958463075557409114262417474349347553428646576611667797396668820291207379143853719588249808126867838374559731746136085379534524221586593201928090878297308431392844403281231558611036976801357304216168747609675871348312025478589320767169132448426236131412508780208000261683151027341827977704784635868170164365024153691398281264810213092761244896359928705114964975419909342221566832572080821333186116811553615836546984046708975602900950537616475847728421889679646244945160765353408198901385442487984959953319101723355556602139450399736280750137837615307127761926849034352625200015888535147331611702103968175921510907788019393178114194545257223865541461062892187960223838971476088506276862967146674697562911234082439208160153780889893964518263243671616762179168909779911903754031274622289988005195444414282012187361745992642956581746628302955570299024324153181617210465832036786906117260158783520751516284225540265170483304226143974286933061690897968482590125458327168226458066526769958652682272807075781391858178889652208164348344825993266043367660176999612831860788386150279465955131156552036093988180612138558600301435694527224206344631797460594682573103790084024432438465657245014402821885252470935190620929023136493273497565513958720559654228749774011413346962715422845862377387538230483865688976461927383814900140767310446640259899490222221765904339901886018566526485061799702356193897017860040811889729918311021171229845901641921068884387121855646124960798722908519296819372388642614839657382291123125024186649353143970137428531926649875337218940694281434118520158014123344828015051399694290153483077644569099073152433278288269864602789864321139083506217095002597389863554277196742822248757586765752344220207573630569498825087968928162753848863396909959826280956121450994871701244516461260379029309120889086942028510640182154399457156805941872748998094254742173582401063677404595741785160829230135358081840096996372524230560855903700624271243416909004153690105933983835777939410970027753472000000000000000000000000000000000000000000000000000000000000000000000000000000000000000000000000000000000000000000000000000000000000000000000000000000000000000000000000000000000000000000000000000000000000000000000000000000000000000000000000000000000\n",
      "CPU times: total: 0 ns\n",
      "Wall time: 0 ns\n"
     ]
    }
   ],
   "source": [
    "%%time\n",
    "import timeit\n",
    "# add comments\n",
    "\n",
    "def main(number):\n",
    "    fact = factorial(number)\n",
    "    print('The factorial of', number, 'is', fact)\n",
    "\n",
    "    \n",
    "def factorial(num):\n",
    "    if num == 0:\n",
    "        return 1\n",
    "    else:\n",
    "        return num * factorial(num - 1)\n",
    "\n",
    "\n",
    "number = 1000\n",
    "main(number)\n",
    "#main(factorial_number)"
   ]
  },
  {
   "cell_type": "markdown",
   "id": "7f04b8ca",
   "metadata": {},
   "source": [
    "### As the above code executes, think about the following questions:\n",
    "\n",
    "1. Explain how iteration is faster than recursion.\n",
    "2. Give the programs above a few runs with different values and see how they perform.  Do not forget to clear the kernel between runs."
   ]
  },
  {
   "cell_type": "markdown",
   "id": "2effa503",
   "metadata": {},
   "source": [
    "## 3.3 Recursion versus Iteration (Group): \n",
    "\n",
    "Write a program that will do the following:\n",
    "\n",
    "1. Use the fibonacci series program from above\n",
    "2. Write an iterative function for the same.\n",
    "3. Time both programs using the above code."
   ]
  },
  {
   "cell_type": "code",
   "execution_count": 5,
   "id": "12fbd25c-9cac-4027-8405-aee2c3a94435",
   "metadata": {},
   "outputs": [
    {
     "name": "stdout",
     "output_type": "stream",
     "text": [
      "Requirement already satisfied: numba in c:\\users\\micha\\appdata\\local\\programs\\python\\python39\\lib\\site-packages (0.56.4)\n",
      "Requirement already satisfied: llvmlite in c:\\users\\micha\\appdata\\local\\programs\\python\\python39\\lib\\site-packages (0.39.1)\n",
      "Requirement already satisfied: setuptools in c:\\users\\micha\\appdata\\local\\programs\\python\\python39\\lib\\site-packages (from numba) (58.1.0)\n",
      "Requirement already satisfied: numpy<1.24,>=1.18 in c:\\users\\micha\\appdata\\local\\programs\\python\\python39\\lib\\site-packages (from numba) (1.23.4)\n"
     ]
    }
   ],
   "source": [
    "#!pip install numba llvmlite"
   ]
  },
  {
   "cell_type": "code",
   "execution_count": 24,
   "id": "9de1fc4d-f53b-43d9-9784-b3addd467c9e",
   "metadata": {},
   "outputs": [
    {
     "name": "stdin",
     "output_type": "stream",
     "text": [
      "Enter an integer:  100\n"
     ]
    },
    {
     "ename": "KeyboardInterrupt",
     "evalue": "",
     "output_type": "error",
     "traceback": [
      "\u001b[1;31m---------------------------------------------------------------------------\u001b[0m",
      "\u001b[1;31mKeyboardInterrupt\u001b[0m                         Traceback (most recent call last)",
      "Cell \u001b[1;32mIn [24], line 16\u001b[0m\n\u001b[0;32m     13\u001b[0m     \u001b[38;5;28;01melse\u001b[39;00m:\n\u001b[0;32m     14\u001b[0m         \u001b[38;5;28;01mreturn\u001b[39;00m (fibonacci_recursive(n\u001b[38;5;241m-\u001b[39m\u001b[38;5;241m1\u001b[39m) \u001b[38;5;241m+\u001b[39m fibonacci_recursive(n\u001b[38;5;241m-\u001b[39m\u001b[38;5;241m2\u001b[39m))\n\u001b[1;32m---> 16\u001b[0m \u001b[43mmain\u001b[49m\u001b[43m(\u001b[49m\u001b[43m)\u001b[49m\n",
      "Cell \u001b[1;32mIn [24], line 6\u001b[0m, in \u001b[0;36mmain\u001b[1;34m()\u001b[0m\n\u001b[0;32m      4\u001b[0m num \u001b[38;5;241m=\u001b[39m \u001b[38;5;28mint\u001b[39m(\u001b[38;5;28minput\u001b[39m(\u001b[38;5;124m\"\u001b[39m\u001b[38;5;124mEnter an integer: \u001b[39m\u001b[38;5;124m\"\u001b[39m))\n\u001b[0;32m      5\u001b[0m start_time \u001b[38;5;241m=\u001b[39m time\u001b[38;5;241m.\u001b[39mtime()\n\u001b[1;32m----> 6\u001b[0m \u001b[38;5;28mprint\u001b[39m(\u001b[38;5;124mf\u001b[39m\u001b[38;5;124m\"\u001b[39m\u001b[38;5;124mThe fibonacci of \u001b[39m\u001b[38;5;132;01m{\u001b[39;00mnum\u001b[38;5;132;01m}\u001b[39;00m\u001b[38;5;124m is:\u001b[39m\u001b[38;5;124m\"\u001b[39m, \u001b[43mfibonacci_recursive\u001b[49m\u001b[43m(\u001b[49m\u001b[43mnum\u001b[49m\u001b[43m)\u001b[49m)\n\u001b[0;32m      7\u001b[0m end_time \u001b[38;5;241m=\u001b[39m time\u001b[38;5;241m.\u001b[39mtime()\n\u001b[0;32m      8\u001b[0m \u001b[38;5;28mprint\u001b[39m(\u001b[38;5;124mf\u001b[39m\u001b[38;5;124m\"\u001b[39m\u001b[38;5;124mTime taken: \u001b[39m\u001b[38;5;132;01m{\u001b[39;00mend_time \u001b[38;5;241m-\u001b[39m start_time\u001b[38;5;132;01m}\u001b[39;00m\u001b[38;5;124m\"\u001b[39m)\n",
      "Cell \u001b[1;32mIn [24], line 14\u001b[0m, in \u001b[0;36mfibonacci_recursive\u001b[1;34m(n)\u001b[0m\n\u001b[0;32m     12\u001b[0m     \u001b[38;5;28;01mreturn\u001b[39;00m n\n\u001b[0;32m     13\u001b[0m \u001b[38;5;28;01melse\u001b[39;00m:\n\u001b[1;32m---> 14\u001b[0m     \u001b[38;5;28;01mreturn\u001b[39;00m (\u001b[43mfibonacci_recursive\u001b[49m\u001b[43m(\u001b[49m\u001b[43mn\u001b[49m\u001b[38;5;241;43m-\u001b[39;49m\u001b[38;5;241;43m1\u001b[39;49m\u001b[43m)\u001b[49m \u001b[38;5;241m+\u001b[39m fibonacci_recursive(n\u001b[38;5;241m-\u001b[39m\u001b[38;5;241m2\u001b[39m))\n",
      "Cell \u001b[1;32mIn [24], line 14\u001b[0m, in \u001b[0;36mfibonacci_recursive\u001b[1;34m(n)\u001b[0m\n\u001b[0;32m     12\u001b[0m     \u001b[38;5;28;01mreturn\u001b[39;00m n\n\u001b[0;32m     13\u001b[0m \u001b[38;5;28;01melse\u001b[39;00m:\n\u001b[1;32m---> 14\u001b[0m     \u001b[38;5;28;01mreturn\u001b[39;00m (\u001b[43mfibonacci_recursive\u001b[49m\u001b[43m(\u001b[49m\u001b[43mn\u001b[49m\u001b[38;5;241;43m-\u001b[39;49m\u001b[38;5;241;43m1\u001b[39;49m\u001b[43m)\u001b[49m \u001b[38;5;241m+\u001b[39m fibonacci_recursive(n\u001b[38;5;241m-\u001b[39m\u001b[38;5;241m2\u001b[39m))\n",
      "    \u001b[1;31m[... skipping similar frames: fibonacci_recursive at line 14 (86 times)]\u001b[0m\n",
      "Cell \u001b[1;32mIn [24], line 14\u001b[0m, in \u001b[0;36mfibonacci_recursive\u001b[1;34m(n)\u001b[0m\n\u001b[0;32m     12\u001b[0m     \u001b[38;5;28;01mreturn\u001b[39;00m n\n\u001b[0;32m     13\u001b[0m \u001b[38;5;28;01melse\u001b[39;00m:\n\u001b[1;32m---> 14\u001b[0m     \u001b[38;5;28;01mreturn\u001b[39;00m (fibonacci_recursive(n\u001b[38;5;241m-\u001b[39m\u001b[38;5;241m1\u001b[39m) \u001b[38;5;241m+\u001b[39m \u001b[43mfibonacci_recursive\u001b[49m\u001b[43m(\u001b[49m\u001b[43mn\u001b[49m\u001b[38;5;241;43m-\u001b[39;49m\u001b[38;5;241;43m2\u001b[39;49m\u001b[43m)\u001b[49m)\n",
      "Cell \u001b[1;32mIn [24], line 10\u001b[0m, in \u001b[0;36mfibonacci_recursive\u001b[1;34m(n)\u001b[0m\n\u001b[0;32m      7\u001b[0m     end_time \u001b[38;5;241m=\u001b[39m time\u001b[38;5;241m.\u001b[39mtime()\n\u001b[0;32m      8\u001b[0m     \u001b[38;5;28mprint\u001b[39m(\u001b[38;5;124mf\u001b[39m\u001b[38;5;124m\"\u001b[39m\u001b[38;5;124mTime taken: \u001b[39m\u001b[38;5;132;01m{\u001b[39;00mend_time \u001b[38;5;241m-\u001b[39m start_time\u001b[38;5;132;01m}\u001b[39;00m\u001b[38;5;124m\"\u001b[39m)\n\u001b[1;32m---> 10\u001b[0m \u001b[38;5;28;01mdef\u001b[39;00m \u001b[38;5;21mfibonacci_recursive\u001b[39m(n):\n\u001b[0;32m     11\u001b[0m     \u001b[38;5;28;01mif\u001b[39;00m n \u001b[38;5;241m==\u001b[39m \u001b[38;5;241m0\u001b[39m \u001b[38;5;129;01mor\u001b[39;00m n \u001b[38;5;241m==\u001b[39m \u001b[38;5;241m1\u001b[39m:\n\u001b[0;32m     12\u001b[0m         \u001b[38;5;28;01mreturn\u001b[39;00m n\n",
      "\u001b[1;31mKeyboardInterrupt\u001b[0m: "
     ]
    }
   ],
   "source": [
    "\n",
    "import time\n",
    "\n",
    "def main():\n",
    "    num = int(input(\"Enter an integer: \"))\n",
    "    start_time = time.time()\n",
    "    print(f\"The fibonacci of {num} is:\", fibonacci_recursive(num))\n",
    "    end_time = time.time()\n",
    "    print(f\"Time taken: {end_time - start_time}\")\n",
    "    \n",
    "def fibonacci_recursive(n):\n",
    "    if n == 0 or n == 1:\n",
    "        return n\n",
    "    else:\n",
    "        return (fibonacci_recursive(n-1) + fibonacci_recursive(n-2))\n",
    "\n",
    "main()"
   ]
  },
  {
   "cell_type": "code",
   "execution_count": 23,
   "id": "e0346042-8032-4c1f-ae25-818cb394a370",
   "metadata": {},
   "outputs": [
    {
     "name": "stdin",
     "output_type": "stream",
     "text": [
      "Enter an integer:  23\n"
     ]
    },
    {
     "name": "stdout",
     "output_type": "stream",
     "text": [
      "The fibonacci of 23 is: 28657\n",
      "Time taken: 0.0\n"
     ]
    }
   ],
   "source": [
    "\n",
    "import time\n",
    "\n",
    "def main():\n",
    "    num = int(input(\"Enter an integer: \"))\n",
    "    start_time = time.time()\n",
    "    print(f\"The fibonacci of {num} is:\", fibonacci_iterative(num))\n",
    "    end_time = time.time()\n",
    "    print(f\"Time taken: {end_time - start_time}\")\n",
    "\n",
    "def fibonacci_iterative(n):\n",
    "    if n == 0 or n == 1:\n",
    "        return n\n",
    "    else:\n",
    "        a = 0\n",
    "        b = 1\n",
    "        for i in range(2, n+1):\n",
    "            c = a + b\n",
    "            a = b\n",
    "            b = c\n",
    "        return b\n",
    "\n",
    "main()"
   ]
  },
  {
   "cell_type": "code",
   "execution_count": 26,
   "id": "112956d9-c01b-4b7a-aba9-1e086f4d4996",
   "metadata": {},
   "outputs": [
    {
     "name": "stdin",
     "output_type": "stream",
     "text": [
      "Enter a string:  1\n"
     ]
    },
    {
     "name": "stdout",
     "output_type": "stream",
     "text": [
      "1\n",
      "Time taken: 0.0\n"
     ]
    }
   ],
   "source": [
    "import time\n",
    "def drop_last_letter(string):\n",
    "    while len(string) > 1:\n",
    "        print(string)\n",
    "        string = string[:-1]\n",
    "    print(string)\n",
    "string = input(\"Enter a string: \")\n",
    "start_time = time.time()\n",
    "drop_last_letter(string)\n",
    "\n",
    "\n",
    "end_time = time.time()\n",
    "print(f\"Time taken: {end_time - start_time}\")"
   ]
  },
  {
   "cell_type": "code",
   "execution_count": null,
   "id": "6ea954a9-1114-4b7e-ae15-21596d40c943",
   "metadata": {},
   "outputs": [],
   "source": []
  },
  {
   "cell_type": "markdown",
   "id": "eda44ab5",
   "metadata": {},
   "source": [
    "## 3.4 Dynamic Programming and Big O Notation (Follow):  \n",
    "\n",
    "**Learning Objectives:**\n",
    "\n",
    "    1. Understand how to use dynamic programming\n",
    "    2. Understand why dynamic programming is considered faster than basic recursion\n",
    "    3. Understand when to use dynamic programming\n",
    "    4. Understand basic big O notation"
   ]
  },
  {
   "cell_type": "code",
   "execution_count": 24,
   "id": "6ee92729",
   "metadata": {},
   "outputs": [
    {
     "name": "stdout",
     "output_type": "stream",
     "text": [
      "factorial of  10  (dynamic): 3628800\n",
      "CPU times: total: 0 ns\n",
      "Wall time: 0 ns\n"
     ]
    }
   ],
   "source": [
    "%%time\n",
    "\n",
    "def DPfact(N):\n",
    "    arr = {}\n",
    "    arr[0] = 1\n",
    "    arr[1] = 1\n",
    "    \n",
    "    if N in arr:\n",
    "        return arr[N]\n",
    "    else:\n",
    "        for i in range(2, N+1):\n",
    "            arr[i] = i * arr[i-1]\n",
    "    \n",
    "    return arr[N]\n",
    "      \n",
    "num = 10\n",
    "\n",
    "print(\"factorial of \",num,\" (dynamic): \",end=\"\")\n",
    "print(DPfact(num))\n",
    "#print(count)"
   ]
  },
  {
   "cell_type": "code",
   "execution_count": null,
   "id": "90aad54e-4321-4ca0-8e3f-d637c68ed064",
   "metadata": {},
   "outputs": [],
   "source": []
  },
  {
   "cell_type": "code",
   "execution_count": 25,
   "id": "bd7a2a40-cc5d-4228-b9e1-7e2b7e209a48",
   "metadata": {},
   "outputs": [
    {
     "name": "stdout",
     "output_type": "stream",
     "text": [
      "[5 7 9]\n"
     ]
    }
   ],
   "source": [
    "import numpy as np\n",
    "\n",
    "a = np.array([1, 2, 3])\n",
    "b = np.array([4, 5, 6])\n",
    "c = a + b\n",
    "print(c) "
   ]
  },
  {
   "cell_type": "markdown",
   "id": "517f083a",
   "metadata": {},
   "source": [
    "### As the above code executes, think about the following questions:\n",
    "\n",
    "1. Trace the value of N as the program executes.\n",
    "2. Trace the value of arr as the program executes."
   ]
  },
  {
   "cell_type": "markdown",
   "id": "135f6878",
   "metadata": {},
   "source": [
    "## 3.4 Dynamic Programming and Big O Notation (Group):  \n",
    "\n",
    "**Write a program that will do the following:**\n",
    "\n",
    "    1. Write a program that will compute the first N Fibonacci numbers.\n",
    "    2. Write the program using dynamic programming.\n",
    "    3. Refer to excercise 3.2 for the formula if needed."
   ]
  },
  {
   "cell_type": "code",
   "execution_count": null,
   "id": "363e5a89",
   "metadata": {},
   "outputs": [],
   "source": [
    "\n"
   ]
  },
  {
   "cell_type": "markdown",
   "id": "387d5681",
   "metadata": {},
   "source": [
    "## 3.5 Try and Except Blocks (Follow):  \n",
    "\n",
    "**Learning Objectives:**\n",
    "\n",
    "    1. Understand try and except blocks\n",
    "    2. Understand how a try and except block executes\n",
    "    3. Understand the flow of a try except block"
   ]
  },
  {
   "cell_type": "code",
   "execution_count": null,
   "id": "c2cc2ae3",
   "metadata": {},
   "outputs": [],
   "source": [
    "# add comments to the code\n",
    "try:\n",
    "    a = int(input(\"Enter numerator, a:\"))\n",
    "    b = int(input(\"Enter denominator, b:\"))\n",
    "    c = a/b\n",
    "    print(f\"Result of a/b={c:.3f}\")\n",
    "    \n",
    "except ValueError:\n",
    "    print(\"Entered value must be a number. Please try again.\")\n",
    " \n",
    "except ZeroDivisionError:\n",
    "    print(\"Unable to divide by zero. Please try again.\")\n",
    "    \n",
    "else:\n",
    "    print(\"This will execute if the try executes.\")\n",
    "    \n",
    "finally:\n",
    "    print(\"This will always execute.\")"
   ]
  },
  {
   "cell_type": "markdown",
   "id": "b90b7da6",
   "metadata": {},
   "source": [
    "### As the above code executes, think about the following questions:\n",
    "\n",
    "1. Which part executes first, second, third?\n",
    "2. Under what circumstances do each of the parts execute?\n",
    "3. Where would this sort of setup be useful when programming?"
   ]
  },
  {
   "cell_type": "markdown",
   "id": "46a2393b",
   "metadata": {},
   "source": [
    "## 3.5 Try and Except Blocks (Group):  \n",
    "\n",
    "Write a program that will do the following:\n",
    "\n",
    "1. Take values of n and m from user (any input)\n",
    "2. Compute the division of nth element by mth element of given list (this may not be possible, but you need to handle that)\n",
    "3. The Program should be able to deal with all possible errors\n",
    "4. Regardless of errors, the program should print values of n and m\n",
    "5. The List to use is given below\n",
    "\n",
    "given_list = [3, 1.2 ,0,'hello',1000,(1,2),50]"
   ]
  },
  {
   "cell_type": "code",
   "execution_count": null,
   "id": "59478f5c",
   "metadata": {},
   "outputs": [],
   "source": [
    "\n"
   ]
  }
 ],
 "metadata": {
  "kernelspec": {
   "display_name": "Python 3 (ipykernel)",
   "language": "python",
   "name": "python3"
  },
  "language_info": {
   "codemirror_mode": {
    "name": "ipython",
    "version": 3
   },
   "file_extension": ".py",
   "mimetype": "text/x-python",
   "name": "python",
   "nbconvert_exporter": "python",
   "pygments_lexer": "ipython3",
   "version": "3.11.0"
  }
 },
 "nbformat": 4,
 "nbformat_minor": 5
}
