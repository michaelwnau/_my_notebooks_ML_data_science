{
 "cells": [
  {
   "cell_type": "markdown",
   "id": "91738b61",
   "metadata": {
    "id": "c3e413d5"
   },
   "source": [
    "# Workshop 4 [Student]\n",
    "\n",
    "This notebook will cover the following topics:\n",
    "\n",
    "1. Composition\n",
    "2. Encapsulation\n",
    "3. Public v/s Private\n",
    "4. Dunder Methods\n",
    "5. Inheritance\n",
    "6. Mini Project\n"
   ]
  },
  {
   "cell_type": "markdown",
   "id": "67399032",
   "metadata": {
    "id": "41e9aaec"
   },
   "source": [
    "## 4.1 COMPOSITION (Follow):  \n",
    "\n",
    "**Learning Objectives:**\n",
    "\n",
    "1. Understand what things can be placed inside objects\n",
    "2. Understand how to implement an object\n",
    "3. Understand what a program can do with those things inside objects\n",
    "4. Understand what constructors are"
   ]
  },
  {
   "cell_type": "code",
   "execution_count": 17,
   "id": "ff229155",
   "metadata": {
    "id": "4da24d64"
   },
   "outputs": [],
   "source": [
    "\"\"\"\n",
    "Add comments for you own reference\n",
    "\"\"\"\n",
    "\n",
    "class Pet:\n",
    "    def __init__(self, name, animal_type, age):\n",
    "        self.name = name \n",
    "        self.animal_type = animal_type\n",
    "        self.age = age\n",
    "        "
   ]
  },
  {
   "cell_type": "code",
   "execution_count": 18,
   "id": "64cd7937",
   "metadata": {
    "id": "af3e33de",
    "outputId": "6d0b848e-ac3d-4cc7-e0d6-d4c349d24ed2"
   },
   "outputs": [
    {
     "name": "stdout",
     "output_type": "stream",
     "text": [
      "Spot\n",
      "5\n",
      "Goldfish\n"
     ]
    }
   ],
   "source": [
    "\"\"\"\n",
    "Add comments for you own reference\n",
    "\"\"\"\n",
    "\n",
    "def main():\n",
    "    \n",
    "    age = 5\n",
    "    name = \"Spot\"\n",
    "    animal_type = \"Goldfish\"\n",
    "    \n",
    "    mypet = Pet(name, animal_type, age)\n",
    "\n",
    "    print_object(mypet)\n",
    "    \n",
    "    \n",
    "def print_object(object_name):\n",
    "    print(object_name.name)\n",
    "    print(object_name.age)\n",
    "    print(object_name.animal_type)\n",
    "    \n",
    "    \n",
    "main()"
   ]
  },
  {
   "cell_type": "markdown",
   "id": "b4c3f7b5",
   "metadata": {
    "id": "8de49e9a"
   },
   "source": [
    "### As the above code executes, think about the following questions:\n",
    "\n",
    "1. What does the __init__ function do?\n",
    "2. What does the __ in front of a vairable do?\n",
    "3. What is a class?\n",
    "4. How could you use a class in programming?"
   ]
  },
  {
   "cell_type": "markdown",
   "id": "a62520e8",
   "metadata": {
    "id": "c53381e8"
   },
   "source": [
    "## 4.1 Composition (Group): \n",
    "\n",
    "**Write a program that will do the following:**\n",
    "\n",
    "1. Implement a class car.\n",
    "2. The class car will have the following attributes: year, make, and model.\n",
    "3. The user can input the information or it may be hard coded.\n",
    "4. The program will create an object of type car and store this information.\n",
    "5. Print the information stored in the object."
   ]
  },
  {
   "cell_type": "code",
   "execution_count": 8,
   "id": "170d8999",
   "metadata": {
    "id": "012e22e3",
    "outputId": "f6dc1283-624f-4402-f806-7e4e1cbaae43"
   },
   "outputs": [
    {
     "name": "stdout",
     "output_type": "stream",
     "text": [
      "Year:  2022\n",
      "Make:  Toyota\n",
      "Model:  Camry\n"
     ]
    },
    {
     "name": "stdin",
     "output_type": "stream",
     "text": [
      "Enter the year of the car:   2022\n",
      "Enter the make of the car:  volvo\n",
      "Enter the model of the car:  c40\n"
     ]
    },
    {
     "name": "stdout",
     "output_type": "stream",
     "text": [
      "volvo\n",
      "c40\n",
      "2022\n"
     ]
    }
   ],
   "source": [
    "# Create a class called Car\n",
    "\n",
    "class Car:\n",
    "    def __init__(self, year, make, model):\n",
    "        self.year = year\n",
    "        self.make = make\n",
    "        self.model = model\n",
    "\n",
    "# Hardcoded car object\n",
    "car = Car(2022, \"Toyota\", \"Camry\")\n",
    "\n",
    "# Printing car information\n",
    "print(\"Year: \", car.year)\n",
    "print(\"Make: \", car.make)\n",
    "print(\"Model: \", car.model)\n",
    "\n",
    "def main():\n",
    "    \n",
    "    year = int(input(\"Enter the year of the car:  \"))\n",
    "    make = str(input(\"Enter the make of the car: \"))\n",
    "    model = str(input(\"Enter the model of the car: \"))\n",
    "    \n",
    "    my_car = Car(year, make, model)\n",
    "\n",
    "    print_object(my_car)\n",
    "    \n",
    "def print_object(object_name):\n",
    "    print(object_name.make)\n",
    "    print(object_name.model)\n",
    "    print(object_name.year)\n",
    "\n",
    "\n",
    "    \n",
    "    \n",
    "main()\n"
   ]
  },
  {
   "cell_type": "markdown",
   "id": "aa213e60",
   "metadata": {
    "id": "df0073c0"
   },
   "source": [
    "## 4.2 Encapsulation (Follow):\n",
    "\n",
    "**Learning Objectives:**\n",
    "\n",
    "1. Understand how functions behave inside classes\n",
    "2. Understand how to call functions on classes\n",
    "3. Understand how to manipulate date using function inside classes\n",
    "4. Understand what can and cannot be called inside functions "
   ]
  },
  {
   "cell_type": "code",
   "execution_count": 15,
   "id": "06af37ab",
   "metadata": {
    "id": "e32ec1ff"
   },
   "outputs": [],
   "source": [
    "\"\"\"\n",
    "Add comments for you own reference\n",
    "\"\"\"\n",
    "\n",
    "class BankAccount:\n",
    "\n",
    "    def __init__(self, bal):\n",
    "        self.__balance = bal \n",
    "\n",
    "    def deposit(self, amount):\n",
    "        self.__balance += amount\n",
    "\n",
    "    def withdraw(self, amount):\n",
    "        if self.__balance >= amount:\n",
    "            self.__balance -= amount\n",
    "        else:\n",
    "            print('Error: Insufficient funds')\n",
    "\n",
    "    def get_balance(self):\n",
    "        return self.__balance\n",
    "    "
   ]
  },
  {
   "cell_type": "code",
   "execution_count": 16,
   "id": "d83c2b91",
   "metadata": {
    "id": "aa637898",
    "outputId": "08a1c213-80c0-434e-d150-9358d6f193cb"
   },
   "outputs": [
    {
     "name": "stdin",
     "output_type": "stream",
     "text": [
      "Enter your starting balance:  1000\n",
      "How much were you paid this week?  1800\n"
     ]
    },
    {
     "name": "stdout",
     "output_type": "stream",
     "text": [
      "I will deposit that into your account.\n",
      "2800.0\n"
     ]
    },
    {
     "name": "stdin",
     "output_type": "stream",
     "text": [
      "How much would you like to withdraw?  1\n"
     ]
    },
    {
     "name": "stdout",
     "output_type": "stream",
     "text": [
      "I will withdraw that from your account.\n",
      "2799.0\n"
     ]
    }
   ],
   "source": [
    "\"\"\"\n",
    "Add comments for you own reference\n",
    "\"\"\"\n",
    "\n",
    "if __name__ == '__main__':\n",
    "\n",
    "    start_bal = float(input('Enter your starting balance: '))\n",
    "\n",
    "    savings = BankAccount(start_bal)\n",
    "\n",
    "    pay = float(input('How much were you paid this week? '))\n",
    "    print('I will deposit that into your account.')\n",
    "    savings.deposit(pay)\n",
    "\n",
    "    balance = savings.get_balance()\n",
    "    print(balance)\n",
    "\n",
    "    cash = float(input('How much would you like to withdraw? '))\n",
    "    print('I will withdraw that from your account.')\n",
    "    savings.withdraw(cash)\n",
    "\n",
    "    print(savings.get_balance())\n",
    "    "
   ]
  },
  {
   "cell_type": "markdown",
   "id": "bac88999",
   "metadata": {
    "id": "137bac34"
   },
   "source": [
    "### As the above code executes, think about the following questions:\n",
    "\n",
    "1. What are the \"__\" for in python?\n",
    "2. Can you directly return the balance from the account?  Explain.\n",
    "3. What does the \"if __ name __ == '__ main __':\" line do?\n",
    "4. How do you call functions inside classes?"
   ]
  },
  {
   "cell_type": "markdown",
   "id": "eda93b4d",
   "metadata": {
    "id": "0f1d2448"
   },
   "source": [
    "## 4.2 Encapsulation (Group): \n",
    "\n",
    "**Write a program that will do the following:**\n",
    "\n",
    "1. Create class information.\n",
    "2. The information class' attributes are name, address, age, and phone number.\n",
    "3. Provide methods to modify and print attributes.\n",
    "4. Outside of the class, accept input from the console to instantiate at least three information objects.  Alternatively, you may hard code these objects.  \n",
    "5. Print the contents to the screen.  "
   ]
  },
  {
   "cell_type": "code",
   "execution_count": null,
   "id": "f1bbf317-676a-4902-bea7-0dfcc5f2ab19",
   "metadata": {},
   "outputs": [],
   "source": []
  },
  {
   "cell_type": "code",
   "execution_count": 14,
   "id": "bc4b60a8",
   "metadata": {
    "id": "370bb894"
   },
   "outputs": [
    {
     "name": "stdout",
     "output_type": "stream",
     "text": [
      "Information 1:\n",
      "Name: John Doe\n",
      "Address: 123 Main St.\n",
      "Age: 30\n",
      "Phone Number: 555-555-1212\n",
      "\n",
      "Information 2:\n",
      "Name: Jane Doe\n",
      "Address: 456 Oak Ave.\n",
      "Age: 25\n",
      "Phone Number: 555-555-1213\n",
      "\n",
      "Information 3:\n",
      "Name: Jim Smith\n",
      "Address: 789 Pine Rd.\n",
      "Age: 35\n",
      "Phone Number: 555-555-1214\n",
      "\n"
     ]
    },
    {
     "name": "stdin",
     "output_type": "stream",
     "text": [
      "Enter the name of person 1:  asdasd\n",
      "Enter the address of person 1:  asdasda\n",
      "Enter the age of person 1:  111\n",
      "Enter the phone number of person 1:  asdasdasd\n",
      "Enter the name of person 2:  asdasd\n",
      "Enter the address of person 2:  asdasd\n",
      "Enter the age of person 2:  111\n",
      "Enter the phone number of person 2:  afasdf\n",
      "Enter the name of person 3:  asdfasdf\n",
      "Enter the address of person 3:  afasdf\n",
      "Enter the age of person 3:  1111\n",
      "Enter the phone number of person 3:  adfasdf\n"
     ]
    },
    {
     "name": "stdout",
     "output_type": "stream",
     "text": [
      "Information 1:\n",
      "Name: asdasd\n",
      "Address: asdasda\n",
      "Age: 111\n",
      "Phone Number: asdasdasd\n",
      "\n",
      "Information 2:\n",
      "Name: asdasd\n",
      "Address: asdasd\n",
      "Age: 111\n",
      "Phone Number: afasdf\n",
      "\n",
      "Information 3:\n",
      "Name: asdfasdf\n",
      "Address: afasdf\n",
      "Age: 1111\n",
      "Phone Number: adfasdf\n",
      "\n"
     ]
    }
   ],
   "source": [
    "class Information:\n",
    "    def __init__(self, name, address, age, phone):\n",
    "        self.name = name\n",
    "        self.address = address\n",
    "        self.age = age\n",
    "        self.phone = phone\n",
    "\n",
    "    def modify_info(self, name=None, address=None, age=None, phone=None):\n",
    "        if name is not None:\n",
    "            self.name = name\n",
    "        if address is not None:\n",
    "            self.address = address\n",
    "        if age is not None:\n",
    "            self.age = age\n",
    "        if phone is not None:\n",
    "            self.phone = phone\n",
    "\n",
    "    def print_info(self):\n",
    "        print(\"Name:\", self.name)\n",
    "        print(\"Address:\", self.address)\n",
    "        print(\"Age:\", self.age)\n",
    "        print(\"Phone Number:\", self.phone)\n",
    "\n",
    "# Hardcoded information objects\n",
    "info1 = Information(\"John Doe\", \"123 Main St.\", 30, \"555-555-1212\")\n",
    "info2 = Information(\"Jane Doe\", \"456 Oak Ave.\", 25, \"555-555-1213\")\n",
    "info3 = Information(\"Jim Smith\", \"789 Pine Rd.\", 35, \"555-555-1214\")\n",
    "\n",
    "# Printing information\n",
    "print(\"Information 1:\")\n",
    "info1.print_info()\n",
    "print()\n",
    "\n",
    "print(\"Information 2:\")\n",
    "info2.print_info()\n",
    "print()\n",
    "\n",
    "print(\"Information 3:\")\n",
    "info3.print_info()\n",
    "print()\n",
    "\n",
    "# Alternatively, get information from user input\n",
    "# information objects\n",
    "info_list = []\n",
    "for i in range(3):\n",
    "    name = input(f\"Enter the name of person {i+1}: \")\n",
    "    address = input(f\"Enter the address of person {i+1}: \")\n",
    "    age = int(input(f\"Enter the age of person {i+1}: \"))\n",
    "    phone_number = input(f\"Enter the phone number of person {i+1}: \")\n",
    "    info = Information(name, address, age, phone_number)\n",
    "    info_list.append(info)\n",
    "\n",
    "# Printing information\n",
    "for i, info in enumerate(info_list):\n",
    "    print(f\"Information {i+1}:\")\n",
    "    info.print_info()\n",
    "    print() \n",
    "\n"
   ]
  },
  {
   "cell_type": "code",
   "execution_count": null,
   "id": "065d4d44",
   "metadata": {
    "id": "6bb3392b",
    "outputId": "50d4a25f-080c-4231-e316-a0fcdf68e227"
   },
   "outputs": [],
   "source": [
    "\n"
   ]
  },
  {
   "cell_type": "markdown",
   "id": "85e90bfe",
   "metadata": {},
   "source": [
    "## 4.3 PUBLIC VS PRIVATE (Follow):\n",
    "\n",
    "**Learning Objectives:**\n",
    "\n",
    "1. Understand how public and private scope work with classes\n",
    "2. Learn how to use public and private entities\n",
    "3. Understand the requirement of private and public methods"
   ]
  },
  {
   "cell_type": "code",
   "execution_count": 15,
   "id": "ac42562d",
   "metadata": {},
   "outputs": [],
   "source": [
    "\n",
    "\"\"\"\n",
    "Add comments for you own reference\n",
    "\"\"\"\n",
    "\n",
    "class Car:\n",
    "    def __init__(self, year, color):\n",
    "        self.year = year\n",
    "        self.color = color\n",
    "        self.__engineNum = 101\n",
    "    def changeColor(self,color):\n",
    "        self.color = color \n",
    "    def __newEngine(self):\n",
    "        self.__engineNum = 202  \n",
    "    def changeEngine(self):\n",
    "        print(\"Old Engine=\", self.__engineNum)\n",
    "        self.__newEngine()\n",
    "        print(\"New Engine=\", self.__engineNum)"
   ]
  },
  {
   "cell_type": "code",
   "execution_count": 16,
   "id": "03be8175",
   "metadata": {},
   "outputs": [
    {
     "name": "stdout",
     "output_type": "stream",
     "text": [
      "2002 - Black\n",
      "2002 - Blue\n",
      "Old Engine= 101\n",
      "New Engine= 202\n",
      "['_Car__engineNum', '_Car__newEngine', '__class__', '__delattr__', '__dict__', '__dir__', '__doc__', '__eq__', '__format__', '__ge__', '__getattribute__', '__getstate__', '__gt__', '__hash__', '__init__', '__init_subclass__', '__le__', '__lt__', '__module__', '__ne__', '__new__', '__reduce__', '__reduce_ex__', '__repr__', '__setattr__', '__sizeof__', '__str__', '__subclasshook__', '__weakref__', 'changeColor', 'changeEngine', 'color', 'year']\n",
      "1\n"
     ]
    }
   ],
   "source": [
    "\"\"\"\n",
    "Add comments for you own reference\n",
    "\"\"\"\n",
    "\n",
    "car1 = Car(2002,'Black')\n",
    "print(car1.year,\"-\",car1.color)\n",
    "car1.changeColor(\"Blue\")\n",
    "print(car1.year,\"-\",car1.color)\n",
    "car1.changeEngine()\n",
    "#print(car1.__engineNum)\n",
    "\n",
    "\n",
    "print(dir(car1))\n",
    "car1._Car__engineNum = 1\n",
    "print(car1._Car__engineNum)"
   ]
  },
  {
   "cell_type": "markdown",
   "id": "f25c33ac",
   "metadata": {},
   "source": [
    "### As the above code executes, think about the following questions:\n",
    "\n",
    "1. Which methods are public and which are private?\n",
    "2. What is the use for private methods and variables?\n",
    "3. What is the difference between a public and private variable?"
   ]
  },
  {
   "cell_type": "markdown",
   "id": "47d52d1e",
   "metadata": {},
   "source": [
    "## 4.3 PUBLIC VS PRIVATE (Group):\n",
    "\n",
    "**Write a program that will do the following:**\n",
    "\n",
    "1. Create a class that is capable of catergorizing football teams.\n",
    "2. The class should have at least three attributes.\n",
    "3. All of these attributes should be private.\n",
    "4. The class should have functions to print all attributes.\n",
    "5. All functions should be public.\n",
    "6. Create three to four different team objects and print the attributes for each team."
   ]
  },
  {
   "cell_type": "code",
   "execution_count": 22,
   "id": "58555258",
   "metadata": {},
   "outputs": [
    {
     "name": "stdout",
     "output_type": "stream",
     "text": [
      "Team 1:\n",
      "Name: Manchester United\n",
      "Wins: 20\n",
      "Losses: 5\n",
      "\n",
      "Team 2:\n",
      "Name: Real Madrid\n",
      "Wins: 18\n",
      "Losses: 7\n",
      "\n",
      "Team 3:\n",
      "Name: Barcelona\n",
      "Wins: 19\n",
      "Losses: 6\n"
     ]
    }
   ],
   "source": [
    "class FootballTeam:\n",
    "    def __init__(self, name, wins, losses):\n",
    "        self.__names = name\n",
    "        self.__wins = wins\n",
    "        self.__losses = losses\n",
    "\n",
    "    def print_attributes(self):\n",
    "        print(\"Name:\", self.__names)\n",
    "        print(\"Wins:\", self.__wins)\n",
    "        print(\"Losses:\", self.__losses)\n",
    "\n",
    "team1 = FootballTeam(\"Manchester United\", 20, 5)\n",
    "team2 = FootballTeam(\"Real Madrid\", 18, 7)\n",
    "team3 = FootballTeam(\"Barcelona\", 19, 6)\n",
    "\n",
    "print(\"Team 1:\")\n",
    "team1.print_attributes()\n",
    "print(\"\\nTeam 2:\")\n",
    "team2.print_attributes()\n",
    "print(\"\\nTeam 3:\")\n",
    "team3.print_attributes()"
   ]
  },
  {
   "cell_type": "code",
   "execution_count": null,
   "id": "181b2e43",
   "metadata": {},
   "outputs": [],
   "source": []
  },
  {
   "cell_type": "markdown",
   "id": "576c8a4b",
   "metadata": {},
   "source": [
    "## 4.4 DUNDER METHODS (Follow)\n",
    "\n",
    "**Learning Objectives:**\n",
    "\n",
    "1. Understand how functions behave inside classes\n",
    "2. Understand how to call functions on classes\n",
    "3. Understand how to manipulate date using function inside classes\n",
    "4. Understand what can and cannot be called inside functions "
   ]
  },
  {
   "cell_type": "code",
   "execution_count": 1,
   "id": "6f33ea93",
   "metadata": {},
   "outputs": [
    {
     "name": "stdout",
     "output_type": "stream",
     "text": [
      "A 2002-BMW in black\n",
      "['__class__', '__delattr__', '__dict__', '__dir__', '__doc__', '__eq__', '__format__', '__ge__', '__getattribute__', '__getstate__', '__gt__', '__hash__', '__init__', '__init_subclass__', '__le__', '__lt__', '__module__', '__ne__', '__new__', '__reduce__', '__reduce_ex__', '__repr__', '__setattr__', '__sizeof__', '__str__', '__subclasshook__', '__weakref__', 'color', 'model', 'year']\n"
     ]
    }
   ],
   "source": [
    "\"\"\"\n",
    "Add comments for you own reference\n",
    "\"\"\"\n",
    "\n",
    "class Car:\n",
    "    def __init__(self, year, model, color):\n",
    "        self.year = year\n",
    "        self.model = model\n",
    "        self.color = color\n",
    "    def __str__(self):\n",
    "        return f\"A {self.year}-{self.model} in {self.color}\"\n",
    "\n",
    "this_car = Car(2002,\"BMW\",\"black\")\n",
    "print(this_car)\n",
    "print(dir(this_car))\n"
   ]
  },
  {
   "cell_type": "markdown",
   "id": "8ccd5ba6",
   "metadata": {},
   "source": [
    "**Evaluation:**\n",
    "\n",
    "After running this program, think about and answer these questions:\n",
    "\n",
    "1. What other dunder methods exist?\n",
    "2. What is the use for dunder methods?"
   ]
  },
  {
   "cell_type": "markdown",
   "id": "50b30740",
   "metadata": {},
   "source": [
    "# 4.4 DUNDER METHODS (Group)\n",
    "\n",
    "**Write a program that will do the following:**\n",
    "\n",
    "1. Create class Library\n",
    "2. All meta data about the book must be private\n",
    "3. When an object is displayed, it should display important details of a library\n",
    "    - Name\n",
    "    - Number of Books\n",
    "    - List of Books and details\n",
    "4. User should be able to add books by addBook() function of library"
   ]
  },
  {
   "cell_type": "code",
   "execution_count": 12,
   "id": "ed6d9f84",
   "metadata": {},
   "outputs": [
    {
     "name": "stdin",
     "output_type": "stream",
     "text": [
      "Enter book title:  The Master and Margarita\n",
      "Enter book author:  Misha Bulgakov\n",
      "Enter book ISBN:  14313412341234\n",
      "Enter book title:  asdfasdf\n",
      "Enter book author:  asdfasdf\n",
      "Enter book ISBN:  asdfasdf\n"
     ]
    },
    {
     "name": "stdout",
     "output_type": "stream",
     "text": [
      "Library: My Library, Number of Books: 2, Books: [{'title': 'The Master and Margarita', 'author': 'Misha Bulgakov', 'ISBN': '14313412341234'}, {'title': 'asdfasdf', 'author': 'asdfasdf', 'ISBN': 'asdfasdf'}]\n"
     ]
    }
   ],
   "source": [
    "# Models\n",
    "\n",
    "    # Create a class called `Library`\n",
    "class Library:\n",
    "    def __init__(self, name):\n",
    "        self.__name = name\n",
    "        self.__books = []\n",
    "\n",
    "    def __repr__(self):\n",
    "        return f\"Library: {self.__name}, Number of Books: {len(self.__books)}, Books: {self.__books}\"\n",
    "\n",
    "    def add_book(self):\n",
    "        title = input(\"Enter book title: \")\n",
    "        author = input(\"Enter book author: \")\n",
    "        ISBN = input(\"Enter book ISBN: \")\n",
    "        book = {\"title\": title, \"author\": author, \"ISBN\": ISBN}\n",
    "        self.__books.append(book)\n",
    "\n",
    "lib = Library(\"My Library\")\n",
    "lib.add_book()\n",
    "lib.add_book()\n",
    "print(lib)\n",
    "\n",
    "\n"
   ]
  },
  {
   "cell_type": "code",
   "execution_count": null,
   "id": "0199c945",
   "metadata": {},
   "outputs": [],
   "source": [
    "\n"
   ]
  },
  {
   "cell_type": "markdown",
   "id": "fc469214",
   "metadata": {
    "id": "b9f5681d"
   },
   "source": [
    "## 4.5 INHERITANCE (Follow):  \n",
    "\n",
    "**Learning Objectives:**\n",
    "\n",
    "1. Understand how inheritance works\n",
    "2. Understand how to declare inheritance\n",
    "3. Understand what is inherited by a class"
   ]
  },
  {
   "cell_type": "code",
   "execution_count": null,
   "id": "0eb6d562",
   "metadata": {
    "id": "a386b86c"
   },
   "outputs": [],
   "source": [
    "\"\"\"\n",
    "Add comments for you own reference\n",
    "\"\"\"\n",
    "\n",
    "class Automobile:\n",
    "    \n",
    "    def __init__(self, make, model, mileage, price):\n",
    "        self.__make = make\n",
    "        self.__model = model\n",
    "        self.__mileage = mileage\n",
    "        self.__price = price\n",
    "\n",
    "    \n",
    "    def set_make(self, make):\n",
    "        self.__make = make\n",
    "\n",
    "    def set_model(self, model):\n",
    "        self.__model = model\n",
    "\n",
    "    def set_mileage(self, mileage):\n",
    "        self.__mileage = mileage\n",
    "\n",
    "    def set_price(self, price):\n",
    "        self.__price = price\n",
    "\n",
    "    \n",
    "    def get_make(self):\n",
    "        return self.__make\n",
    "\n",
    "    def get_model(self):\n",
    "        return self.__model\n",
    "\n",
    "    def get_mileage(self):\n",
    "        return self.__mileage\n",
    "\n",
    "    def get_price(self):\n",
    "        return self.__price\n"
   ]
  },
  {
   "cell_type": "code",
   "execution_count": null,
   "id": "d0fda477",
   "metadata": {
    "id": "7q6wI8HygYO8"
   },
   "outputs": [],
   "source": [
    "\"\"\"\n",
    "Add comments for you own reference\n",
    "\"\"\"\n",
    "\n",
    "class Car(Automobile):\n",
    "    \n",
    "    def __init__(self, make, model, mileage, price, doors):\n",
    "\n",
    "        Automobile.__init__(self, make, model, mileage, price)\n",
    "        self.__doors = doors\n",
    "\n",
    "    \n",
    "    def set_doors(self, doors):\n",
    "        self.__doors = doors\n",
    "\n",
    "    def get_doors(self):\n",
    "        return self.__doors\n",
    "    \n",
    "    #def get_make(self):\n",
    "     #   return self.__make\n"
   ]
  },
  {
   "cell_type": "code",
   "execution_count": null,
   "id": "918e0b42",
   "metadata": {
    "id": "uCYc3kZ3giy7"
   },
   "outputs": [],
   "source": [
    "\"\"\"\n",
    "Add comments for you own reference\n",
    "\"\"\"\n",
    "\n",
    "class Truck(Automobile):\n",
    "    \n",
    "    def __init__(self, make, model, mileage, price, drive_type):\n",
    "        Automobile.__init__(self, make, model, mileage, price)\n",
    "        \n",
    "        self.__drive_type = drive_type\n",
    "\n",
    "    \n",
    "    def set_drive_type(self, drive_type):\n",
    "        self.__drive_type = drive_type\n",
    "\n",
    "    def get_drive_type(self):\n",
    "        return self.__drive_type\n"
   ]
  },
  {
   "cell_type": "code",
   "execution_count": null,
   "id": "8082f33e",
   "metadata": {
    "id": "XePI46Evgqbv"
   },
   "outputs": [],
   "source": [
    "\"\"\"\n",
    "Add comments for you own reference\n",
    "\"\"\"\n",
    "\n",
    "class SUV(Automobile):\n",
    "    \n",
    "    def __init__(self, make, model, mileage, price, pass_cap):\n",
    "        Automobile.__init__(self, make, model, mileage, price)\n",
    "        \n",
    "        self.__pass_cap = pass_cap\n",
    "\n",
    "    \n",
    "    def set_pass_cap(self, pass_cap):\n",
    "        self.__pass_cap = pass_cap\n",
    "\n",
    "    def get_pass_cap(self):\n",
    "        return self.__pass_cap"
   ]
  },
  {
   "cell_type": "code",
   "execution_count": null,
   "id": "edf2bca1",
   "metadata": {
    "id": "2cc062ca"
   },
   "outputs": [],
   "source": [
    "\"\"\"\n",
    "Add comments for you own reference\n",
    "\"\"\"\n",
    "\n",
    "used_car = Car('Audi', 2007, 12500, 21500.00, 4)\n",
    "\n",
    "print('Make:', used_car.get_make())\n",
    "print('Model:', used_car.get_model())\n",
    "print('Mileage:', used_car.get_mileage())\n",
    "print('Price:', used_car.get_price())\n",
    "print('Number of doors:', used_car.get_doors())\n",
    "\n",
    "print(dir(used_car))\n"
   ]
  },
  {
   "cell_type": "markdown",
   "id": "896760e1",
   "metadata": {
    "id": "dQaOC50_hhvk"
   },
   "source": [
    "### As the above code executes, think about the following questions:\n",
    "\n",
    "1. Create objects for the truck and SUV classes for the above code.\n",
    "2. Print the information for each created object.\n",
    "3. What does putting Automobile in parenthesis do? "
   ]
  },
  {
   "cell_type": "markdown",
   "id": "6e3f529a",
   "metadata": {
    "id": "ff0066ba"
   },
   "source": [
    "# 4.5 Inheritance (Group):  \n",
    "\n",
    "**Write a program that will do the following:**\n",
    "\n",
    "1. Create a savings account base class.\n",
    "2. Create a class CD which inherits class savings.\n",
    "3. The savings class should contain account number, interest rate, and balance.\n",
    "4. CD class should contain maturity date along with all inherited attributes.\n",
    "5. Both classes should have functions to access and change all attributes.\n",
    "6. Write some code to access and change the attributes."
   ]
  },
  {
   "cell_type": "code",
   "execution_count": 20,
   "id": "bfd25b84",
   "metadata": {
    "executionInfo": {
     "elapsed": 4,
     "status": "ok",
     "timestamp": 1643218896122,
     "user": {
      "displayName": "Travis Martin",
      "photoUrl": "https://lh3.googleusercontent.com/a/default-user=s64",
      "userId": "17005528951968776844"
     },
     "user_tz": 360
    },
    "id": "ab1742b9"
   },
   "outputs": [
    {
     "name": "stdout",
     "output_type": "stream",
     "text": [
      "Savings Account Number:  12345\n",
      "Savings Interest Rate:  0.05\n",
      "Savings Balance:  1000\n",
      "CD Account Number:  67890\n",
      "CD Interest Rate:  0.1\n",
      "CD Balance:  5000\n",
      "CD Maturity Date:  2025-12-31\n"
     ]
    },
    {
     "name": "stdin",
     "output_type": "stream",
     "text": [
      "Enter an amount to be added to the savings account balance:  500\n"
     ]
    },
    {
     "name": "stdout",
     "output_type": "stream",
     "text": [
      "Savings Account Number:  12345\n",
      "Savings Interest Rate:  0.05\n",
      "Savings Balance:  1500\n",
      "CD Account Number:  67890\n",
      "CD Interest Rate:  0.1\n",
      "CD Balance:  5000\n",
      "CD Maturity Date:  2025-12-31\n"
     ]
    }
   ],
   "source": [
    "class Savings:\n",
    "    def __init__(self, account_number, interest_rate, balance):\n",
    "        self.__account_number = account_number\n",
    "        self.__interest_rate = interest_rate\n",
    "        self.__balance = balance\n",
    "\n",
    "    def get_account_number(self):\n",
    "        return self.__account_number\n",
    "    \n",
    "    def get_interest_rate(self):\n",
    "        return self.__interest_rate\n",
    "    \n",
    "    def get_balance(self):\n",
    "        return self.__balance\n",
    "    \n",
    "    def set_balance(self, balance):\n",
    "        self.__balance = balance\n",
    "\n",
    "class CD(Savings):\n",
    "    def __init__(self, account_number, interest_rate, balance, maturity_date):\n",
    "        Savings.__init__(self, account_number, interest_rate, balance)\n",
    "        self.__maturity_date = maturity_date\n",
    "    \n",
    "    def get_maturity_date(self):\n",
    "        return self.__maturity_date\n",
    "    \n",
    "    def set_maturity_date(self, maturity_date):\n",
    "        self.__maturity_date = maturity_date\n",
    "\n",
    "savings_account = Savings(12345, 0.05, 1000)\n",
    "cd_account = CD(67890, 0.1, 5000, \"2025-12-31\")\n",
    "\n",
    "print(\"Savings Account Number: \", savings_account.get_account_number())\n",
    "print(\"Savings Interest Rate: \", savings_account.get_interest_rate())\n",
    "print(\"Savings Balance: \", savings_account.get_balance())\n",
    "\n",
    "print(\"CD Account Number: \", cd_account.get_account_number())\n",
    "print(\"CD Interest Rate: \", cd_account.get_interest_rate())\n",
    "print(\"CD Balance: \", cd_account.get_balance())\n",
    "print(\"CD Maturity Date: \", cd_account.get_maturity_date())\n",
    "\n",
    "amount = int(input(\"Enter an amount to be added to the savings account balance: \"))\n",
    "savings_account.set_balance(savings_account.get_balance() + amount)\n",
    "\n",
    "print(\"Savings Account Number: \", savings_account.get_account_number())\n",
    "print(\"Savings Interest Rate: \", savings_account.get_interest_rate())\n",
    "print(\"Savings Balance: \", savings_account.get_balance())\n",
    "\n",
    "print(\"CD Account Number: \", cd_account.get_account_number())\n",
    "print(\"CD Interest Rate: \", cd_account.get_interest_rate())\n",
    "print(\"CD Balance: \", cd_account.get_balance())\n",
    "print(\"CD Maturity Date: \", cd_account.get_maturity_date())\n",
    "\n",
    "\n"
   ]
  },
  {
   "cell_type": "code",
   "execution_count": null,
   "id": "29654b20",
   "metadata": {
    "executionInfo": {
     "elapsed": 406,
     "status": "ok",
     "timestamp": 1643218901215,
     "user": {
      "displayName": "Travis Martin",
      "photoUrl": "https://lh3.googleusercontent.com/a/default-user=s64",
      "userId": "17005528951968776844"
     },
     "user_tz": 360
    },
    "id": "bWN9I3ndeLh7"
   },
   "outputs": [],
   "source": [
    "\n"
   ]
  },
  {
   "cell_type": "code",
   "execution_count": null,
   "id": "9b9b9da4",
   "metadata": {
    "colab": {
     "base_uri": "https://localhost:8080/"
    },
    "executionInfo": {
     "elapsed": 41205,
     "status": "ok",
     "timestamp": 1643218945139,
     "user": {
      "displayName": "Travis Martin",
      "photoUrl": "https://lh3.googleusercontent.com/a/default-user=s64",
      "userId": "17005528951968776844"
     },
     "user_tz": 360
    },
    "id": "3779d26c",
    "outputId": "68e7a265-18f0-41cd-ce13-f22a48bfa8c4"
   },
   "outputs": [],
   "source": [
    "\n"
   ]
  },
  {
   "cell_type": "markdown",
   "id": "71a1fabb",
   "metadata": {
    "id": "Lv4WoegwSfcq"
   },
   "source": [
    "## Week 4 MINI PROJECT\n",
    "\n",
    "The project should be created to be useful in your life.  Here are some guidelines for the project.\n",
    "\n",
    "1. Create a class employee.\n",
    "2. Class employee should contain 2 to 3 attributes.\n",
    "3. Create 1-2 other classes that inherit employee class.\n",
    "4. Each of the sub classes should have 2-3 attributes.\n",
    "5. Make sure to write functions that can both change and print attributes."
   ]
  },
  {
   "cell_type": "code",
   "execution_count": 28,
   "id": "5b4bae5b",
   "metadata": {
    "executionInfo": {
     "elapsed": 155,
     "status": "ok",
     "timestamp": 1643222178342,
     "user": {
      "displayName": "Travis Martin",
      "photoUrl": "https://lh3.googleusercontent.com/a/default-user=s64",
      "userId": "17005528951968776844"
     },
     "user_tz": 360
    },
    "id": "4evC8OBxTUsd"
   },
   "outputs": [],
   "source": [
    "# Create a class called employee\n",
    "class Employee:\n",
    "    def __init__(self, name, employee_id, hire_date, department):\n",
    "        self.__name = name\n",
    "        self.__employee_id = employee_id\n",
    "        self.__hire_date = hire_date\n",
    "        self.__department = department\n",
    "        \n",
    "    def get_name(self):\n",
    "        return self.__account\n",
    "    def set_name(self, name):\n",
    "        self.__name\n",
    "        \n",
    "    def get_employee_id(self):\n",
    "        return self.__employee_id\n",
    "    def set_employee_id(self, employee_id):\n",
    "        self.__employee_id\n",
    "    \n",
    "    def get_hire_date(self):\n",
    "        return self.__hire_date\n",
    "    def set_hire_date(self, hire_date):\n",
    "        self.__hire_date\n",
    "        \n",
    "    def get_department(self):\n",
    "        return self.__department\n",
    "    def set_department(self, department):\n",
    "        self.__department\n",
    "        \n",
    "class Manager(Employee):\n",
    "    def __init__(self, name, employee_id, hire_date, department, num_of_employees):\n",
    "        super().__init__(name, employee_id, hire_date, department)\n",
    "        self.__num_of_employees = num_of_employees\n",
    "        \n",
    "    def get_num_of_employees(self):\n",
    "        return self.__num_of_employees\n",
    "    def set_num_of_employees(self, num_of_employees):\n",
    "        self.__num_of_employees = num_of_employees\n",
    "        \n",
    "class Engineer(Employee):\n",
    "    def __init__(self, name, employee_id, hire_date, department, skill_set):\n",
    "        super().__init__(name, employee_id, hire_date, department)\n",
    "        self.__skill_set = skill_set\n",
    "        \n",
    "    def get_skill_set(self):\n",
    "        return self.__skill_set\n",
    "    def set_skill_set(self, skill_set):\n",
    "        self.__skill_set = skill_set   \n",
    "\n",
    "# User input to add an employee\n",
    "# def add_employee(self, name, employee_id, hire_date, department, manager=None, skillset=[]):\n",
    "#     new_employee = Employee(name, employee_id, hire_date, department)\n",
    "#     self.employee_list.append(new_employee)\n",
    "    \n",
    "#     if manager:\n",
    "#         new_manager = Manager(name, employee_id, hire_date, department, manager)\n",
    "#         self.manager_list.append(new_manager)\n",
    "#     if skillset:\n",
    "#         new_engineer = Engineer(name, employee_id, hire_date, department, skillset)\n",
    "#         self.engineer_list.append(new_engineer)\n",
    "#     if __name__ == \"__main__\":\n",
    "#         company = Company()\n",
    "#         while True:\n",
    "#             user_input = input(\"Enter 'a' to add an employee, 'q' to quit: \")\n",
    "#             if user_input.lower() == 'a':\n",
    "#                 name = input(\"Enter name: \")\n",
    "#                 employee_id = input(\"Enter employee ID: \")\n",
    "#                 hire_date = input(\"Enter hire date (yyyy-mm-dd): \")\n",
    "#                 department = input(\"Enter department: \")\n",
    "#                 manager = input(\"Enter manager (if applicable): \") or None\n",
    "#                 skillset = input(\"Enter skillset (if applicable, separated by commas): \").split(',') or []\n",
    "#                 company.add_employee(name, employee_id, hire_date, department, manager, skillset)\n",
    "#             elif user_input.lower() == 'q':\n",
    "#                 break"
   ]
  },
  {
   "cell_type": "code",
   "execution_count": null,
   "id": "7de08046",
   "metadata": {
    "executionInfo": {
     "elapsed": 164,
     "status": "ok",
     "timestamp": 1643222303421,
     "user": {
      "displayName": "Travis Martin",
      "photoUrl": "https://lh3.googleusercontent.com/a/default-user=s64",
      "userId": "17005528951968776844"
     },
     "user_tz": 360
    },
    "id": "OY70eOxeqjyv"
   },
   "outputs": [],
   "source": [
    "\n"
   ]
  },
  {
   "cell_type": "code",
   "execution_count": null,
   "id": "a7932885",
   "metadata": {
    "colab": {
     "base_uri": "https://localhost:8080/"
    },
    "executionInfo": {
     "elapsed": 6633,
     "status": "ok",
     "timestamp": 1643222312321,
     "user": {
      "displayName": "Travis Martin",
      "photoUrl": "https://lh3.googleusercontent.com/a/default-user=s64",
      "userId": "17005528951968776844"
     },
     "user_tz": 360
    },
    "id": "sMUtesyxqnCX",
    "outputId": "1d9d149f-fb69-47af-d962-535336147288"
   },
   "outputs": [],
   "source": [
    "\n"
   ]
  }
 ],
 "metadata": {
  "colab": {
   "collapsed_sections": [],
   "name": "WSK Week 4 Solutions.ipynb",
   "provenance": []
  },
  "kernelspec": {
   "display_name": "Python 3 (ipykernel)",
   "language": "python",
   "name": "python3"
  },
  "language_info": {
   "codemirror_mode": {
    "name": "ipython",
    "version": 3
   },
   "file_extension": ".py",
   "mimetype": "text/x-python",
   "name": "python",
   "nbconvert_exporter": "python",
   "pygments_lexer": "ipython3",
   "version": "3.11.0"
  }
 },
 "nbformat": 4,
 "nbformat_minor": 5
}
