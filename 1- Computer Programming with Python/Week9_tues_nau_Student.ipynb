{
  "cells": [
    {
      "cell_type": "markdown",
      "metadata": {
        "id": "view-in-github",
        "colab_type": "text"
      },
      "source": [
        "<a href=\"https://colab.research.google.com/github/michaelwnau/_ai_academy_notebooks/blob/main/Week9_tues_nau_Student.ipynb\" target=\"_parent\"><img src=\"https://colab.research.google.com/assets/colab-badge.svg\" alt=\"Open In Colab\"/></a>"
      ]
    },
    {
      "cell_type": "markdown",
      "metadata": {
        "id": "ZRKhZFPDZ7vO"
      },
      "source": [
        "# Workshop 9 [Student]\n",
        "\n",
        "This notebook will cover the following topics:\n",
        "\n",
        "1. Series\n",
        "    - Indexing\n",
        "    - Modification\n",
        "2. Dataframe\n",
        "    - Read CSV to Dataframe\n",
        "    - Informative Functions\n",
        "    - Modification Functions\n",
        "    - Selection Functions\n",
        "4. Handling Missing Data"
      ]
    },
    {
      "cell_type": "code",
      "source": [
        "from google.colab import drive\n",
        "drive.mount('/content/drive/')"
      ],
      "metadata": {
        "colab": {
          "base_uri": "https://localhost:8080/"
        },
        "id": "xreRTQnqaF4F",
        "outputId": "5f3c1535-6eb6-4201-897e-84afa252d9fe"
      },
      "execution_count": 32,
      "outputs": [
        {
          "output_type": "stream",
          "name": "stdout",
          "text": [
            "Drive already mounted at /content/drive/; to attempt to forcibly remount, call drive.mount(\"/content/drive/\", force_remount=True).\n"
          ]
        }
      ]
    },
    {
      "cell_type": "markdown",
      "metadata": {
        "id": "xjaDn_6qZ7vQ"
      },
      "source": [
        "## 9.1 SERIES (Follow)\n",
        "\n",
        "**Learning Objectives:**\n",
        "\n",
        "1. Understand Series in Pandas.\n",
        "2. Understand attributes of Series.\n",
        "3. Understand modification functions for Series.\n",
        "4. Manipulate data using Series."
      ]
    },
    {
      "cell_type": "code",
      "execution_count": null,
      "metadata": {
        "colab": {
          "base_uri": "https://localhost:8080/"
        },
        "id": "c-OkqRp9Z7vQ",
        "outputId": "e47fa1c3-5d81-4a22-82e5-3eff5291652d"
      },
      "outputs": [
        {
          "output_type": "stream",
          "name": "stdout",
          "text": [
            "A    40\n",
            "B    50\n",
            "C    60\n",
            "Name: Values, dtype: int64 \n",
            "\n",
            "50 \n",
            "\n",
            "B    50\n",
            "C    60\n",
            "Name: Values, dtype: int64 \n",
            "\n",
            "60 \n",
            "\n"
          ]
        }
      ],
      "source": [
        "\"\"\"\n",
        "Add comments for you own reference\n",
        "\"\"\"\n",
        "\n",
        "import pandas as pd\n",
        "s = pd.Series([40, 50, 60])\n",
        "s.index = ['A','B','C']\n",
        "s.name = 'Values'\n",
        "print(s,\"\\n\")\n",
        "print(s['B'],\"\\n\")\n",
        "print(s[1:],\"\\n\")\n",
        "print(s[-1],\"\\n\")"
      ]
    },
    {
      "cell_type": "code",
      "execution_count": null,
      "metadata": {
        "colab": {
          "base_uri": "https://localhost:8080/"
        },
        "id": "4gpxAZwUZ7vR",
        "outputId": "5aca6d40-608a-4b57-c12c-fd0471412922"
      },
      "outputs": [
        {
          "output_type": "stream",
          "name": "stdout",
          "text": [
            "A    10\n",
            "B    50\n",
            "C    60\n",
            "Name: Values, dtype: int64\n",
            "X    10\n",
            "B    50\n",
            "C    60\n",
            "Name: Values, dtype: int64\n",
            "X    10\n",
            "B    50\n",
            "C    60\n",
            "Name: Values, dtype: int64\n"
          ]
        }
      ],
      "source": [
        "\"\"\"\n",
        "Add comments for you own reference\n",
        "\"\"\"\n",
        "\n",
        "s.update(pd.Series([10], index=['A']))\n",
        "print(s)\n",
        "s.rename({'A': 'X'},inplace=True)\n",
        "print(s)\n",
        "s.replace(20,15,inplace=True)\n",
        "print(s)"
      ]
    },
    {
      "cell_type": "markdown",
      "metadata": {
        "id": "2dyYKg1AZ7vR"
      },
      "source": [
        "**Evaluation:**\n",
        "\n",
        "After running this program, think about and answer these questions:\n",
        "\n",
        "1. What is the use of Index and Name?\n",
        "2. Try to understand how slicing works in Series.\n",
        "3. What does the update() function do?\n",
        "3. What does the rename() function do?\n",
        "3. What does the replace() function do?"
      ]
    },
    {
      "cell_type": "markdown",
      "metadata": {
        "id": "2i22sP3hZ7vR"
      },
      "source": [
        "## 9.1 SERIES (Group)\n",
        "\n",
        "Write a program that will do the following:\n",
        "\n",
        "1. Generate a series of grades for 10 Students (referenced by student ID)\n",
        "2. Add a 10 point boost to all grades\n",
        "3. Change the student IDs to contain a prefix ST\n",
        "4. Replace all grades below 50 to 0"
      ]
    },
    {
      "cell_type": "code",
      "execution_count": 53,
      "metadata": {
        "id": "F1bl1Uv_Z7vR",
        "colab": {
          "base_uri": "https://localhost:8080/"
        },
        "outputId": "79ec6b9d-89eb-480b-c632-996a1c6cabfd"
      },
      "outputs": [
        {
          "output_type": "stream",
          "name": "stdout",
          "text": [
            "STID1      85\n",
            "STID2      70\n",
            "STID3      95\n",
            "STID4      55\n",
            "STID5      65\n",
            "STID6     100\n",
            "STID7      80\n",
            "STID8      90\n",
            "STID9      60\n",
            "STID10     75\n",
            "STID11     67\n",
            "dtype: int64\n"
          ]
        }
      ],
      "source": [
        "import pandas as pd\n",
        "\n",
        "# Generate a dictionary of student IDs and their corresponding grades\n",
        "grades = {'ID1': 75, 'ID2': 60, 'ID3': 85, 'ID4': 45, 'ID5': 55,\n",
        "          'ID6': 90, 'ID7': 70, 'ID8': 80, 'ID9': 50, 'ID10': 65, 'ID11':57}\n",
        "\n",
        "# Convert the dictionary to a Pandas Series\n",
        "g = pd.Series(grades)\n",
        "\n",
        "# Add a 10 point boost to all grades\n",
        "g_new = g + 10\n",
        "\n",
        "# Change the student IDs to contain a prefix ST\n",
        "g_new.index = ['STID' + str(i) for i in range(1, 12)]\n",
        "\n",
        "# Replace all grades below 50 to 0\n",
        "g_new[g_new < 50] = 0\n",
        "\n",
        "# Print the final series of grades\n",
        "print(g_new)\n"
      ]
    },
    {
      "cell_type": "markdown",
      "metadata": {
        "id": "1xcd26rFZ7vR"
      },
      "source": [
        "## 9.2 DATAFRAME (Follow)\n",
        "\n",
        "**Learning Objectives:**\n",
        "\n",
        "1. Understand Dataframe in Pandas.\n",
        "2. Understand attributes of a Dataframe."
      ]
    },
    {
      "cell_type": "code",
      "execution_count": null,
      "metadata": {
        "colab": {
          "base_uri": "https://localhost:8080/"
        },
        "id": "QvDeVdPPZ7vR",
        "outputId": "9462ae00-7c04-4638-8c2d-eff7a197e3d0"
      },
      "outputs": [
        {
          "output_type": "stream",
          "name": "stdout",
          "text": [
            "    0\n",
            "0  10\n",
            "1  20\n",
            "2  30\n",
            "<class 'pandas.core.frame.DataFrame'>\n",
            "  Name  Age\n",
            "0    A   10\n",
            "1    B   20\n",
            "2    C   30\n",
            "<class 'numpy.int64'>\n"
          ]
        }
      ],
      "source": [
        "\"\"\"\n",
        "Add comments for you own reference\n",
        "\"\"\"\n",
        "\n",
        "import pandas as pd\n",
        "\n",
        "df = pd.DataFrame([10,20,30])\n",
        "print(df)\n",
        "print(type(df))\n",
        "\n",
        "df = pd.DataFrame({'Name':['A','B','C'],'Age':[10,20,30]})\n",
        "print(df)\n",
        "print(type(df['Age'][0]))\n"
      ]
    },
    {
      "cell_type": "code",
      "execution_count": null,
      "metadata": {
        "colab": {
          "base_uri": "https://localhost:8080/"
        },
        "id": "v_xU8vQ1Z7vR",
        "outputId": "808bc8f0-049e-4aa0-a7fa-762a97131849"
      },
      "outputs": [
        {
          "output_type": "stream",
          "name": "stdout",
          "text": [
            "     A          B    C  D      E    F\n",
            "0  1.0 2022-01-02  1.0  3   test  foo\n",
            "1  1.0 2022-01-02  1.0  3  train  foo\n",
            "2  1.0 2022-01-02  1.0  3   test  foo\n",
            "3  1.0 2022-01-02  1.0  3  train  foo\n",
            "<class 'str'>\n"
          ]
        }
      ],
      "source": [
        "\"\"\"\n",
        "Add comments for you own reference\n",
        "\"\"\"\n",
        "\n",
        "import pandas as pd\n",
        "import numpy as np\n",
        "\n",
        "df = pd.DataFrame(\n",
        "{\n",
        "        \"A\": 1.0,\n",
        "        \"B\": pd.Timestamp(\"20220102\"),\n",
        "        \"C\": pd.Series(1, index=list(range(4)), dtype=\"float32\"),\n",
        "        \"D\": np.array([3] * 4, dtype=\"int32\"),\n",
        "        \"E\": pd.Categorical([\"test\", \"train\", \"test\", \"train\"]),\n",
        "        \"F\": \"foo\"\n",
        " })\n",
        "print(df)\n",
        "print(type(df['E'][0]))"
      ]
    },
    {
      "cell_type": "markdown",
      "metadata": {
        "id": "O0SHd6GVZ7vS"
      },
      "source": [
        "**Evaluation:**\n",
        "\n",
        "After running this program, think about and answer these questions:\n",
        "\n",
        "1. How many dimentions does a dataframe have?\n",
        "2. How to Convert List into Dataframe?\n",
        "3. What types of data can a dataframe hold?\n",
        "4. How does Dataframe index its elements?"
      ]
    },
    {
      "cell_type": "markdown",
      "metadata": {
        "id": "xLIXF9MSZ7vS"
      },
      "source": [
        "## 9.2 DATAFRAME (Group)\n",
        "\n",
        "**Write a program that will do the following:**\n",
        "\n",
        "1. Create a dataframe with employees, job title, salary, and years worked.\n",
        "2. There should be at least 5 entries.\n",
        "3. Add indexes to the rows so when you print the dataframe it will display properly.\n",
        "4. Try exploring the pandas library writing commands from the library.\n",
        "5. You may be asked to share things you did."
      ]
    },
    {
      "cell_type": "code",
      "execution_count": 56,
      "metadata": {
        "id": "g_RhzfgOZ7vS",
        "colab": {
          "base_uri": "https://localhost:8080/"
        },
        "outputId": "1bf36a1e-9ec4-4048-d7cd-4757c240525a"
      },
      "outputs": [
        {
          "output_type": "stream",
          "name": "stdout",
          "text": [
            "  Employees   Job title  Salary  Years worked\n",
            "0      John       Sales   78000             2\n",
            "1     Sally    Engineer   92000             4\n",
            "2       Bob  Accounting  108000             6\n",
            "3     Diane      Design  138000             8\n",
            "<class 'pandas.core.frame.DataFrame'>\n",
            "  Employees   Job title  Salary  Years worked\n",
            "0      John       Sales   78000             2\n",
            "1     Sally    Engineer   92000             4\n",
            "2       Bob  Accounting  108000             6\n",
            "3     Diane      Design  138000             8\n",
            "<class 'str'>\n"
          ]
        }
      ],
      "source": [
        "\"\"\"\n",
        "Add comments for you own reference\n",
        "\"\"\"\n",
        "\n",
        "import pandas as pd\n",
        "\n",
        "print(df)\n",
        "print(type(df))\n",
        "\n",
        "df = pd.DataFrame(\n",
        "    {\n",
        "    'Employees':['John','Sally','Bob','Diane'],\n",
        "    'Job title':['Sales','Engineer','Accounting', 'Design'], \n",
        "    'Salary':[ 78000,92000,108000,138000,], \n",
        "    'Years worked':[2, 4, 6, 8]\n",
        "    })\n",
        "print(df)\n",
        "print(type(df['Employees'][0]))\n"
      ]
    },
    {
      "cell_type": "markdown",
      "metadata": {
        "id": "TQCJvQCIZ7vS"
      },
      "source": [
        "## 9.3 READING a CSV (Follow)\n",
        "1. Learn to import CSV in dataframe.\n",
        "2. Understand Descriptive functions for Dataframe.\n",
        "3. Understand Modification functions for Dataframe.\n",
        "4. Understand Selection functions for Dataframe.\n",
        "5. Manipulate data using Dataframe."
      ]
    },
    {
      "cell_type": "code",
      "execution_count": 11,
      "metadata": {
        "colab": {
          "base_uri": "https://localhost:8080/"
        },
        "id": "_MmB7KHYZ7vS",
        "outputId": "f424d405-fc73-43e1-f920-5a671645adff"
      },
      "outputs": [
        {
          "output_type": "stream",
          "name": "stdout",
          "text": [
            "      Id  SepalLengthCm  SepalWidthCm  PetalLengthCm  PetalWidthCm  \\\n",
            "0      1            5.1           3.5            1.4           0.2   \n",
            "1      2            4.9           3.0            1.4           0.2   \n",
            "2      3            4.7           3.2            1.3           0.2   \n",
            "3      4            4.6           3.1            1.5           0.2   \n",
            "4      5            5.0           3.6            1.4           0.2   \n",
            "..   ...            ...           ...            ...           ...   \n",
            "145  146            6.7           3.0            5.2           2.3   \n",
            "146  147            6.3           2.5            5.0           1.9   \n",
            "147  148            6.5           3.0            5.2           2.0   \n",
            "148  149            6.2           3.4            5.4           2.3   \n",
            "149  150            5.9           3.0            5.1           1.8   \n",
            "\n",
            "            Species  \n",
            "0       Iris-setosa  \n",
            "1       Iris-setosa  \n",
            "2       Iris-setosa  \n",
            "3       Iris-setosa  \n",
            "4       Iris-setosa  \n",
            "..              ...  \n",
            "145  Iris-virginica  \n",
            "146  Iris-virginica  \n",
            "147  Iris-virginica  \n",
            "148  Iris-virginica  \n",
            "149  Iris-virginica  \n",
            "\n",
            "[150 rows x 6 columns]\n"
          ]
        }
      ],
      "source": [
        "\"\"\"\n",
        "Add comments for you own reference\n",
        "\"\"\"\n",
        "\n",
        "import pandas as pd\n",
        "\n",
        "df = pd.read_csv(\"/content/drive/MyDrive/AI ACADEMY/1- Computer Programming with Python/Week 9 - Notebooks/week9 student/Iris.csv\")\n",
        "print(df)"
      ]
    },
    {
      "cell_type": "code",
      "execution_count": 12,
      "metadata": {
        "id": "sHtX6f_XZ7vS",
        "colab": {
          "base_uri": "https://localhost:8080/"
        },
        "outputId": "9799d5a5-3e04-435c-9507-0b6d50e4b0dc"
      },
      "outputs": [
        {
          "output_type": "stream",
          "name": "stdout",
          "text": [
            "(150, 6)\n"
          ]
        }
      ],
      "source": [
        "print(df.shape)"
      ]
    },
    {
      "cell_type": "code",
      "execution_count": 13,
      "metadata": {
        "id": "kLsv4PQ8Z7vT",
        "colab": {
          "base_uri": "https://localhost:8080/"
        },
        "outputId": "506a4408-0267-43ac-d531-24a7696855d0"
      },
      "outputs": [
        {
          "output_type": "stream",
          "name": "stdout",
          "text": [
            "   Id  SepalLengthCm  SepalWidthCm  PetalLengthCm  PetalWidthCm      Species\n",
            "0   1            5.1           3.5            1.4           0.2  Iris-setosa\n",
            "1   2            4.9           3.0            1.4           0.2  Iris-setosa\n",
            "2   3            4.7           3.2            1.3           0.2  Iris-setosa\n",
            "3   4            4.6           3.1            1.5           0.2  Iris-setosa\n",
            "4   5            5.0           3.6            1.4           0.2  Iris-setosa\n"
          ]
        }
      ],
      "source": [
        "print(df.head())"
      ]
    },
    {
      "cell_type": "code",
      "execution_count": 14,
      "metadata": {
        "id": "6W5DOKawZ7vT",
        "colab": {
          "base_uri": "https://localhost:8080/"
        },
        "outputId": "ca870a51-086c-4cc2-d623-aafad0ea48dd"
      },
      "outputs": [
        {
          "output_type": "stream",
          "name": "stdout",
          "text": [
            "      Id  SepalLengthCm  SepalWidthCm  PetalLengthCm  PetalWidthCm  \\\n",
            "145  146            6.7           3.0            5.2           2.3   \n",
            "146  147            6.3           2.5            5.0           1.9   \n",
            "147  148            6.5           3.0            5.2           2.0   \n",
            "148  149            6.2           3.4            5.4           2.3   \n",
            "149  150            5.9           3.0            5.1           1.8   \n",
            "\n",
            "            Species  \n",
            "145  Iris-virginica  \n",
            "146  Iris-virginica  \n",
            "147  Iris-virginica  \n",
            "148  Iris-virginica  \n",
            "149  Iris-virginica  \n"
          ]
        }
      ],
      "source": [
        "print(df.tail())"
      ]
    },
    {
      "cell_type": "code",
      "execution_count": 16,
      "metadata": {
        "id": "9xl7RiJ2Z7vT",
        "colab": {
          "base_uri": "https://localhost:8080/"
        },
        "outputId": "bc023928-870f-476c-f9ac-a6343d11536d"
      },
      "outputs": [
        {
          "output_type": "stream",
          "name": "stdout",
          "text": [
            "               Id  SepalLengthCm  SepalWidthCm  PetalLengthCm  PetalWidthCm\n",
            "count  150.000000     150.000000    150.000000     150.000000    150.000000\n",
            "mean    75.500000       5.843333      3.054000       3.758667      1.198667\n",
            "std     43.445368       0.828066      0.433594       1.764420      0.763161\n",
            "min      1.000000       4.300000      2.000000       1.000000      0.100000\n",
            "25%     38.250000       5.100000      2.800000       1.600000      0.300000\n",
            "50%     75.500000       5.800000      3.000000       4.350000      1.300000\n",
            "75%    112.750000       6.400000      3.300000       5.100000      1.800000\n",
            "max    150.000000       7.900000      4.400000       6.900000      2.500000\n"
          ]
        }
      ],
      "source": [
        "print(df.describe())"
      ]
    },
    {
      "cell_type": "code",
      "execution_count": 15,
      "metadata": {
        "id": "p-Ym8BKiZ7vT",
        "colab": {
          "base_uri": "https://localhost:8080/"
        },
        "outputId": "e6c96550-7608-4ada-a249-dc73ac1aa97a"
      },
      "outputs": [
        {
          "output_type": "stream",
          "name": "stdout",
          "text": [
            "(150, 6)\n",
            "(6, 150)\n",
            "               0    1    2    3    4    5    6    7    8    9    ...  140  \\\n",
            "Id               1    2    3    4    5    6    7    8    9   10  ...  141   \n",
            "SepalLengthCm  5.1  4.9  4.7  4.6  5.0  5.4  4.6  5.0  4.4  4.9  ...  6.7   \n",
            "SepalWidthCm   3.5  3.0  3.2  3.1  3.6  3.9  3.4  3.4  2.9  3.1  ...  3.1   \n",
            "PetalLengthCm  1.4  1.4  1.3  1.5  1.4  1.7  1.4  1.5  1.4  1.5  ...  5.6   \n",
            "PetalWidthCm   0.2  0.2  0.2  0.2  0.2  0.4  0.3  0.2  0.2  0.1  ...  2.4   \n",
            "\n",
            "               141  142  143  144  145  146  147  148  149  \n",
            "Id             142  143  144  145  146  147  148  149  150  \n",
            "SepalLengthCm  6.9  5.8  6.8  6.7  6.7  6.3  6.5  6.2  5.9  \n",
            "SepalWidthCm   3.1  2.7  3.2  3.3  3.0  2.5  3.0  3.4  3.0  \n",
            "PetalLengthCm  5.1  5.1  5.9  5.7  5.2  5.0  5.2  5.4  5.1  \n",
            "PetalWidthCm   2.3  1.9  2.3  2.5  2.3  1.9  2.0  2.3  1.8  \n",
            "\n",
            "[5 rows x 150 columns]\n"
          ]
        }
      ],
      "source": [
        "\"\"\"\n",
        "Add comments for you own reference\n",
        "\"\"\"\n",
        "\n",
        "print(df.shape)\n",
        "dt = df.transpose()\n",
        "print(dt.shape)\n",
        "print(dt.head())"
      ]
    },
    {
      "cell_type": "code",
      "execution_count": 28,
      "metadata": {
        "id": "fvFcOXuZZ7vT",
        "colab": {
          "base_uri": "https://localhost:8080/"
        },
        "outputId": "8d69e53d-1a65-4b81-c175-62d8396f97f6"
      },
      "outputs": [
        {
          "output_type": "stream",
          "name": "stdout",
          "text": [
            "   trestbps  thalach  thal  target  slope  sex  restecg  oldpeak  fbs  exang  \\\n",
            "0       125      168     3       0      2    1        1      1.0    0      0   \n",
            "1       140      155     3       0      0    1        0      3.1    1      1   \n",
            "2       145      125     3       0      0    1        1      2.6    0      1   \n",
            "3       148      161     3       0      2    1        1      0.0    0      0   \n",
            "4       138      106     2       0      1    0        1      1.9    1      0   \n",
            "\n",
            "   cp  chol  ca  age  \n",
            "0   0   212   2   52  \n",
            "1   0   203   0   53  \n",
            "2   0   174   0   70  \n",
            "3   0   203   1   61  \n",
            "4   0   294   3   62  \n",
            "      trestbps  thalach  thal  target  slope  sex  restecg  oldpeak  fbs  \\\n",
            "1020       140      164     2       1      2    1        1      0.0    0   \n",
            "1021       125      141     3       0      1    1        0      2.8    0   \n",
            "1022       110      118     2       0      1    1        0      1.0    0   \n",
            "1023       110      159     2       1      2    0        0      0.0    0   \n",
            "1024       120      113     3       0      1    1        1      1.4    0   \n",
            "\n",
            "      exang  cp  chol  ca  age  \n",
            "1020      1   1   221   0   59  \n",
            "1021      1   0   258   1   60  \n",
            "1022      1   0   275   1   47  \n",
            "1023      0   0   254   0   50  \n",
            "1024      0   0   188   1   54  \n"
          ]
        }
      ],
      "source": [
        "di = df.sort_index(axis=1, ascending=False)\n",
        "print(di.head())\n",
        "print(di.tail())"
      ]
    },
    {
      "cell_type": "code",
      "execution_count": 57,
      "metadata": {
        "id": "PWw_a5_9Z7vT"
      },
      "outputs": [],
      "source": [
        "# di = df.sort_values(by=\"SepalWidthCm\")\n",
        "# print(di.head())\n",
        "# print(di.tail())"
      ]
    },
    {
      "cell_type": "markdown",
      "metadata": {
        "id": "zv1fwycIZ7vT"
      },
      "source": [
        "**Evaluation:**\n",
        "\n",
        "After running this program, think about and answer these questions:\n",
        "\n",
        "1. What does head() function do?\n",
        "2. What does tail() function do?\n",
        "3. What information does describe() give?\n",
        "4. What does transpose() function do?\n",
        "5. What is the difference between sort_index and sort_values?"
      ]
    },
    {
      "cell_type": "markdown",
      "metadata": {
        "id": "Veu0C8jnZ7vT"
      },
      "source": [
        "## 9.3 READING a CSV (Group)\n",
        "\n",
        "Write a program that will do the following:\n",
        "\n",
        "1. Use 'heart.csv' Data set.\n",
        "2. Perform all the above operations on the data set to understand the data"
      ]
    },
    {
      "cell_type": "code",
      "execution_count": 58,
      "metadata": {
        "id": "IUHaQHMdZ7vT",
        "colab": {
          "base_uri": "https://localhost:8080/"
        },
        "outputId": "95346c86-c198-4995-af47-518383668bfb"
      },
      "outputs": [
        {
          "output_type": "stream",
          "name": "stdout",
          "text": [
            "      age  sex  cp  trestbps  chol  fbs  restecg  thalach  exang  oldpeak  \\\n",
            "0      52    1   0       125   212    0        1      168      0      1.0   \n",
            "1      53    1   0       140   203    1        0      155      1      3.1   \n",
            "2      70    1   0       145   174    0        1      125      1      2.6   \n",
            "3      61    1   0       148   203    0        1      161      0      0.0   \n",
            "4      62    0   0       138   294    1        1      106      0      1.9   \n",
            "...   ...  ...  ..       ...   ...  ...      ...      ...    ...      ...   \n",
            "1020   59    1   1       140   221    0        1      164      1      0.0   \n",
            "1021   60    1   0       125   258    0        0      141      1      2.8   \n",
            "1022   47    1   0       110   275    0        0      118      1      1.0   \n",
            "1023   50    0   0       110   254    0        0      159      0      0.0   \n",
            "1024   54    1   0       120   188    0        1      113      0      1.4   \n",
            "\n",
            "      slope  ca  thal  target  \n",
            "0         2   2     3       0  \n",
            "1         0   0     3       0  \n",
            "2         0   0     3       0  \n",
            "3         2   1     3       0  \n",
            "4         1   3     2       0  \n",
            "...     ...  ..   ...     ...  \n",
            "1020      2   0     2       1  \n",
            "1021      1   1     3       0  \n",
            "1022      1   1     2       0  \n",
            "1023      2   0     2       1  \n",
            "1024      1   1     3       0  \n",
            "\n",
            "[1025 rows x 14 columns]\n"
          ]
        }
      ],
      "source": [
        "\"\"\"\n",
        "Add comments for you own reference\n",
        "\"\"\"\n",
        "\n",
        "import pandas as pd\n",
        "\n",
        "df = pd.read_csv(\"/content/drive/MyDrive/AI ACADEMY/1- Computer Programming with Python/Week 9 - Notebooks/week9 student/heart.csv\")\n",
        "print(df)\n"
      ]
    },
    {
      "cell_type": "code",
      "execution_count": 18,
      "metadata": {
        "id": "5goWwmMoZ7vT",
        "colab": {
          "base_uri": "https://localhost:8080/"
        },
        "outputId": "d9bda25f-6c7b-475c-cbbe-fae8897f4c6b"
      },
      "outputs": [
        {
          "output_type": "stream",
          "name": "stdout",
          "text": [
            "(1025, 14)\n"
          ]
        }
      ],
      "source": [
        "\n",
        "print(df.shape)"
      ]
    },
    {
      "cell_type": "code",
      "execution_count": 19,
      "metadata": {
        "id": "dVWmChzFZ7vT",
        "colab": {
          "base_uri": "https://localhost:8080/"
        },
        "outputId": "2e7e80c1-77b0-4931-8f50-0bf7a8261f41"
      },
      "outputs": [
        {
          "output_type": "stream",
          "name": "stdout",
          "text": [
            "   age  sex  cp  trestbps  chol  fbs  restecg  thalach  exang  oldpeak  slope  \\\n",
            "0   52    1   0       125   212    0        1      168      0      1.0      2   \n",
            "1   53    1   0       140   203    1        0      155      1      3.1      0   \n",
            "2   70    1   0       145   174    0        1      125      1      2.6      0   \n",
            "3   61    1   0       148   203    0        1      161      0      0.0      2   \n",
            "4   62    0   0       138   294    1        1      106      0      1.9      1   \n",
            "\n",
            "   ca  thal  target  \n",
            "0   2     3       0  \n",
            "1   0     3       0  \n",
            "2   0     3       0  \n",
            "3   1     3       0  \n",
            "4   3     2       0  \n"
          ]
        }
      ],
      "source": [
        "\n",
        "print(df.head())"
      ]
    },
    {
      "cell_type": "code",
      "execution_count": 21,
      "metadata": {
        "id": "Thsc4xHoZ7vU",
        "colab": {
          "base_uri": "https://localhost:8080/"
        },
        "outputId": "2b7962f4-c36a-4572-d754-545a2e1602b0"
      },
      "outputs": [
        {
          "output_type": "stream",
          "name": "stdout",
          "text": [
            "      age  sex  cp  trestbps  chol  fbs  restecg  thalach  exang  oldpeak  \\\n",
            "1020   59    1   1       140   221    0        1      164      1      0.0   \n",
            "1021   60    1   0       125   258    0        0      141      1      2.8   \n",
            "1022   47    1   0       110   275    0        0      118      1      1.0   \n",
            "1023   50    0   0       110   254    0        0      159      0      0.0   \n",
            "1024   54    1   0       120   188    0        1      113      0      1.4   \n",
            "\n",
            "      slope  ca  thal  target  \n",
            "1020      2   0     2       1  \n",
            "1021      1   1     3       0  \n",
            "1022      1   1     2       0  \n",
            "1023      2   0     2       1  \n",
            "1024      1   1     3       0  \n"
          ]
        }
      ],
      "source": [
        "\n",
        "print(df.tail())"
      ]
    },
    {
      "cell_type": "code",
      "source": [
        "print(df.describe())"
      ],
      "metadata": {
        "colab": {
          "base_uri": "https://localhost:8080/"
        },
        "id": "xA7sM7jlcIoL",
        "outputId": "bfe021a1-e724-4486-cd7b-20f72b422b50"
      },
      "execution_count": 23,
      "outputs": [
        {
          "output_type": "stream",
          "name": "stdout",
          "text": [
            "               age          sex           cp     trestbps        chol  \\\n",
            "count  1025.000000  1025.000000  1025.000000  1025.000000  1025.00000   \n",
            "mean     54.434146     0.695610     0.942439   131.611707   246.00000   \n",
            "std       9.072290     0.460373     1.029641    17.516718    51.59251   \n",
            "min      29.000000     0.000000     0.000000    94.000000   126.00000   \n",
            "25%      48.000000     0.000000     0.000000   120.000000   211.00000   \n",
            "50%      56.000000     1.000000     1.000000   130.000000   240.00000   \n",
            "75%      61.000000     1.000000     2.000000   140.000000   275.00000   \n",
            "max      77.000000     1.000000     3.000000   200.000000   564.00000   \n",
            "\n",
            "               fbs      restecg      thalach        exang      oldpeak  \\\n",
            "count  1025.000000  1025.000000  1025.000000  1025.000000  1025.000000   \n",
            "mean      0.149268     0.529756   149.114146     0.336585     1.071512   \n",
            "std       0.356527     0.527878    23.005724     0.472772     1.175053   \n",
            "min       0.000000     0.000000    71.000000     0.000000     0.000000   \n",
            "25%       0.000000     0.000000   132.000000     0.000000     0.000000   \n",
            "50%       0.000000     1.000000   152.000000     0.000000     0.800000   \n",
            "75%       0.000000     1.000000   166.000000     1.000000     1.800000   \n",
            "max       1.000000     2.000000   202.000000     1.000000     6.200000   \n",
            "\n",
            "             slope           ca         thal       target  \n",
            "count  1025.000000  1025.000000  1025.000000  1025.000000  \n",
            "mean      1.385366     0.754146     2.323902     0.513171  \n",
            "std       0.617755     1.030798     0.620660     0.500070  \n",
            "min       0.000000     0.000000     0.000000     0.000000  \n",
            "25%       1.000000     0.000000     2.000000     0.000000  \n",
            "50%       1.000000     0.000000     2.000000     1.000000  \n",
            "75%       2.000000     1.000000     3.000000     1.000000  \n",
            "max       2.000000     4.000000     3.000000     1.000000  \n"
          ]
        }
      ]
    },
    {
      "cell_type": "code",
      "source": [
        "di = df.sort_index(axis=1, ascending=False)\n",
        "print(di.head())\n",
        "print(di.tail())"
      ],
      "metadata": {
        "colab": {
          "base_uri": "https://localhost:8080/"
        },
        "id": "yoSE4CJAcbb9",
        "outputId": "fb834fd1-e696-4f50-ff13-2d0fb0f320ed"
      },
      "execution_count": 25,
      "outputs": [
        {
          "output_type": "stream",
          "name": "stdout",
          "text": [
            "   trestbps  thalach  thal  target  slope  sex  restecg  oldpeak  fbs  exang  \\\n",
            "0       125      168     3       0      2    1        1      1.0    0      0   \n",
            "1       140      155     3       0      0    1        0      3.1    1      1   \n",
            "2       145      125     3       0      0    1        1      2.6    0      1   \n",
            "3       148      161     3       0      2    1        1      0.0    0      0   \n",
            "4       138      106     2       0      1    0        1      1.9    1      0   \n",
            "\n",
            "   cp  chol  ca  age  \n",
            "0   0   212   2   52  \n",
            "1   0   203   0   53  \n",
            "2   0   174   0   70  \n",
            "3   0   203   1   61  \n",
            "4   0   294   3   62  \n",
            "      trestbps  thalach  thal  target  slope  sex  restecg  oldpeak  fbs  \\\n",
            "1020       140      164     2       1      2    1        1      0.0    0   \n",
            "1021       125      141     3       0      1    1        0      2.8    0   \n",
            "1022       110      118     2       0      1    1        0      1.0    0   \n",
            "1023       110      159     2       1      2    0        0      0.0    0   \n",
            "1024       120      113     3       0      1    1        1      1.4    0   \n",
            "\n",
            "      exang  cp  chol  ca  age  \n",
            "1020      1   1   221   0   59  \n",
            "1021      1   0   258   1   60  \n",
            "1022      1   0   275   1   47  \n",
            "1023      0   0   254   0   50  \n",
            "1024      0   0   188   1   54  \n"
          ]
        }
      ]
    },
    {
      "cell_type": "code",
      "source": [
        "# di = df.sort_values(by=\"SepalWidthCm\")\n",
        "# print(di.head())\n",
        "# print(di.tail())"
      ],
      "metadata": {
        "id": "t852oJ_3chab"
      },
      "execution_count": 29,
      "outputs": []
    },
    {
      "cell_type": "markdown",
      "metadata": {
        "id": "Sbi5eV2ZZ7vU"
      },
      "source": [
        "## 9.4 Location functions in Pandas (Follow)\n",
        "1. Understand how to use loc and iloc in pandas.\n",
        "2. Understand what loc and iloc do in a dataframe."
      ]
    },
    {
      "cell_type": "code",
      "execution_count": null,
      "metadata": {
        "id": "158jHfFeZ7vU"
      },
      "outputs": [],
      "source": [
        "\"\"\"\n",
        "Add comments for you own reference\n",
        "\"\"\"\n",
        "import pandas as pd\n",
        "\n",
        "df = pd.read_csv(\"Iris.csv\")\n",
        "\n",
        "ds = df.loc[70]\n",
        "print(ds)"
      ]
    },
    {
      "cell_type": "code",
      "execution_count": null,
      "metadata": {
        "id": "nS0_hBlmZ7vU"
      },
      "outputs": [],
      "source": [
        "ds = df.iloc[70]\n",
        "print(ds)"
      ]
    },
    {
      "cell_type": "code",
      "execution_count": null,
      "metadata": {
        "id": "lpcw0dqCZ7vU"
      },
      "outputs": [],
      "source": [
        "ds = df.at[70,'SepalWidthCm']\n",
        "print(ds)"
      ]
    },
    {
      "cell_type": "code",
      "execution_count": null,
      "metadata": {
        "id": "U9D0K3kZZ7vU"
      },
      "outputs": [],
      "source": [
        "ds = df.iat[70,2]\n",
        "print(ds)"
      ]
    },
    {
      "cell_type": "code",
      "execution_count": null,
      "metadata": {
        "id": "1RoV7CKxZ7vU"
      },
      "outputs": [],
      "source": [
        "ds = df[df['SepalLengthCm']>7]\n",
        "print(ds.head())"
      ]
    },
    {
      "cell_type": "code",
      "execution_count": null,
      "metadata": {
        "id": "AI3AgaGgZ7vU"
      },
      "outputs": [],
      "source": [
        "ds = df[df['SepalLengthCm'].isin([5,6,7])]\n",
        "print(ds.head())"
      ]
    },
    {
      "cell_type": "code",
      "execution_count": null,
      "metadata": {
        "id": "YltAYUMhZ7vU"
      },
      "outputs": [],
      "source": [
        "da = df.iloc[:,:-1].apply(lambda x: x.max()-x.min())\n",
        "print(da)"
      ]
    },
    {
      "cell_type": "markdown",
      "metadata": {
        "id": "IqfSVcbIZ7vU"
      },
      "source": [
        "**Evaluation:**\n",
        "\n",
        "After running this program, think about and answer these questions:\n",
        "\n",
        "1. What does loc() and at() do?\n",
        "2. What does iloc() and it() do?\n",
        "3. What is the difference between all selection functions?"
      ]
    },
    {
      "cell_type": "markdown",
      "metadata": {
        "id": "cuMBtLM1Z7vU"
      },
      "source": [
        "## 9.4 Location functions in Pandas (Group)\n",
        "\n",
        "Write a program that will do the following:\n",
        "\n",
        "1. Use Heart.csv Data set.\n",
        "2. Print the column names and number of rows in data\n",
        "2. Get a row number from the user.\n",
        "3. Get a column name from the user.\n",
        "4. Print:\n",
        "    - Row.\n",
        "    - Column.\n",
        "    - Row X Column"
      ]
    },
    {
      "cell_type": "code",
      "execution_count": 60,
      "metadata": {
        "id": "MRZ_FvKaZ7vU",
        "colab": {
          "base_uri": "https://localhost:8080/"
        },
        "outputId": "d820b1e5-483c-40c1-d9d7-33b321f20c12"
      },
      "outputs": [
        {
          "output_type": "stream",
          "name": "stdout",
          "text": [
            "age          59.0\n",
            "sex           1.0\n",
            "cp            0.0\n",
            "trestbps    170.0\n",
            "chol        326.0\n",
            "fbs           0.0\n",
            "restecg       0.0\n",
            "thalach     140.0\n",
            "exang         1.0\n",
            "oldpeak       3.4\n",
            "slope         0.0\n",
            "ca            0.0\n",
            "thal          3.0\n",
            "target        0.0\n",
            "Name: 70, dtype: float64\n"
          ]
        }
      ],
      "source": [
        "\"\"\"\n",
        "Add comments for you own reference\n",
        "\"\"\"\n",
        "import pandas as pd\n",
        "\n",
        "df = pd.read_csv('/content/drive/MyDrive/AI ACADEMY/1- Computer Programming with Python/Week 9 - Notebooks/week9 student/heart.csv')\n",
        "\n",
        "\n",
        "\n",
        "\n",
        "\n",
        "\n",
        "\n",
        "ds = df.loc[70]\n",
        "print(ds)\n"
      ]
    },
    {
      "cell_type": "code",
      "source": [
        "import pandas as pd\n",
        "\n",
        "# Load the Heart.csv dataset\n",
        "df = pd.read_csv('/content/drive/MyDrive/AI ACADEMY/1- Computer Programming with Python/Week 9 - Notebooks/week9 student/heart.csv')\n",
        "\n",
        "# Print the column names and number of rows in data\n",
        "print(\"Column Names:\", df.columns)\n",
        "print(\"Number of Rows:\", len(df))\n",
        "\n",
        "# Get a row number and column name from the user\n",
        "row_num = int(input(\"Enter a Row Number: \"))\n",
        "col_name = input(\"Enter a Column Name: \")\n",
        "\n",
        "# Print the specified row, column, and the intersection of both\n",
        "print(\"Row:\")\n",
        "print(df.loc[row_num])\n",
        "print(\"\\nColumn:\")\n",
        "print(df[col_name])\n",
        "print(\"\\nRow X Column:\")\n",
        "print(df.loc[row_num, col_name])\n"
      ],
      "metadata": {
        "colab": {
          "base_uri": "https://localhost:8080/"
        },
        "id": "xWqBX6VqD0ep",
        "outputId": "0fa756f3-1821-45d0-c7a6-f4b93f85072f"
      },
      "execution_count": 61,
      "outputs": [
        {
          "output_type": "stream",
          "name": "stdout",
          "text": [
            "Column Names: Index(['age', 'sex', 'cp', 'trestbps', 'chol', 'fbs', 'restecg', 'thalach',\n",
            "       'exang', 'oldpeak', 'slope', 'ca', 'thal', 'target'],\n",
            "      dtype='object')\n",
            "Number of Rows: 1025\n",
            "Enter a Row Number: 5\n",
            "Enter a Column Name: chol\n",
            "Row:\n",
            "age          58.0\n",
            "sex           0.0\n",
            "cp            0.0\n",
            "trestbps    100.0\n",
            "chol        248.0\n",
            "fbs           0.0\n",
            "restecg       0.0\n",
            "thalach     122.0\n",
            "exang         0.0\n",
            "oldpeak       1.0\n",
            "slope         1.0\n",
            "ca            0.0\n",
            "thal          2.0\n",
            "target        1.0\n",
            "Name: 5, dtype: float64\n",
            "\n",
            "Column:\n",
            "0       212\n",
            "1       203\n",
            "2       174\n",
            "3       203\n",
            "4       294\n",
            "       ... \n",
            "1020    221\n",
            "1021    258\n",
            "1022    275\n",
            "1023    254\n",
            "1024    188\n",
            "Name: chol, Length: 1025, dtype: int64\n",
            "\n",
            "Row X Column:\n",
            "248\n"
          ]
        }
      ]
    },
    {
      "cell_type": "markdown",
      "metadata": {
        "id": "zsnc0YB4Z7vV"
      },
      "source": [
        "## 9.5 MISSING DATA (Follow)\n",
        "\n",
        "**Learning Objectives:**\n",
        "\n",
        "1. Understand the concept of Missing Data.\n",
        "2. Learn to point out missing data.\n",
        "3. Understand how to deal with missing data.\n",
        "4. Learn different functions to deal with missing data."
      ]
    },
    {
      "cell_type": "code",
      "execution_count": null,
      "metadata": {
        "id": "VXT-tIybZ7vV"
      },
      "outputs": [],
      "source": [
        "\"\"\"\n",
        "Add comments for you own reference\n",
        "\"\"\"\n",
        "\n",
        "import pandas as pd\n",
        "\n",
        "df = pd.read_csv(\"mamograph.csv\",na_values='NaN')\n",
        "print(df.head())"
      ]
    },
    {
      "cell_type": "code",
      "execution_count": null,
      "metadata": {
        "id": "tX4h4drVZ7vV"
      },
      "outputs": [],
      "source": [
        "dn = df.copy()\n",
        "print(dn.shape)\n",
        "dx = dn.dropna()\n",
        "print(dx.shape)\n",
        "print(dx.head())"
      ]
    },
    {
      "cell_type": "code",
      "execution_count": null,
      "metadata": {
        "id": "rZYtqak4Z7vV"
      },
      "outputs": [],
      "source": [
        "dn2 = df.copy()\n",
        "print(dn2.shape)\n",
        "dx2 = dn2.fillna(3.0)\n",
        "print(dx2.shape)\n",
        "print(dx2.head())"
      ]
    },
    {
      "cell_type": "code",
      "execution_count": null,
      "metadata": {
        "id": "qG-F2dIeZ7vV"
      },
      "outputs": [],
      "source": [
        "print(pd.isna(df).head())"
      ]
    },
    {
      "cell_type": "markdown",
      "metadata": {
        "id": "oDO7q_28Z7vV"
      },
      "source": [
        "**Evaluation:**\n",
        "\n",
        "After running this program, think about and answer these questions:\n",
        "\n",
        "1. What does dropna() function do?\n",
        "1. What does fillna() function do?\n",
        "1. What does isna() function return?"
      ]
    },
    {
      "cell_type": "markdown",
      "metadata": {
        "id": "9dMhIZ0UZ7vV"
      },
      "source": [
        "## 9.5 MISSING DATA (Group)\n",
        "\n",
        "Write a program that will do the following:\n",
        "\n",
        "1. Use 'marketing.csv'\n",
        "2. Perform these tasks seperately\n",
        "    - Drop all rows with NaN\n",
        "    - Replace NaN values in marketing.csv column with mean of each column."
      ]
    },
    {
      "cell_type": "code",
      "execution_count": 66,
      "metadata": {
        "id": "q0qrsYE_Z7vV",
        "colab": {
          "base_uri": "https://localhost:8080/"
        },
        "outputId": "7e1e430f-e55d-43f7-a600-3cf87535a1d4"
      },
      "outputs": [
        {
          "output_type": "stream",
          "name": "stdout",
          "text": [
            "   Sex   MaritalStatus   Age   Education   Occupation   YearsInSf  \\\n",
            "0    2             1.0     5         4.0          5.0         5.0   \n",
            "1    1             4.0     6         3.0          NaN         5.0   \n",
            "2    1             1.0     4         6.0          1.0         NaN   \n",
            "3    2             1.0     5         5.0          1.0         5.0   \n",
            "4    2             1.0     3         5.0          1.0         5.0   \n",
            "\n",
            "    DualIncome   HouseholdMembers   Under18   HouseholdStatus   TypeOfHome  \\\n",
            "0            3                3.0         0               1.0          1.0   \n",
            "1            1                1.0         0               1.0          1.0   \n",
            "2            2                3.0         1               1.0          1.0   \n",
            "3            2                2.0         0               1.0          1.0   \n",
            "4            2                3.0         1               2.0          3.0   \n",
            "\n",
            "    EthnicClass   Language   Income  \n",
            "0           7.0        NaN        9  \n",
            "1           7.0        NaN        4  \n",
            "2           7.0        1.0        6  \n",
            "3           7.0        NaN        9  \n",
            "4           7.0        1.0        9  \n",
            "Dropped Rows with NaN:\n",
            "(6875, 14)\n",
            "   Sex   MaritalStatus   Age   Education   Occupation   YearsInSf  \\\n",
            "4    2             1.0     3         5.0          1.0         5.0   \n",
            "5    2             5.0     1         2.0          6.0         5.0   \n",
            "6    2             5.0     1         2.0          6.0         3.0   \n",
            "7    1             1.0     6         4.0          8.0         5.0   \n",
            "8    1             5.0     2         3.0          9.0         4.0   \n",
            "\n",
            "    DualIncome   HouseholdMembers   Under18   HouseholdStatus   TypeOfHome  \\\n",
            "4            2                3.0         1               2.0          3.0   \n",
            "5            1                4.0         2               3.0          1.0   \n",
            "6            1                4.0         2               3.0          1.0   \n",
            "7            3                2.0         0               1.0          1.0   \n",
            "8            1                3.0         1               2.0          3.0   \n",
            "\n",
            "    EthnicClass   Language   Income  \n",
            "4           7.0        1.0        9  \n",
            "5           7.0        1.0        1  \n",
            "6           7.0        1.0        1  \n",
            "7           7.0        1.0        8  \n",
            "8           7.0        1.0        1  \n",
            "Replaced NaN with Column Mean:\n",
            "(8992, 14)\n",
            "   Sex   MaritalStatus   Age   Education   Occupation   YearsInSf  \\\n",
            "0    2             1.0     5         4.0     5.000000    5.000000   \n",
            "1    1             4.0     6         3.0     3.787827    5.000000   \n",
            "2    1             1.0     4         6.0     1.000000    4.198168   \n",
            "3    2             1.0     5         5.0     1.000000    5.000000   \n",
            "4    2             1.0     3         5.0     1.000000    5.000000   \n",
            "\n",
            "    DualIncome   HouseholdMembers   Under18   HouseholdStatus   TypeOfHome  \\\n",
            "0            3                3.0         0               1.0          1.0   \n",
            "1            1                1.0         0               1.0          1.0   \n",
            "2            2                3.0         1               1.0          1.0   \n",
            "3            2                2.0         0               1.0          1.0   \n",
            "4            2                3.0         1               2.0          3.0   \n",
            "\n",
            "    EthnicClass   Language   Income  \n",
            "0           7.0   1.127534        9  \n",
            "1           7.0   1.127534        4  \n",
            "2           7.0   1.000000        6  \n",
            "3           7.0   1.127534        9  \n",
            "4           7.0   1.000000        9  \n",
            "     Sex   MaritalStatus    Age   Education   Occupation   YearsInSf  \\\n",
            "0  False           False  False       False        False       False   \n",
            "1  False           False  False       False         True       False   \n",
            "2  False           False  False       False        False        True   \n",
            "3  False           False  False       False        False       False   \n",
            "4  False           False  False       False        False       False   \n",
            "\n",
            "    DualIncome   HouseholdMembers   Under18   HouseholdStatus   TypeOfHome  \\\n",
            "0        False              False     False             False        False   \n",
            "1        False              False     False             False        False   \n",
            "2        False              False     False             False        False   \n",
            "3        False              False     False             False        False   \n",
            "4        False              False     False             False        False   \n",
            "\n",
            "    EthnicClass   Language   Income  \n",
            "0         False       True    False  \n",
            "1         False       True    False  \n",
            "2         False      False    False  \n",
            "3         False       True    False  \n",
            "4         False      False    False  \n"
          ]
        }
      ],
      "source": [
        "import pandas as pd\n",
        "\n",
        "# Load the marketing.csv dataset\n",
        "df = pd.read_csv('/content/drive/MyDrive/AI ACADEMY/1- Computer Programming with Python/Week 9 - Notebooks/week9 student/marketing.csv', na_values='NaN')\n",
        "\n",
        "# Display the first few rows of the dataset\n",
        "print(df.head())\n",
        "\n",
        "# Drop all rows with NaN\n",
        "dn = df.dropna()\n",
        "print(\"Dropped Rows with NaN:\")\n",
        "print(dn.shape)\n",
        "print(dn.head())\n",
        "\n",
        "# Replace NaN values in each column with the mean of that column\n",
        "dn2 = df.fillna(df.mean())\n",
        "print(\"Replaced NaN with Column Mean:\")\n",
        "print(dn2.shape)\n",
        "print(dn2.head())\n",
        "\n",
        "# Check if there are any NaN values in the dataset\n",
        "print(pd.isna(df).head())\n"
      ]
    },
    {
      "cell_type": "code",
      "execution_count": null,
      "metadata": {
        "id": "6bFe89TqZ7vV"
      },
      "outputs": [],
      "source": [
        "\n"
      ]
    },
    {
      "cell_type": "code",
      "execution_count": null,
      "metadata": {
        "id": "4pmj8yQaZ7vV"
      },
      "outputs": [],
      "source": [
        "\n"
      ]
    },
    {
      "cell_type": "markdown",
      "metadata": {
        "id": "gkrVe0nNZ7vV"
      },
      "source": [
        "## 9.6 Pandas project (Group)\n",
        "\n",
        "**Write a program that will do the following:**\n",
        "1. Read in the teamsummaries.csv dataset included.  \n",
        "2. Do some basic statistical analysis.  \n",
        "3. Try to create an argument to determine the best NBA team of all time.  \n",
        "4. You may also use a different dataset and do a different analysis. \n",
        "5. Use the pandas library in your project."
      ]
    },
    {
      "cell_type": "code",
      "execution_count": 69,
      "metadata": {
        "id": "KFBbKFr5Z7vV",
        "colab": {
          "base_uri": "https://localhost:8080/"
        },
        "outputId": "91a11a5c-8ebf-4013-9e3a-c1a68b56743a"
      },
      "outputs": [
        {
          "output_type": "stream",
          "name": "stdout",
          "text": [
            "   season   lg               team abbreviation  playoffs   age     w     l  \\\n",
            "0    2022  NBA      Atlanta Hawks          ATL     False  26.1  28.0  30.0   \n",
            "1    2022  NBA     Boston Celtics          BOS     False  26.0  34.0  26.0   \n",
            "2    2022  NBA      Brooklyn Nets          BRK     False  29.1  31.0  28.0   \n",
            "3    2022  NBA      Chicago Bulls          CHI     False  26.2  38.0  21.0   \n",
            "4    2022  NBA  Charlotte Hornets          CHO     False  25.6  29.0  31.0   \n",
            "\n",
            "     pw    pl  ...  tov_percent  orb_percent  ft_fga  opp_e_fg_percent  \\\n",
            "0  30.0  28.0  ...         11.3         22.8   0.199             0.540   \n",
            "1  40.0  20.0  ...         12.7         23.8   0.194             0.496   \n",
            "2  30.0  30.0  ...         12.4         23.4   0.190             0.516   \n",
            "3  34.0  25.0  ...         11.9         20.9   0.198             0.533   \n",
            "4  28.0  32.0  ...         11.6         23.1   0.172             0.540   \n",
            "\n",
            "   opp_tov_percent  opp_drb_percent  opp_ft_fga             arena    attend  \\\n",
            "0             11.2             77.5       0.174  State Farm Arena  481111.0   \n",
            "1             12.7             77.3       0.180         TD Garden  574680.0   \n",
            "2             11.6             75.7       0.192   Barclays Center  479506.0   \n",
            "3             12.0             78.6       0.189     United Center  641618.0   \n",
            "4             13.3             75.3       0.189   Spectrum Center  476337.0   \n",
            "\n",
            "   attend_g  \n",
            "0   16037.0  \n",
            "1   18538.0  \n",
            "2   17125.0  \n",
            "3   20697.0  \n",
            "4   17012.0  \n",
            "\n",
            "[5 rows x 31 columns]\n",
            "The best NBA team of all time based on win-loss record and pace of play is:\n",
            "team        Golden State Warriors\n",
            "w                            73.0\n",
            "l                             9.0\n",
            "win_loss                 0.890244\n",
            "pace                         99.3\n",
            "Name: 195, dtype: object\n",
            "The average pace of play for all teams in the dataset is 99.55.\n"
          ]
        }
      ],
      "source": [
        "import pandas as pd\n",
        "\n",
        "# Load the teamsummaries.csv dataset\n",
        "df = pd.read_csv('/content/drive/MyDrive/AI ACADEMY/1- Computer Programming with Python/Week 9 - Notebooks/week9 student/Team Summaries.csv')\n",
        "\n",
        "# Display the first few rows of the dataset\n",
        "print(df.head())\n",
        "\n",
        "# Calculate the average pace of play for all teams in the dataset\n",
        "avg_pace = df['pace'].mean()\n",
        "\n",
        "# Calculate the win-loss record for all teams in the dataset\n",
        "df['win_loss'] = df['w'] / (df['w'] + df['l'])\n",
        "\n",
        "# Find the team with the best win-loss record and pace of play\n",
        "best_team = df.loc[df['win_loss'].idxmax()]\n",
        "\n",
        "# Print the team with the best win-loss record and their statistics\n",
        "print(\"The best NBA team of all time based on win-loss record and pace of play is:\")\n",
        "print(best_team[['team', 'w', 'l', 'win_loss', 'pace']])\n",
        "print(f\"The average pace of play for all teams in the dataset is {avg_pace:.2f}.\")\n"
      ]
    },
    {
      "cell_type": "code",
      "execution_count": 71,
      "metadata": {
        "id": "Gwk44DlbZ7vV",
        "colab": {
          "base_uri": "https://localhost:8080/"
        },
        "outputId": "831d4f47-b512-486c-8c02-5ad2c287119b"
      },
      "outputs": [
        {
          "output_type": "stream",
          "name": "stdout",
          "text": [
            "   season   lg               team abbreviation  playoffs   age     w     l  \\\n",
            "0    2022  NBA      Atlanta Hawks          ATL     False  26.1  28.0  30.0   \n",
            "1    2022  NBA     Boston Celtics          BOS     False  26.0  34.0  26.0   \n",
            "2    2022  NBA      Brooklyn Nets          BRK     False  29.1  31.0  28.0   \n",
            "3    2022  NBA      Chicago Bulls          CHI     False  26.2  38.0  21.0   \n",
            "4    2022  NBA  Charlotte Hornets          CHO     False  25.6  29.0  31.0   \n",
            "\n",
            "     pw    pl  ...  tov_percent  orb_percent  ft_fga  opp_e_fg_percent  \\\n",
            "0  30.0  28.0  ...         11.3         22.8   0.199             0.540   \n",
            "1  40.0  20.0  ...         12.7         23.8   0.194             0.496   \n",
            "2  30.0  30.0  ...         12.4         23.4   0.190             0.516   \n",
            "3  34.0  25.0  ...         11.9         20.9   0.198             0.533   \n",
            "4  28.0  32.0  ...         11.6         23.1   0.172             0.540   \n",
            "\n",
            "   opp_tov_percent  opp_drb_percent  opp_ft_fga             arena    attend  \\\n",
            "0             11.2             77.5       0.174  State Farm Arena  481111.0   \n",
            "1             12.7             77.3       0.180         TD Garden  574680.0   \n",
            "2             11.6             75.7       0.192   Barclays Center  479506.0   \n",
            "3             12.0             78.6       0.189     United Center  641618.0   \n",
            "4             13.3             75.3       0.189   Spectrum Center  476337.0   \n",
            "\n",
            "   attend_g  \n",
            "0   16037.0  \n",
            "1   18538.0  \n",
            "2   17125.0  \n",
            "3   20697.0  \n",
            "4   17012.0  \n",
            "\n",
            "[5 rows x 31 columns]\n",
            "The best NBA team of all time based on win-loss record is:\n",
            "team        Golden State Warriors\n",
            "w                            73.0\n",
            "l                             9.0\n",
            "win_loss                 0.890244\n",
            "Name: 195, dtype: object\n"
          ]
        }
      ],
      "source": [
        "\"\"\"\n",
        "The idea here is to look at `wins at home` vs `wins away.` Need to clarify that\n",
        "on column names or by concatenating & manipulating some\n",
        "\n",
        "\n",
        "\n",
        "\n",
        "\"\"\"\n",
        "\n",
        "\n",
        "\n",
        "import pandas as pd\n",
        "\n",
        "# Load the teamsummaries.csv dataset\n",
        "df = pd.read_csv('/content/drive/MyDrive/AI ACADEMY/1- Computer Programming with Python/Week 9 - Notebooks/week9 student/Team Summaries.csv')\n",
        "\n",
        "# Display the first few rows of the dataset\n",
        "print(df.head())\n",
        "\n",
        "# Calculate the win-loss record for all teams in the dataset\n",
        "df['win_loss'] = df['w'] / (df['w'] + df['l'])\n",
        "\n",
        "# Find the team with the best win-loss record\n",
        "best_team = df.loc[df['win_loss'].idxmax()]\n",
        "\n",
        "# Print the team with the best win-loss record and their statistics\n",
        "print(\"The best NBA team of all time based on win-loss record is:\")\n",
        "print(best_team[['team', 'w', 'l', 'win_loss']])\n"
      ]
    },
    {
      "cell_type": "code",
      "source": [
        "import pandas as pd\n",
        "\n",
        "# Load the teamsummaries.csv dataset\n",
        "df = pd.read_csv('/content/drive/MyDrive/AI ACADEMY/1- Computer Programming with Python/Week 9 - Notebooks/week9 student/Team Summaries.csv')\n",
        "\n",
        "# Display the first few rows of the dataset\n",
        "print(df.head())\n",
        "\n",
        "# Calculate the win-loss record for all teams in the dataset\n",
        "df['win_loss'] = df['w'] / (df['w'] + df['l'])\n",
        "\n",
        "# Find the team with the best win-loss record\n",
        "best_team = df.loc[df['win_loss'].idxmax()]\n",
        "\n",
        "# Find the team with the most at home wins\n",
        "most_home_wins = df.loc[df['w_home'].idxmax()]\n",
        "\n",
        "# Find the team with the most away game wins\n",
        "most_away_wins = df.loc[df['w_away'].idxmax()]\n",
        "\n",
        "# Print the results to the console\n",
        "print(\"The best NBA team of all time based on win-loss record is:\")\n",
        "print(best_team[['team', 'w', 'l', 'win_loss']])\n",
        "print(\"\\nThe team with the most wins at home is:\")\n",
        "print(most_home_wins[['team', 'w_home']])\n",
        "print(\"\\nThe team with the most wins on the road is:\")\n",
        "print(most_away_wins[['team', 'w_away']])\n"
      ],
      "metadata": {
        "colab": {
          "base_uri": "https://localhost:8080/",
          "height": 1000
        },
        "id": "UFxCkWB-NdTf",
        "outputId": "10f8ff43-c3ea-49b9-f309-1fb9135dc16b"
      },
      "execution_count": 73,
      "outputs": [
        {
          "output_type": "stream",
          "name": "stdout",
          "text": [
            "   season   lg               team abbreviation  playoffs   age     w     l  \\\n",
            "0    2022  NBA      Atlanta Hawks          ATL     False  26.1  28.0  30.0   \n",
            "1    2022  NBA     Boston Celtics          BOS     False  26.0  34.0  26.0   \n",
            "2    2022  NBA      Brooklyn Nets          BRK     False  29.1  31.0  28.0   \n",
            "3    2022  NBA      Chicago Bulls          CHI     False  26.2  38.0  21.0   \n",
            "4    2022  NBA  Charlotte Hornets          CHO     False  25.6  29.0  31.0   \n",
            "\n",
            "     pw    pl  ...  tov_percent  orb_percent  ft_fga  opp_e_fg_percent  \\\n",
            "0  30.0  28.0  ...         11.3         22.8   0.199             0.540   \n",
            "1  40.0  20.0  ...         12.7         23.8   0.194             0.496   \n",
            "2  30.0  30.0  ...         12.4         23.4   0.190             0.516   \n",
            "3  34.0  25.0  ...         11.9         20.9   0.198             0.533   \n",
            "4  28.0  32.0  ...         11.6         23.1   0.172             0.540   \n",
            "\n",
            "   opp_tov_percent  opp_drb_percent  opp_ft_fga             arena    attend  \\\n",
            "0             11.2             77.5       0.174  State Farm Arena  481111.0   \n",
            "1             12.7             77.3       0.180         TD Garden  574680.0   \n",
            "2             11.6             75.7       0.192   Barclays Center  479506.0   \n",
            "3             12.0             78.6       0.189     United Center  641618.0   \n",
            "4             13.3             75.3       0.189   Spectrum Center  476337.0   \n",
            "\n",
            "   attend_g  \n",
            "0   16037.0  \n",
            "1   18538.0  \n",
            "2   17125.0  \n",
            "3   20697.0  \n",
            "4   17012.0  \n",
            "\n",
            "[5 rows x 31 columns]\n"
          ]
        },
        {
          "output_type": "error",
          "ename": "KeyError",
          "evalue": "ignored",
          "traceback": [
            "\u001b[0;31m---------------------------------------------------------------------------\u001b[0m",
            "\u001b[0;31mKeyError\u001b[0m                                  Traceback (most recent call last)",
            "\u001b[0;32m/usr/local/lib/python3.8/dist-packages/pandas/core/indexes/base.py\u001b[0m in \u001b[0;36mget_loc\u001b[0;34m(self, key, method, tolerance)\u001b[0m\n\u001b[1;32m   3360\u001b[0m             \u001b[0;32mtry\u001b[0m\u001b[0;34m:\u001b[0m\u001b[0;34m\u001b[0m\u001b[0;34m\u001b[0m\u001b[0m\n\u001b[0;32m-> 3361\u001b[0;31m                 \u001b[0;32mreturn\u001b[0m \u001b[0mself\u001b[0m\u001b[0;34m.\u001b[0m\u001b[0m_engine\u001b[0m\u001b[0;34m.\u001b[0m\u001b[0mget_loc\u001b[0m\u001b[0;34m(\u001b[0m\u001b[0mcasted_key\u001b[0m\u001b[0;34m)\u001b[0m\u001b[0;34m\u001b[0m\u001b[0;34m\u001b[0m\u001b[0m\n\u001b[0m\u001b[1;32m   3362\u001b[0m             \u001b[0;32mexcept\u001b[0m \u001b[0mKeyError\u001b[0m \u001b[0;32mas\u001b[0m \u001b[0merr\u001b[0m\u001b[0;34m:\u001b[0m\u001b[0;34m\u001b[0m\u001b[0;34m\u001b[0m\u001b[0m\n",
            "\u001b[0;32m/usr/local/lib/python3.8/dist-packages/pandas/_libs/index.pyx\u001b[0m in \u001b[0;36mpandas._libs.index.IndexEngine.get_loc\u001b[0;34m()\u001b[0m\n",
            "\u001b[0;32m/usr/local/lib/python3.8/dist-packages/pandas/_libs/index.pyx\u001b[0m in \u001b[0;36mpandas._libs.index.IndexEngine.get_loc\u001b[0;34m()\u001b[0m\n",
            "\u001b[0;32mpandas/_libs/hashtable_class_helper.pxi\u001b[0m in \u001b[0;36mpandas._libs.hashtable.PyObjectHashTable.get_item\u001b[0;34m()\u001b[0m\n",
            "\u001b[0;32mpandas/_libs/hashtable_class_helper.pxi\u001b[0m in \u001b[0;36mpandas._libs.hashtable.PyObjectHashTable.get_item\u001b[0;34m()\u001b[0m\n",
            "\u001b[0;31mKeyError\u001b[0m: 'w_home'",
            "\nThe above exception was the direct cause of the following exception:\n",
            "\u001b[0;31mKeyError\u001b[0m                                  Traceback (most recent call last)",
            "\u001b[0;32m<ipython-input-73-0a45c7726288>\u001b[0m in \u001b[0;36m<module>\u001b[0;34m\u001b[0m\n\u001b[1;32m     14\u001b[0m \u001b[0;34m\u001b[0m\u001b[0m\n\u001b[1;32m     15\u001b[0m \u001b[0;31m# Find the team with the most at home wins\u001b[0m\u001b[0;34m\u001b[0m\u001b[0;34m\u001b[0m\u001b[0;34m\u001b[0m\u001b[0m\n\u001b[0;32m---> 16\u001b[0;31m \u001b[0mmost_home_wins\u001b[0m \u001b[0;34m=\u001b[0m \u001b[0mdf\u001b[0m\u001b[0;34m.\u001b[0m\u001b[0mloc\u001b[0m\u001b[0;34m[\u001b[0m\u001b[0mdf\u001b[0m\u001b[0;34m[\u001b[0m\u001b[0;34m'w_home'\u001b[0m\u001b[0;34m]\u001b[0m\u001b[0;34m.\u001b[0m\u001b[0midxmax\u001b[0m\u001b[0;34m(\u001b[0m\u001b[0;34m)\u001b[0m\u001b[0;34m]\u001b[0m\u001b[0;34m\u001b[0m\u001b[0;34m\u001b[0m\u001b[0m\n\u001b[0m\u001b[1;32m     17\u001b[0m \u001b[0;34m\u001b[0m\u001b[0m\n\u001b[1;32m     18\u001b[0m \u001b[0;31m# Find the team with the most away game wins\u001b[0m\u001b[0;34m\u001b[0m\u001b[0;34m\u001b[0m\u001b[0;34m\u001b[0m\u001b[0m\n",
            "\u001b[0;32m/usr/local/lib/python3.8/dist-packages/pandas/core/frame.py\u001b[0m in \u001b[0;36m__getitem__\u001b[0;34m(self, key)\u001b[0m\n\u001b[1;32m   3456\u001b[0m             \u001b[0;32mif\u001b[0m \u001b[0mself\u001b[0m\u001b[0;34m.\u001b[0m\u001b[0mcolumns\u001b[0m\u001b[0;34m.\u001b[0m\u001b[0mnlevels\u001b[0m \u001b[0;34m>\u001b[0m \u001b[0;36m1\u001b[0m\u001b[0;34m:\u001b[0m\u001b[0;34m\u001b[0m\u001b[0;34m\u001b[0m\u001b[0m\n\u001b[1;32m   3457\u001b[0m                 \u001b[0;32mreturn\u001b[0m \u001b[0mself\u001b[0m\u001b[0;34m.\u001b[0m\u001b[0m_getitem_multilevel\u001b[0m\u001b[0;34m(\u001b[0m\u001b[0mkey\u001b[0m\u001b[0;34m)\u001b[0m\u001b[0;34m\u001b[0m\u001b[0;34m\u001b[0m\u001b[0m\n\u001b[0;32m-> 3458\u001b[0;31m             \u001b[0mindexer\u001b[0m \u001b[0;34m=\u001b[0m \u001b[0mself\u001b[0m\u001b[0;34m.\u001b[0m\u001b[0mcolumns\u001b[0m\u001b[0;34m.\u001b[0m\u001b[0mget_loc\u001b[0m\u001b[0;34m(\u001b[0m\u001b[0mkey\u001b[0m\u001b[0;34m)\u001b[0m\u001b[0;34m\u001b[0m\u001b[0;34m\u001b[0m\u001b[0m\n\u001b[0m\u001b[1;32m   3459\u001b[0m             \u001b[0;32mif\u001b[0m \u001b[0mis_integer\u001b[0m\u001b[0;34m(\u001b[0m\u001b[0mindexer\u001b[0m\u001b[0;34m)\u001b[0m\u001b[0;34m:\u001b[0m\u001b[0;34m\u001b[0m\u001b[0;34m\u001b[0m\u001b[0m\n\u001b[1;32m   3460\u001b[0m                 \u001b[0mindexer\u001b[0m \u001b[0;34m=\u001b[0m \u001b[0;34m[\u001b[0m\u001b[0mindexer\u001b[0m\u001b[0;34m]\u001b[0m\u001b[0;34m\u001b[0m\u001b[0;34m\u001b[0m\u001b[0m\n",
            "\u001b[0;32m/usr/local/lib/python3.8/dist-packages/pandas/core/indexes/base.py\u001b[0m in \u001b[0;36mget_loc\u001b[0;34m(self, key, method, tolerance)\u001b[0m\n\u001b[1;32m   3361\u001b[0m                 \u001b[0;32mreturn\u001b[0m \u001b[0mself\u001b[0m\u001b[0;34m.\u001b[0m\u001b[0m_engine\u001b[0m\u001b[0;34m.\u001b[0m\u001b[0mget_loc\u001b[0m\u001b[0;34m(\u001b[0m\u001b[0mcasted_key\u001b[0m\u001b[0;34m)\u001b[0m\u001b[0;34m\u001b[0m\u001b[0;34m\u001b[0m\u001b[0m\n\u001b[1;32m   3362\u001b[0m             \u001b[0;32mexcept\u001b[0m \u001b[0mKeyError\u001b[0m \u001b[0;32mas\u001b[0m \u001b[0merr\u001b[0m\u001b[0;34m:\u001b[0m\u001b[0;34m\u001b[0m\u001b[0;34m\u001b[0m\u001b[0m\n\u001b[0;32m-> 3363\u001b[0;31m                 \u001b[0;32mraise\u001b[0m \u001b[0mKeyError\u001b[0m\u001b[0;34m(\u001b[0m\u001b[0mkey\u001b[0m\u001b[0;34m)\u001b[0m \u001b[0;32mfrom\u001b[0m \u001b[0merr\u001b[0m\u001b[0;34m\u001b[0m\u001b[0;34m\u001b[0m\u001b[0m\n\u001b[0m\u001b[1;32m   3364\u001b[0m \u001b[0;34m\u001b[0m\u001b[0m\n\u001b[1;32m   3365\u001b[0m         \u001b[0;32mif\u001b[0m \u001b[0mis_scalar\u001b[0m\u001b[0;34m(\u001b[0m\u001b[0mkey\u001b[0m\u001b[0;34m)\u001b[0m \u001b[0;32mand\u001b[0m \u001b[0misna\u001b[0m\u001b[0;34m(\u001b[0m\u001b[0mkey\u001b[0m\u001b[0;34m)\u001b[0m \u001b[0;32mand\u001b[0m \u001b[0;32mnot\u001b[0m \u001b[0mself\u001b[0m\u001b[0;34m.\u001b[0m\u001b[0mhasnans\u001b[0m\u001b[0;34m:\u001b[0m\u001b[0;34m\u001b[0m\u001b[0;34m\u001b[0m\u001b[0m\n",
            "\u001b[0;31mKeyError\u001b[0m: 'w_home'"
          ]
        }
      ]
    }
  ],
  "metadata": {
    "kernelspec": {
      "display_name": "Python 3 (ipykernel)",
      "language": "python",
      "name": "python3"
    },
    "language_info": {
      "codemirror_mode": {
        "name": "ipython",
        "version": 3
      },
      "file_extension": ".py",
      "mimetype": "text/x-python",
      "name": "python",
      "nbconvert_exporter": "python",
      "pygments_lexer": "ipython3",
      "version": "3.9.12"
    },
    "colab": {
      "provenance": [],
      "include_colab_link": true
    }
  },
  "nbformat": 4,
  "nbformat_minor": 0
}