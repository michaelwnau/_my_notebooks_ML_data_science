{
  "cells": [
    {
      "cell_type": "markdown",
      "metadata": {
        "id": "IMaWd_mGcZQ-"
      },
      "source": [
        "# Workshop 7 [Student]\n",
        "\n",
        "This notebook will cover the following topics:\n",
        "\n",
        "1. Opening Files for use\n",
        "    - Reading\n",
        "    - Writing\n",
        "2. Cursors\n",
        "3. CSV Files\n",
        "4. Exception Handling\n",
        "5. Reading in files as classes\n",
        "6. Using JSON files"
      ]
    },
    {
      "cell_type": "markdown",
      "metadata": {
        "id": "Vp7ENQPHcZQ_"
      },
      "source": [
        "## 7.1 OPENING FILES (Follow)\n",
        "\n",
        "**Learning Objectives:**\n",
        "\n",
        "1. Understand how to use files.\n",
        "2. Understand reading and writing in files.\n",
        "3. Understand Context Managers.\n",
        "4. Learn to manipulate file system."
      ]
    },
    {
      "cell_type": "code",
      "execution_count": null,
      "metadata": {
        "colab": {
          "base_uri": "https://localhost:8080/",
          "height": 321
        },
        "id": "yYwB10BxcZRA",
        "outputId": "c7b9c7fa-da1b-4620-9ad5-001e64c635c9"
      },
      "outputs": [
        {
          "output_type": "error",
          "ename": "FileNotFoundError",
          "evalue": "ignored",
          "traceback": [
            "\u001b[0;31m---------------------------------------------------------------------------\u001b[0m",
            "\u001b[0;31mFileNotFoundError\u001b[0m                         Traceback (most recent call last)",
            "\u001b[0;32m<ipython-input-10-301f3362e20b>\u001b[0m in \u001b[0;36m<module>\u001b[0;34m\u001b[0m\n\u001b[1;32m     25\u001b[0m         \u001b[0mprint\u001b[0m\u001b[0;34m(\u001b[0m\u001b[0mfile\u001b[0m\u001b[0;34m.\u001b[0m\u001b[0mread\u001b[0m\u001b[0;34m(\u001b[0m\u001b[0;34m)\u001b[0m\u001b[0;34m)\u001b[0m\u001b[0;34m\u001b[0m\u001b[0;34m\u001b[0m\u001b[0m\n\u001b[1;32m     26\u001b[0m \u001b[0;34m\u001b[0m\u001b[0m\n\u001b[0;32m---> 27\u001b[0;31m \u001b[0mmain\u001b[0m\u001b[0;34m(\u001b[0m\u001b[0;34m)\u001b[0m\u001b[0;34m\u001b[0m\u001b[0;34m\u001b[0m\u001b[0m\n\u001b[0m",
            "\u001b[0;32m<ipython-input-10-301f3362e20b>\u001b[0m in \u001b[0;36mmain\u001b[0;34m()\u001b[0m\n\u001b[1;32m     11\u001b[0m \u001b[0;34m\u001b[0m\u001b[0m\n\u001b[1;32m     12\u001b[0m \u001b[0;32mdef\u001b[0m \u001b[0mmain\u001b[0m\u001b[0;34m(\u001b[0m\u001b[0;34m)\u001b[0m\u001b[0;34m:\u001b[0m\u001b[0;34m\u001b[0m\u001b[0;34m\u001b[0m\u001b[0m\n\u001b[0;32m---> 13\u001b[0;31m     \u001b[0mfile\u001b[0m \u001b[0;34m=\u001b[0m \u001b[0mopen\u001b[0m\u001b[0;34m(\u001b[0m\u001b[0;34m'test.txt'\u001b[0m\u001b[0;34m,\u001b[0m \u001b[0;34m'r'\u001b[0m\u001b[0;34m)\u001b[0m\u001b[0;34m\u001b[0m\u001b[0;34m\u001b[0m\u001b[0m\n\u001b[0m\u001b[1;32m     14\u001b[0m     \u001b[0mprint\u001b[0m\u001b[0;34m(\u001b[0m\u001b[0mfile\u001b[0m\u001b[0;34m.\u001b[0m\u001b[0mread\u001b[0m\u001b[0;34m(\u001b[0m\u001b[0;34m)\u001b[0m\u001b[0;34m)\u001b[0m\u001b[0;34m\u001b[0m\u001b[0;34m\u001b[0m\u001b[0m\n\u001b[1;32m     15\u001b[0m     \u001b[0mprint\u001b[0m\u001b[0;34m(\u001b[0m\u001b[0;34m)\u001b[0m\u001b[0;34m\u001b[0m\u001b[0;34m\u001b[0m\u001b[0m\n",
            "\u001b[0;31mFileNotFoundError\u001b[0m: [Errno 2] No such file or directory: 'test.txt'"
          ]
        }
      ],
      "source": [
        "\"\"\"\n",
        "Add comments for you own reference\n",
        "\"\"\"\n",
        "# file read/write flags\n",
        "# 'r' read\n",
        "# 'r+' read/write\n",
        "# 'w' write\n",
        "# 'w+' write/read\n",
        "# 'a' append\n",
        "# 'a+' append/read\n",
        "\n",
        "def main():\n",
        "    file = open('test.txt', 'r')\n",
        "    print(file.read())\n",
        "    print()\n",
        "    file.close()\n",
        "    \n",
        "    file = open('test.txt', 'r')\n",
        "    lines = file.readlines()\n",
        "    print(lines)\n",
        "    print()\n",
        "    file.close()\n",
        "    \n",
        "    with open('test.txt', 'r') as file:\n",
        "        print(file.read())\n",
        "    \n",
        "main()"
      ]
    },
    {
      "cell_type": "code",
      "execution_count": null,
      "metadata": {
        "colab": {
          "base_uri": "https://localhost:8080/"
        },
        "id": "nsQxecKxcZRA",
        "outputId": "a945a8d2-3a57-413d-b16f-b8b607e07210"
      },
      "outputs": [
        {
          "output_type": "stream",
          "name": "stdout",
          "text": [
            "This is a new file\n",
            "Lets change the text\n",
            "\n"
          ]
        }
      ],
      "source": [
        "\"\"\"\n",
        "Add comments for you own reference\n",
        "\"\"\"\n",
        "\n",
        "def main():\n",
        "    with open('test2.txt', 'w+') as file:\n",
        "        file.write(\"This is a new file\\n\")\n",
        "        file.write(\"Lets change the text\\n\")\n",
        "    \n",
        "    file = open('test2.txt', 'r')\n",
        "    print(file.read())\n",
        "    file.close()\n",
        "    \n",
        "main()"
      ]
    },
    {
      "cell_type": "code",
      "execution_count": null,
      "metadata": {
        "colab": {
          "base_uri": "https://localhost:8080/"
        },
        "id": "IL9me3aZcZRB",
        "outputId": "b70bffe2-5130-49a1-e87f-e8edb88ab658"
      },
      "outputs": [
        {
          "output_type": "stream",
          "name": "stdout",
          "text": [
            "This is a new file\n",
            "Lets change the text\n",
            "Lets Add to the file\n",
            "See what happens when you run the code again and again\n",
            "Lets Add to the file\n",
            "Adding to the file updates it locally\n",
            "See what happens when you run the code again and again\n",
            "Lets Add to the file\n",
            "Adding to the file updates it locally\n",
            "See what happens when you run the code again and again\n",
            "Lets Add to the file\n",
            "Adding to the file updates it in the console\n",
            "See what happens when you run the code again and again\n",
            "Lets Add to the file\n",
            "Adding to the file updates it in the console\n",
            "See what happens when you run the code again and again\n",
            "\n"
          ]
        }
      ],
      "source": [
        "\"\"\"\n",
        "Add comments for you own reference\n",
        "\"\"\"\n",
        "\n",
        "def main():\n",
        "    with open('test2.txt', 'a+') as file:\n",
        "        file.write(\"Lets Add to the file\\n\")\n",
        "        file.write(\"Adding to the file updates it in the console\\n\")\n",
        "        file.write(\"See what happens when you run the code again and again\\n\")\n",
        "    \n",
        "    file = open('test2.txt', 'r')\n",
        "    print(file.read())\n",
        "    file.close()\n",
        "    \n",
        "main()"
      ]
    },
    {
      "cell_type": "markdown",
      "metadata": {
        "id": "0HnWOuCocZRB"
      },
      "source": [
        "**Evaluation:**\n",
        "\n",
        "After running this program, think about and answer these questions:\n",
        "\n",
        "1. What would happen if files are not closed?\n",
        "2. What is the major pro and con of writing and appending?\n",
        "3. Try to read a file with different extension."
      ]
    },
    {
      "cell_type": "markdown",
      "metadata": {
        "id": "msQVS11KcZRB"
      },
      "source": [
        "## 7.1 OPENING FILES (Group)\n",
        "\n",
        "Write a program that will do the following:\n",
        "\n",
        "1. Create a new file named 'Workshop.txt'\n",
        "2. Write a random number in the file\n",
        "3. Retrive the number by reading the file\n",
        "4. Append the multiplication table of the number (1 - 10) in the file"
      ]
    },
    {
      "cell_type": "code",
      "execution_count": 1,
      "metadata": {
        "colab": {
          "base_uri": "https://localhost:8080/",
          "height": 235
        },
        "id": "X-ozM6LocZRB",
        "outputId": "16f2c65f-a881-43fa-8fcf-d9c42599e37b"
      },
      "outputs": [
        {
          "output_type": "error",
          "ename": "FileNotFoundError",
          "evalue": "ignored",
          "traceback": [
            "\u001b[0;31m---------------------------------------------------------------------------\u001b[0m",
            "\u001b[0;31mFileNotFoundError\u001b[0m                         Traceback (most recent call last)",
            "\u001b[0;32m<ipython-input-1-569b9d5f977c>\u001b[0m in \u001b[0;36m<module>\u001b[0;34m\u001b[0m\n\u001b[1;32m     23\u001b[0m \u001b[0;34m\u001b[0m\u001b[0m\n\u001b[1;32m     24\u001b[0m \u001b[0;31m# Open and read the number from the file\u001b[0m\u001b[0;34m\u001b[0m\u001b[0;34m\u001b[0m\u001b[0;34m\u001b[0m\u001b[0m\n\u001b[0;32m---> 25\u001b[0;31m \u001b[0;32mwith\u001b[0m \u001b[0mopen\u001b[0m\u001b[0;34m(\u001b[0m\u001b[0;34m\"Week_7_data/Workshop.txt\"\u001b[0m\u001b[0;34m,\u001b[0m \u001b[0;34m\"r\"\u001b[0m\u001b[0;34m)\u001b[0m \u001b[0;32mas\u001b[0m \u001b[0mf\u001b[0m\u001b[0;34m:\u001b[0m\u001b[0;34m\u001b[0m\u001b[0;34m\u001b[0m\u001b[0m\n\u001b[0m\u001b[1;32m     26\u001b[0m     \u001b[0mnum\u001b[0m \u001b[0;34m=\u001b[0m \u001b[0mint\u001b[0m\u001b[0;34m(\u001b[0m\u001b[0mf\u001b[0m\u001b[0;34m.\u001b[0m\u001b[0mreadline\u001b[0m\u001b[0;34m(\u001b[0m\u001b[0;34m)\u001b[0m\u001b[0;34m)\u001b[0m\u001b[0;34m\u001b[0m\u001b[0;34m\u001b[0m\u001b[0m\n\u001b[1;32m     27\u001b[0m \u001b[0;34m\u001b[0m\u001b[0m\n",
            "\u001b[0;31mFileNotFoundError\u001b[0m: [Errno 2] No such file or directory: 'Week_7_data/Workshop.txt'"
          ]
        }
      ],
      "source": [
        "\"\"\"\n",
        "Add comments for you own reference\n",
        "\"\"\"\n",
        "# file read/write flags\n",
        "# 'r' read\n",
        "# 'r+' read/write\n",
        "# 'w' write\n",
        "# 'w+' write/read\n",
        "# 'a' append\n",
        "# 'a+' append/read\n",
        "\n",
        "def main():\n",
        "    file = open('Workshop.txt', 'r')\n",
        "    print(file.read())\n",
        "    print()\n",
        "    file.close()\n",
        "    \n",
        "    file = open('Workshop.txt', 'r')\n",
        "    lines = file.readlines()\n",
        "    print(lines)\n",
        "    print()\n",
        "    file.close()\n",
        "    \n",
        "# Open and read the number from the file\n",
        "with open(\"Week_7_data/Workshop.txt\", \"r\") as f:\n",
        "    num = int(f.readline())\n",
        "\n",
        "# Append the multiplication table of the number to the file\n",
        "with open(\"Week_7_data/Workshop.txt\", \"a\") as f:\n",
        "    for i in range(1, 11):\n",
        "        f.write(f\"{num} x {i} = {num*i}\\n\")\n",
        "main()\n"
      ]
    },
    {
      "cell_type": "markdown",
      "metadata": {
        "id": "jturV5IjcZRB"
      },
      "source": [
        "## 7.2 CURSORS (Follow)\n",
        "\n",
        "**Learning Objectives:**\n",
        "\n",
        "1. Understand how cursors work.\n",
        "2. Understand reading and writing with help of cursor.\n",
        "3. Understand seek and tell functions.\n",
        "4. Learn to manipulate cursor in a file."
      ]
    },
    {
      "cell_type": "code",
      "execution_count": null,
      "metadata": {
        "colab": {
          "base_uri": "https://localhost:8080/",
          "height": 321
        },
        "id": "TmHcIIU4cZRB",
        "outputId": "e5c5e745-5fcd-434a-e590-d602c0c300c0"
      },
      "outputs": [
        {
          "output_type": "error",
          "ename": "FileNotFoundError",
          "evalue": "ignored",
          "traceback": [
            "\u001b[0;31m---------------------------------------------------------------------------\u001b[0m",
            "\u001b[0;31mFileNotFoundError\u001b[0m                         Traceback (most recent call last)",
            "\u001b[0;32m<ipython-input-22-b81111b444d6>\u001b[0m in \u001b[0;36m<module>\u001b[0;34m\u001b[0m\n\u001b[1;32m     17\u001b[0m         \u001b[0mprint\u001b[0m\u001b[0;34m(\u001b[0m\u001b[0mfile\u001b[0m\u001b[0;34m.\u001b[0m\u001b[0mread\u001b[0m\u001b[0;34m(\u001b[0m\u001b[0;36m3\u001b[0m\u001b[0;34m)\u001b[0m\u001b[0;34m)\u001b[0m\u001b[0;34m\u001b[0m\u001b[0;34m\u001b[0m\u001b[0m\n\u001b[1;32m     18\u001b[0m         \u001b[0mprint\u001b[0m\u001b[0;34m(\u001b[0m\u001b[0mfile\u001b[0m\u001b[0;34m.\u001b[0m\u001b[0mread\u001b[0m\u001b[0;34m(\u001b[0m\u001b[0;34m)\u001b[0m\u001b[0;34m)\u001b[0m\u001b[0;34m\u001b[0m\u001b[0;34m\u001b[0m\u001b[0m\n\u001b[0;32m---> 19\u001b[0;31m \u001b[0mmain\u001b[0m\u001b[0;34m(\u001b[0m\u001b[0;34m)\u001b[0m\u001b[0;34m\u001b[0m\u001b[0;34m\u001b[0m\u001b[0m\n\u001b[0m",
            "\u001b[0;32m<ipython-input-22-b81111b444d6>\u001b[0m in \u001b[0;36mmain\u001b[0;34m()\u001b[0m\n\u001b[1;32m      4\u001b[0m \u001b[0;34m\u001b[0m\u001b[0m\n\u001b[1;32m      5\u001b[0m \u001b[0;32mdef\u001b[0m \u001b[0mmain\u001b[0m\u001b[0;34m(\u001b[0m\u001b[0;34m)\u001b[0m\u001b[0;34m:\u001b[0m\u001b[0;34m\u001b[0m\u001b[0;34m\u001b[0m\u001b[0m\n\u001b[0;32m----> 6\u001b[0;31m     \u001b[0;32mwith\u001b[0m \u001b[0mopen\u001b[0m\u001b[0;34m(\u001b[0m\u001b[0;34m'test.txt'\u001b[0m\u001b[0;34m,\u001b[0m \u001b[0;34m'r'\u001b[0m\u001b[0;34m)\u001b[0m \u001b[0;32mas\u001b[0m \u001b[0mfile\u001b[0m\u001b[0;34m:\u001b[0m\u001b[0;34m\u001b[0m\u001b[0;34m\u001b[0m\u001b[0m\n\u001b[0m\u001b[1;32m      7\u001b[0m         \u001b[0mprint\u001b[0m\u001b[0;34m(\u001b[0m\u001b[0mfile\u001b[0m\u001b[0;34m.\u001b[0m\u001b[0mread\u001b[0m\u001b[0;34m(\u001b[0m\u001b[0;34m)\u001b[0m\u001b[0;34m)\u001b[0m\u001b[0;34m\u001b[0m\u001b[0;34m\u001b[0m\u001b[0m\n\u001b[1;32m      8\u001b[0m         \u001b[0mprint\u001b[0m\u001b[0;34m(\u001b[0m\u001b[0;34m\"\\nLets read again:\"\u001b[0m\u001b[0;34m)\u001b[0m\u001b[0;34m\u001b[0m\u001b[0;34m\u001b[0m\u001b[0m\n",
            "\u001b[0;31mFileNotFoundError\u001b[0m: [Errno 2] No such file or directory: 'test.txt'"
          ]
        }
      ],
      "source": [
        "\"\"\"\n",
        "Add comments for you own reference\n",
        "\"\"\"\n",
        "\n",
        "def main():  \n",
        "    with open('test.txt', 'r') as file:\n",
        "        print(file.read())\n",
        "        print(\"\\nLets read again:\")\n",
        "        print(file.read())\n",
        "        file.close()\n",
        "    \n",
        "    print('-----------------------------')\n",
        "    with open('test2.txt', 'r') as file:\n",
        "        print(file.readline())\n",
        "        print(file.readline())\n",
        "        print(\"Continuing to READ:\\n\")\n",
        "        print(file.read(3))\n",
        "        print(file.read())\n",
        "main()"
      ]
    },
    {
      "cell_type": "code",
      "execution_count": null,
      "metadata": {
        "colab": {
          "base_uri": "https://localhost:8080/",
          "height": 321
        },
        "id": "U4XtpnlAcZRC",
        "outputId": "68f32c9e-073b-4882-cd0f-3f382c98a9f8"
      },
      "outputs": [
        {
          "output_type": "error",
          "ename": "FileNotFoundError",
          "evalue": "ignored",
          "traceback": [
            "\u001b[0;31m---------------------------------------------------------------------------\u001b[0m",
            "\u001b[0;31mFileNotFoundError\u001b[0m                         Traceback (most recent call last)",
            "\u001b[0;32m<ipython-input-23-a1bebfb30e60>\u001b[0m in \u001b[0;36m<module>\u001b[0;34m\u001b[0m\n\u001b[1;32m     12\u001b[0m         \u001b[0mprint\u001b[0m\u001b[0;34m(\u001b[0m\u001b[0mfile\u001b[0m\u001b[0;34m.\u001b[0m\u001b[0mreadline\u001b[0m\u001b[0;34m(\u001b[0m\u001b[0;34m)\u001b[0m\u001b[0;34m)\u001b[0m\u001b[0;34m\u001b[0m\u001b[0;34m\u001b[0m\u001b[0m\n\u001b[1;32m     13\u001b[0m         \u001b[0mprint\u001b[0m\u001b[0;34m(\u001b[0m\u001b[0;34m\"Cursor is at - \"\u001b[0m\u001b[0;34m,\u001b[0m\u001b[0mfile\u001b[0m\u001b[0;34m.\u001b[0m\u001b[0mtell\u001b[0m\u001b[0;34m(\u001b[0m\u001b[0;34m)\u001b[0m\u001b[0;34m)\u001b[0m\u001b[0;34m\u001b[0m\u001b[0;34m\u001b[0m\u001b[0m\n\u001b[0;32m---> 14\u001b[0;31m \u001b[0mmain\u001b[0m\u001b[0;34m(\u001b[0m\u001b[0;34m)\u001b[0m\u001b[0;34m\u001b[0m\u001b[0;34m\u001b[0m\u001b[0m\n\u001b[0m",
            "\u001b[0;32m<ipython-input-23-a1bebfb30e60>\u001b[0m in \u001b[0;36mmain\u001b[0;34m()\u001b[0m\n\u001b[1;32m      4\u001b[0m \u001b[0;34m\u001b[0m\u001b[0m\n\u001b[1;32m      5\u001b[0m \u001b[0;32mdef\u001b[0m \u001b[0mmain\u001b[0m\u001b[0;34m(\u001b[0m\u001b[0;34m)\u001b[0m\u001b[0;34m:\u001b[0m\u001b[0;34m\u001b[0m\u001b[0;34m\u001b[0m\u001b[0m\n\u001b[0;32m----> 6\u001b[0;31m     \u001b[0;32mwith\u001b[0m \u001b[0mopen\u001b[0m\u001b[0;34m(\u001b[0m\u001b[0;34m'test.txt'\u001b[0m\u001b[0;34m,\u001b[0m \u001b[0;34m'r'\u001b[0m\u001b[0;34m)\u001b[0m \u001b[0;32mas\u001b[0m \u001b[0mfile\u001b[0m\u001b[0;34m:\u001b[0m\u001b[0;34m\u001b[0m\u001b[0;34m\u001b[0m\u001b[0m\n\u001b[0m\u001b[1;32m      7\u001b[0m         \u001b[0mprint\u001b[0m\u001b[0;34m(\u001b[0m\u001b[0;34m\"Cursor is at - \"\u001b[0m\u001b[0;34m,\u001b[0m\u001b[0mfile\u001b[0m\u001b[0;34m.\u001b[0m\u001b[0mtell\u001b[0m\u001b[0;34m(\u001b[0m\u001b[0;34m)\u001b[0m\u001b[0;34m)\u001b[0m\u001b[0;34m\u001b[0m\u001b[0;34m\u001b[0m\u001b[0m\n\u001b[1;32m      8\u001b[0m         \u001b[0mprint\u001b[0m\u001b[0;34m(\u001b[0m\u001b[0mfile\u001b[0m\u001b[0;34m.\u001b[0m\u001b[0mreadline\u001b[0m\u001b[0;34m(\u001b[0m\u001b[0;34m)\u001b[0m\u001b[0;34m)\u001b[0m\u001b[0;34m\u001b[0m\u001b[0;34m\u001b[0m\u001b[0m\n",
            "\u001b[0;31mFileNotFoundError\u001b[0m: [Errno 2] No such file or directory: 'test.txt'"
          ]
        }
      ],
      "source": [
        "\"\"\"\n",
        "Add comments for you own reference\n",
        "\"\"\"\n",
        "\n",
        "def main():  \n",
        "    with open('test.txt', 'r') as file:\n",
        "        print(\"Cursor is at - \",file.tell())\n",
        "        print(file.readline())\n",
        "        print(\"Cursor is at - \",file.tell())\n",
        "        file.seek(12)\n",
        "        print(\"Cursor is at - \",file.tell())\n",
        "        print(file.readline())\n",
        "        print(\"Cursor is at - \",file.tell())\n",
        "main()"
      ]
    },
    {
      "cell_type": "markdown",
      "metadata": {
        "id": "mgR-qf9IcZRC"
      },
      "source": [
        "**Evaluation:**\n",
        "\n",
        "After running this program, think about and answer these questions:\n",
        "\n",
        "1. What does the read() function do?\n",
        "2. What does the tell() function do?\n",
        "3. What does the seek() function do?"
      ]
    },
    {
      "cell_type": "markdown",
      "metadata": {
        "id": "UBe_N5YycZRC"
      },
      "source": [
        "## 7.2 CURSORS (Group)\n",
        "\n",
        "Write a program that will do the following:\n",
        "\n",
        "1. Use the file 'Workshop.txt'\n",
        "2. Read the file first to get the total number of characters in file.\n",
        "3. Use seek and tell to create a new file 'Workshop_rev.txt' that is a copy of the file in reverse order.\n",
        "4. Read and print 'Workshop_rev.txt'"
      ]
    },
    {
      "cell_type": "code",
      "execution_count": 10,
      "metadata": {
        "colab": {
          "base_uri": "https://localhost:8080/",
          "height": 235
        },
        "id": "zBwWsd7XcZRC",
        "outputId": "5496dde0-9957-42a2-eb01-b656ad469c1f"
      },
      "outputs": [
        {
          "output_type": "error",
          "ename": "FileNotFoundError",
          "evalue": "ignored",
          "traceback": [
            "\u001b[0;31m---------------------------------------------------------------------------\u001b[0m",
            "\u001b[0;31mFileNotFoundError\u001b[0m                         Traceback (most recent call last)",
            "\u001b[0;32m<ipython-input-10-72dd75227bcf>\u001b[0m in \u001b[0;36m<module>\u001b[0;34m\u001b[0m\n\u001b[1;32m      1\u001b[0m \u001b[0;31m# Open and read the file to get the total number of characters\u001b[0m\u001b[0;34m\u001b[0m\u001b[0;34m\u001b[0m\u001b[0;34m\u001b[0m\u001b[0m\n\u001b[0;32m----> 2\u001b[0;31m \u001b[0;32mwith\u001b[0m \u001b[0mopen\u001b[0m\u001b[0;34m(\u001b[0m\u001b[0;34m\"/content/Week_7_data/reverse_order.txt\"\u001b[0m\u001b[0;34m,\u001b[0m \u001b[0;34m\"r\"\u001b[0m\u001b[0;34m)\u001b[0m \u001b[0;32mas\u001b[0m \u001b[0mf\u001b[0m\u001b[0;34m:\u001b[0m\u001b[0;34m\u001b[0m\u001b[0;34m\u001b[0m\u001b[0m\n\u001b[0m\u001b[1;32m      3\u001b[0m     \u001b[0mcontents\u001b[0m \u001b[0;34m=\u001b[0m \u001b[0mf\u001b[0m\u001b[0;34m.\u001b[0m\u001b[0mread\u001b[0m\u001b[0;34m(\u001b[0m\u001b[0;34m)\u001b[0m\u001b[0;34m\u001b[0m\u001b[0;34m\u001b[0m\u001b[0m\n\u001b[1;32m      4\u001b[0m     \u001b[0mnum_chars\u001b[0m \u001b[0;34m=\u001b[0m \u001b[0mlen\u001b[0m\u001b[0;34m(\u001b[0m\u001b[0mcontents\u001b[0m\u001b[0;34m)\u001b[0m\u001b[0;34m\u001b[0m\u001b[0;34m\u001b[0m\u001b[0m\n\u001b[1;32m      5\u001b[0m \u001b[0;34m\u001b[0m\u001b[0m\n",
            "\u001b[0;31mFileNotFoundError\u001b[0m: [Errno 2] No such file or directory: '/content/Week_7_data/reverse_order.txt'"
          ]
        }
      ],
      "source": [
        "# Open and read the file to get the total number of characters\n",
        "with open(\"/content/Week_7_data/reverse_order.txt\", \"r\") as f:\n",
        "    contents = f.read()\n",
        "    num_chars = len(contents)\n",
        "\n",
        "# Create a new file with the contents of the original file in reverse order\n",
        "with open(\"/content/Week_7_data/reverse_order.txt\", \"r\") as f1, open(\"/content/Week_7_data/reverse_order_rev.txt\", \"w\") as f2:\n",
        "    f1.seek(0, 2) # Move to the end of the file\n",
        "    pos = f1.tell() # Get the current position\n",
        "    while pos >= 0:\n",
        "        f1.seek(pos) # Move to the current position\n",
        "        char = f1.read(1) # Read the current character\n",
        "        f2.write(char) # Write the current character to the new file\n",
        "        pos -= 1 # Move to the previous character\n",
        "\n",
        "# Read and print the contents of the new file\n",
        "with open(\"/content/Week_7_data/reverse_order_rev.txt\", \"r\") as f:\n",
        "    print(f.readline())\n",
        "\n"
      ]
    },
    {
      "cell_type": "markdown",
      "metadata": {
        "id": "KhHIN45McZRC"
      },
      "source": [
        "## 7.3 CSV FILES (Follow)\n",
        "\n",
        "**Learning Objectives:**\n",
        "\n",
        "1. Understand how to read CSV files.\n",
        "2. Understand how to deal with CSV files.\n",
        "3. Understnad how to deal with non-standard encoded files.\n",
        "4. Learn to implement writer and reader from csv module."
      ]
    },
    {
      "cell_type": "code",
      "execution_count": 6,
      "metadata": {
        "id": "vTdWex-ZcZRD",
        "colab": {
          "base_uri": "https://localhost:8080/"
        },
        "outputId": "1db402fd-a6f6-4c28-85f2-072d05765e46"
      },
      "outputs": [
        {
          "output_type": "stream",
          "name": "stdout",
          "text": [
            "ID  Name   Score\n",
            "1   Tom    98\n",
            "2   Matt   75\n",
            "3   Bob    62\n",
            "4   Kev    45\n",
            "5   Pam    23\n",
            "6   Sam    100\n"
          ]
        }
      ],
      "source": [
        "\"\"\"\n",
        "Add comments for you own reference\n",
        "\"\"\"\n",
        "\n",
        "import csv\n",
        "\n",
        "with open('grades.csv', mode = 'w', newline='') as grades:\n",
        "        writer = csv.writer(grades)\n",
        "        writer.writerow([1, 'Tom', 98])\n",
        "        writer.writerow([2, 'Matt', 75])\n",
        "        writer.writerow([3, 'Bob', 62])\n",
        "        writer.writerow([4, 'Kev', 45])\n",
        "        writer.writerow([5, 'Pam', 23])\n",
        "        writer.writerow([6, 'Sam', 100])\n",
        "        \n",
        "with open('grades.csv', 'r', newline='') as grades:\n",
        "    print(f'{\"ID\":<4}{\"Name\":<7}{\"Score\"}')\n",
        "    reader = csv.reader(grades)\n",
        "    for record in reader:\n",
        "        student_id, name, score = record\n",
        "        print(f'{student_id:<4}{name:<7}{score}')"
      ]
    },
    {
      "cell_type": "code",
      "source": [
        "from google.colab import drive\n",
        "drive.mount('/content/drive')"
      ],
      "metadata": {
        "colab": {
          "base_uri": "https://localhost:8080/"
        },
        "id": "Ntr4NRFBbrRd",
        "outputId": "a7f4e53e-4628-4f6d-837c-0397d47c8663"
      },
      "execution_count": 12,
      "outputs": [
        {
          "output_type": "stream",
          "name": "stdout",
          "text": [
            "Drive already mounted at /content/drive; to attempt to forcibly remount, call drive.mount(\"/content/drive\", force_remount=True).\n"
          ]
        }
      ]
    },
    {
      "cell_type": "markdown",
      "metadata": {
        "id": "V_s1g-MucZRD"
      },
      "source": [
        "**Evaluation:**\n",
        "\n",
        "After running this program, think about and answer these questions:\n",
        "\n",
        "1. What does the writer function do?\n",
        "2. What does the reader function do?\n",
        "3. How the the reader function read data?"
      ]
    },
    {
      "cell_type": "markdown",
      "metadata": {
        "id": "wBZowIVqcZRD"
      },
      "source": [
        "## 7.3 CSV FILES (Group)\n",
        "\n",
        "Write a program that will do the following:\n",
        "\n",
        "1. Use the same 'grades.csv' file\n",
        "2. Read the grades of the student and assign a Letter grade to them\n",
        "    - 90+ : A\n",
        "    - 70+ : B\n",
        "    - 60+ : C\n",
        "    - 40+ : D\n",
        "    - 40- : F\n",
        "3. Create a new file 'updated_grades.csv' and write the new data in the file.\n",
        "4. Display the contents of the file 'updated_grades.csv'"
      ]
    },
    {
      "cell_type": "code",
      "execution_count": 7,
      "metadata": {
        "colab": {
          "base_uri": "https://localhost:8080/",
          "height": 235
        },
        "id": "6jsawS53cZRD",
        "outputId": "6871c968-5301-433c-80b0-2e6ee9f50d24"
      },
      "outputs": [
        {
          "output_type": "error",
          "ename": "FileNotFoundError",
          "evalue": "ignored",
          "traceback": [
            "\u001b[0;31m---------------------------------------------------------------------------\u001b[0m",
            "\u001b[0;31mFileNotFoundError\u001b[0m                         Traceback (most recent call last)",
            "\u001b[0;32m<ipython-input-7-83d43e35fef0>\u001b[0m in \u001b[0;36m<module>\u001b[0;34m\u001b[0m\n\u001b[1;32m      1\u001b[0m \u001b[0;31m# Open the input file and create the output file\u001b[0m\u001b[0;34m\u001b[0m\u001b[0;34m\u001b[0m\u001b[0;34m\u001b[0m\u001b[0m\n\u001b[0;32m----> 2\u001b[0;31m \u001b[0;32mwith\u001b[0m \u001b[0mopen\u001b[0m\u001b[0;34m(\u001b[0m\u001b[0;34m\"Week_7_data/grades.csv\"\u001b[0m\u001b[0;34m,\u001b[0m \u001b[0;34m\"r\"\u001b[0m\u001b[0;34m)\u001b[0m \u001b[0;32mas\u001b[0m \u001b[0minput_file\u001b[0m\u001b[0;34m,\u001b[0m \u001b[0mopen\u001b[0m\u001b[0;34m(\u001b[0m\u001b[0;34m\"Week_7_data/updated_grades.csv\"\u001b[0m\u001b[0;34m,\u001b[0m \u001b[0;34m\"w\"\u001b[0m\u001b[0;34m)\u001b[0m \u001b[0;32mas\u001b[0m \u001b[0moutput_file\u001b[0m\u001b[0;34m:\u001b[0m\u001b[0;34m\u001b[0m\u001b[0;34m\u001b[0m\u001b[0m\n\u001b[0m\u001b[1;32m      3\u001b[0m     \u001b[0;31m# Read the header line from the input file and write it to the output file\u001b[0m\u001b[0;34m\u001b[0m\u001b[0;34m\u001b[0m\u001b[0;34m\u001b[0m\u001b[0m\n\u001b[1;32m      4\u001b[0m     \u001b[0mheader\u001b[0m \u001b[0;34m=\u001b[0m \u001b[0minput_file\u001b[0m\u001b[0;34m.\u001b[0m\u001b[0mreadline\u001b[0m\u001b[0;34m(\u001b[0m\u001b[0;34m)\u001b[0m\u001b[0;34m\u001b[0m\u001b[0;34m\u001b[0m\u001b[0m\n\u001b[1;32m      5\u001b[0m     \u001b[0moutput_file\u001b[0m\u001b[0;34m.\u001b[0m\u001b[0mwrite\u001b[0m\u001b[0;34m(\u001b[0m\u001b[0mheader\u001b[0m\u001b[0;34m)\u001b[0m\u001b[0;34m\u001b[0m\u001b[0;34m\u001b[0m\u001b[0m\n",
            "\u001b[0;31mFileNotFoundError\u001b[0m: [Errno 2] No such file or directory: 'Week_7_data/grades.csv'"
          ]
        }
      ],
      "source": [
        "# Open the input file and create the output file\n",
        "# Note that this path only works with the `Week_7_data` folder mounted.\n",
        "\n",
        "with open(\"Week_7_data/grades.csv\", \"r\") as input_file, open(\"Week_7_data/updated_grades.csv\", \"w\") as output_file:\n",
        "    # Read the header line from the input file and write it to the output file\n",
        "    header = input_file.readline()\n",
        "    output_file.write(header)\n",
        "\n",
        "    # Read each line of the input file, assign a letter grade to the student's grade, and write the updated line to the output file\n",
        "    for line in input_file:\n",
        "        fields = line.strip().split(\",\") # Split the line into fields\n",
        "        grade = int(fields[2]) # Convert the grade to an integer\n",
        "        if grade >= 90:\n",
        "            letter_grade = \"A\"\n",
        "        elif grade >= 70:\n",
        "            letter_grade = \"B\"\n",
        "        elif grade >= 60:\n",
        "            letter_grade = \"C\"\n",
        "        elif grade >= 40:\n",
        "            letter_grade = \"D\"\n",
        "        else:\n",
        "            letter_grade = \"F\"\n",
        "        fields.append(letter_grade) # Add the letter grade to the end of the fields\n",
        "        output_file.write(\",\".join(fields) + \"\\n\") # Write the updated line to the output file\n",
        "\n",
        "# Display the contents of the new file\n",
        "with open(\"Week_7_data/updated_grades.csv\", \"r\") as f:\n",
        "    print(f.read())\n",
        "\n"
      ]
    },
    {
      "cell_type": "markdown",
      "metadata": {
        "id": "8NMBN7v5cZRD"
      },
      "source": [
        "## 7.4 EXCEPTIONS (Follow)\n",
        "\n",
        "**Learning Objectives:**\n",
        "\n",
        "1. Understand the types of exceptions that can arise while file handling.\n",
        "2. Learn to deal with exceptions.\n",
        "3. Understand what is the importance and meaning of different file handling exceptions."
      ]
    },
    {
      "cell_type": "code",
      "execution_count": 8,
      "metadata": {
        "colab": {
          "base_uri": "https://localhost:8080/"
        },
        "id": "rmBtZnPccZRD",
        "outputId": "2a4745bb-3152-4e24-ad20-8a450e34060c"
      },
      "outputs": [
        {
          "output_type": "stream",
          "name": "stdout",
          "text": [
            "Enter file name: test\n",
            "No such file exists !\n"
          ]
        }
      ],
      "source": [
        "\"\"\"\n",
        "Add comments for you own reference\n",
        "\"\"\"\n",
        "\n",
        "import io\n",
        "\n",
        "def main():\n",
        "    name = input(\"Enter file name: \")\n",
        "    try:\n",
        "        file = open(name,'r')\n",
        "        print(file.read())\n",
        "#         file.write(\"HEY\")\n",
        "        file.close()\n",
        "    except FileNotFoundError:\n",
        "        print(\"No such file exists !\")\n",
        "    except PermissionError:\n",
        "        print(\"You do not have access here\")\n",
        "    except io.UnsupportedOperation:\n",
        "        print(\"File opened in read mode !\")\n",
        "main()"
      ]
    },
    {
      "cell_type": "markdown",
      "metadata": {
        "id": "jvEyqLNncZRD"
      },
      "source": [
        "**Evaluation:**\n",
        "\n",
        "After running this program, think about and answer these questions:\n",
        "\n",
        "1. What kind of other exceptions can arise?\n",
        "2. Lookup the exceptions in the above code and describe them briefly below.\n",
        "3. Can using context Manager avoid any exceptions or errors?"
      ]
    },
    {
      "cell_type": "markdown",
      "metadata": {
        "id": "rAwtRpAlcZRD"
      },
      "source": [
        "## 7.4 EXCEPTIONS (Group)\n",
        "\n",
        "Write a program that will do the following:\n",
        "\n",
        "1. Use the code snippet above\n",
        "2. Ask the user the mode of opening the file and open the file in requested mode.\n",
        "3. Give user option to read, write or append after opening the file.\n",
        "4. Handle any exception during this process.\n",
        "5. Dont forget to close the file."
      ]
    },
    {
      "cell_type": "code",
      "execution_count": null,
      "metadata": {
        "colab": {
          "base_uri": "https://localhost:8080/"
        },
        "id": "kMTiqL4YcZRD",
        "outputId": "0b643638-97fa-435e-a7e5-96fffffccffc"
      },
      "outputs": [
        {
          "output_type": "stream",
          "name": "stdout",
          "text": [
            "Enter file name: reverse_order\n",
            "Enter mode (r, w, or a): w\n",
            "Enter action (read, write, append, or exit): read\n",
            "An error occurred:  not readable\n"
          ]
        }
      ],
      "source": [
        "import io\n",
        "\n",
        "def main():\n",
        "    # Ask the user for the file name and mode\n",
        "    name = input(\"Enter file name: \")\n",
        "    mode = input(\"Enter mode (r, w, or a): \")\n",
        "    \n",
        "    # Open the file in the requested mode\n",
        "    try:\n",
        "        file = open(name, mode)\n",
        "    except FileNotFoundError:\n",
        "        print(\"No such file exists!\")\n",
        "        return\n",
        "    except PermissionError:\n",
        "        print(\"You do not have permission to open this file.\")\n",
        "        return\n",
        "\n",
        "    # Ask the user what they want to do with the file\n",
        "    while True:\n",
        "        action = input(\"Enter action (read, write, append, or exit): \")\n",
        "        if action == \"read\":\n",
        "            print(file.read())\n",
        "        elif action == \"write\":\n",
        "            text = input(\"Enter text to write to file: \")\n",
        "            file.write(text)\n",
        "            print(\"Text written to file.\")\n",
        "        elif action == \"append\":\n",
        "            text = input(\"Enter text to append to file: \")\n",
        "            file.write(text)\n",
        "            print(\"Text appended to file.\")\n",
        "        elif action == \"exit\":\n",
        "            break\n",
        "        else:\n",
        "            print(\"Invalid action. Please enter 'read', 'write', 'append', or 'exit'.\")\n",
        "\n",
        "    # Close the file\n",
        "    file.close()\n",
        "\n",
        "try:\n",
        "    main()\n",
        "except Exception as e:\n",
        "    print(\"An error occurred: \", e)\n",
        "\n"
      ]
    },
    {
      "cell_type": "markdown",
      "metadata": {
        "id": "fTuLdknKcZRE"
      },
      "source": [
        "## 7.5  Reading in files as classes (Follow):  \n",
        "\n",
        "**Learning Objectives:**\n",
        "\n",
        "    1. Understand how to read a file in as a class.\n",
        "    2. Understand why reading a file as a class can be useful."
      ]
    },
    {
      "cell_type": "code",
      "execution_count": null,
      "metadata": {
        "id": "yZdGzTAecZRE"
      },
      "outputs": [],
      "source": [
        "# add comments to the code\n",
        "\n",
        "import csv\n",
        "\n",
        "class Athlete:\n",
        "    def __init__(self, name, sex, age, height, weight, team, noc, games, year, season, city, sport, event, medal):\n",
        "        self.__name = name\n",
        "        self.__sex = sex\n",
        "        self.__age = age\n",
        "        self.__height = height\n",
        "        self.__weight = weight\n",
        "        self.__team = team\n",
        "        self.__noc = noc\n",
        "        self.__games = games\n",
        "        self.__year = year\n",
        "        self.__season = season\n",
        "        self.__city = city\n",
        "        self.__sport = sport\n",
        "        self.__event = event\n",
        "        self.__medal = medal\n",
        "        \n",
        "        \n",
        "    def get_age(self):\n",
        "        try:\n",
        "            if int(self.__age) > 0:\n",
        "                return int(self.__age)\n",
        "        except:\n",
        "            pass\n",
        "            return 0\n",
        "        \n",
        "        "
      ]
    },
    {
      "cell_type": "code",
      "execution_count": null,
      "metadata": {
        "colab": {
          "base_uri": "https://localhost:8080/",
          "height": 235
        },
        "id": "NTHv6FKUcZRE",
        "outputId": "d9a4f41d-1ce7-49fb-eec4-a94a27954371"
      },
      "outputs": [
        {
          "output_type": "error",
          "ename": "FileNotFoundError",
          "evalue": "ignored",
          "traceback": [
            "\u001b[0;31m---------------------------------------------------------------------------\u001b[0m",
            "\u001b[0;31mFileNotFoundError\u001b[0m                         Traceback (most recent call last)",
            "\u001b[0;32m<ipython-input-50-35661fd5fb91>\u001b[0m in \u001b[0;36m<module>\u001b[0;34m\u001b[0m\n\u001b[1;32m      2\u001b[0m \u001b[0mage_total\u001b[0m \u001b[0;34m=\u001b[0m \u001b[0;36m0\u001b[0m\u001b[0;34m\u001b[0m\u001b[0;34m\u001b[0m\u001b[0m\n\u001b[1;32m      3\u001b[0m \u001b[0;34m\u001b[0m\u001b[0m\n\u001b[0;32m----> 4\u001b[0;31m \u001b[0;32mwith\u001b[0m \u001b[0mopen\u001b[0m\u001b[0;34m(\u001b[0m\u001b[0;34m'athlete_events_short.csv'\u001b[0m\u001b[0;34m,\u001b[0m \u001b[0;34m'r'\u001b[0m\u001b[0;34m,\u001b[0m \u001b[0mnewline\u001b[0m\u001b[0;34m=\u001b[0m\u001b[0;34m''\u001b[0m\u001b[0;34m)\u001b[0m \u001b[0;32mas\u001b[0m \u001b[0mathletes\u001b[0m\u001b[0;34m:\u001b[0m\u001b[0;34m\u001b[0m\u001b[0;34m\u001b[0m\u001b[0m\n\u001b[0m\u001b[1;32m      5\u001b[0m     \u001b[0mreader\u001b[0m \u001b[0;34m=\u001b[0m \u001b[0mcsv\u001b[0m\u001b[0;34m.\u001b[0m\u001b[0mreader\u001b[0m\u001b[0;34m(\u001b[0m\u001b[0mathletes\u001b[0m\u001b[0;34m)\u001b[0m\u001b[0;34m\u001b[0m\u001b[0;34m\u001b[0m\u001b[0m\n\u001b[1;32m      6\u001b[0m \u001b[0;34m\u001b[0m\u001b[0m\n",
            "\u001b[0;31mFileNotFoundError\u001b[0m: [Errno 2] No such file or directory: 'athlete_events_short.csv'"
          ]
        }
      ],
      "source": [
        "athlete_list = []\n",
        "age_total = 0\n",
        "\n",
        "with open('athlete_events_short.csv', 'r', newline='') as athletes:\n",
        "    reader = csv.reader(athletes)\n",
        "    \n",
        "    header = next(reader)\n",
        "    \n",
        "    for line in reader:\n",
        "        new_athlete = Athlete(line[1], line[2], line[3], line[4], line[5], line[6], \n",
        "            line[7], line[8], line[9], line[10], line[11], line[12], line[13], line[14])\n",
        "        athlete_list.append(new_athlete)\n",
        "        \n",
        "for athlete in athlete_list:\n",
        "    age_total += athlete.get_age()\n",
        "    \n",
        "print(\" Average age in years for all olympians = \", age_total/len(athlete_list))"
      ]
    },
    {
      "cell_type": "markdown",
      "metadata": {
        "id": "HFnYpzfzcZRE"
      },
      "source": [
        "### As the above code executes, think about the following questions:\n",
        "\n",
        "1. What is this program doing?\n",
        "2. What does the newline='' do in line 4 above?\n",
        "3. What doe line 7 do?  Why is it there?\n",
        "4. Why did I implement a try/except block in 21-27 in the above code example?\n",
        "5. Am I actually finding the average age?  Explain."
      ]
    },
    {
      "cell_type": "markdown",
      "metadata": {
        "id": "ebwbXJrtcZRE"
      },
      "source": [
        "## 7.5  Reading in files as classes (Group):  \n",
        "\n",
        "**Write a program that will do the following:**\n",
        "\n",
        "    1. Take the code above in 7.5 and extend it.  \n",
        "    2. Read in the file and compute the average weight and average height.\n",
        "    3. Also try to find the maximum height of all athletes.\n",
        "    4. Report the findings to the console."
      ]
    },
    {
      "cell_type": "code",
      "execution_count": null,
      "metadata": {
        "colab": {
          "base_uri": "https://localhost:8080/"
        },
        "id": "RIOsoJWJcZRE",
        "outputId": "e04bbb1a-7fd8-40f5-906f-d86416ca88bb"
      },
      "outputs": [
        {
          "output_type": "stream",
          "name": "stdout",
          "text": [
            "Average age: 23.895895895895897\n",
            "Average weight: 54.26176176176176\n",
            "Maximum height: 210.0\n"
          ]
        }
      ],
      "source": [
        "# -- Note that the relative path has to be included for the 'open' \n",
        "# -- function to work\n",
        "\n",
        "\n",
        "\n",
        "import csv\n",
        "\n",
        "class Athlete:\n",
        "    # Define the attributes for the Athlete class\n",
        "    def __init__(self, name, sex, age, height, weight, team, noc, games, year, season, city, sport, event, medal):\n",
        "        self.__name = name\n",
        "        self.__sex = sex\n",
        "        self.__age = age\n",
        "        self.__height = height\n",
        "        self.__weight = weight\n",
        "        self.__team = team\n",
        "        self.__noc = noc\n",
        "        self.__games = games\n",
        "        self.__year = year\n",
        "        self.__season = season\n",
        "        self.__city = city\n",
        "        self.__sport = sport\n",
        "        self.__event = event\n",
        "        self.__medal = medal\n",
        "\n",
        "    # Define a method to get the athlete's age\n",
        "    def get_age(self):\n",
        "        try:\n",
        "            if int(self.__age) > 0:\n",
        "                return int(self.__age)\n",
        "        except:\n",
        "            pass\n",
        "        return 0\n",
        "\n",
        "    # Define a method to get the athlete's height\n",
        "    def get_height(self):\n",
        "        try:\n",
        "            if float(self.__height) > 0:\n",
        "                return float(self.__height)\n",
        "        except:\n",
        "            pass\n",
        "        return 0\n",
        "\n",
        "    # Define a method to get the athlete's weight\n",
        "    def get_weight(self):\n",
        "        try:\n",
        "            if float(self.__weight) > 0:\n",
        "                return float(self.__weight)\n",
        "        except:\n",
        "            pass\n",
        "        return 0\n",
        "\n",
        "athlete_list = []\n",
        "age_total = 0\n",
        "height_max = 0\n",
        "weight_total = 0\n",
        "\n",
        "# Read in the CSV file\n",
        "with open('/content/Week_7_data/athlete_events_short.csv', 'r', newline='') as athletes:\n",
        "    reader = csv.reader(athletes)\n",
        "    \n",
        "    header = next(reader)\n",
        "    \n",
        "    for line in reader:\n",
        "        new_athlete = Athlete(line[1], line[2], line[3], line[4], line[5], line[6], \n",
        "            line[7], line[8], line[9], line[10], line[11], line[12], line[13], line[14])\n",
        "        athlete_list.append(new_athlete)\n",
        "\n",
        "# Compute the average age, height, and weight, as well as the maximum height\n",
        "for athlete in athlete_list:\n",
        "    age_total += athlete.get_age()\n",
        "    weight_total += athlete.get_weight()\n",
        "    height = athlete.get_height()\n",
        "    if height > height_max:\n",
        "        height_max = height\n",
        "\n",
        "num_athletes = len(athlete_list)\n",
        "avg_age = age_total / num_athletes\n",
        "avg_weight = weight_total / num_athletes\n",
        "\n",
        "# Print the results to the console\n",
        "print(f\"Average age: {avg_age}\")\n",
        "print(f\"Average weight: {avg_weight}\")\n",
        "print(f\"Maximum height: {height_max}\")\n",
        "\n"
      ]
    },
    {
      "cell_type": "code",
      "execution_count": null,
      "metadata": {
        "id": "QXmKQjDpcZRE"
      },
      "outputs": [],
      "source": [
        "\n"
      ]
    },
    {
      "cell_type": "markdown",
      "metadata": {
        "id": "TTmz8ugxcZRE"
      },
      "source": [
        "## 7.6  Using JSON files (Follow):  \n",
        "\n",
        "**Learning Objectives:**\n",
        "\n",
        "    1. Understand what a JSON file is.\n",
        "    2. Understand how to use JSON files."
      ]
    },
    {
      "cell_type": "code",
      "execution_count": null,
      "metadata": {
        "colab": {
          "base_uri": "https://localhost:8080/",
          "height": 235
        },
        "id": "NYG3OxsncZRE",
        "outputId": "0811f1d5-105f-46d5-e1c5-7090e12e198b"
      },
      "outputs": [
        {
          "output_type": "error",
          "ename": "FileNotFoundError",
          "evalue": "ignored",
          "traceback": [
            "\u001b[0;31m---------------------------------------------------------------------------\u001b[0m",
            "\u001b[0;31mFileNotFoundError\u001b[0m                         Traceback (most recent call last)",
            "\u001b[0;32m<ipython-input-57-24529bd7439f>\u001b[0m in \u001b[0;36m<module>\u001b[0;34m\u001b[0m\n\u001b[1;32m      1\u001b[0m \u001b[0;32mimport\u001b[0m \u001b[0mjson\u001b[0m\u001b[0;34m\u001b[0m\u001b[0;34m\u001b[0m\u001b[0m\n\u001b[1;32m      2\u001b[0m \u001b[0;34m\u001b[0m\u001b[0m\n\u001b[0;32m----> 3\u001b[0;31m \u001b[0mf\u001b[0m \u001b[0;34m=\u001b[0m \u001b[0mopen\u001b[0m\u001b[0;34m(\u001b[0m\u001b[0;34m'example.json'\u001b[0m\u001b[0;34m)\u001b[0m\u001b[0;34m\u001b[0m\u001b[0;34m\u001b[0m\u001b[0m\n\u001b[0m\u001b[1;32m      4\u001b[0m \u001b[0;34m\u001b[0m\u001b[0m\n\u001b[1;32m      5\u001b[0m \u001b[0mdata\u001b[0m \u001b[0;34m=\u001b[0m \u001b[0mjson\u001b[0m\u001b[0;34m.\u001b[0m\u001b[0mload\u001b[0m\u001b[0;34m(\u001b[0m\u001b[0mf\u001b[0m\u001b[0;34m)\u001b[0m\u001b[0;34m\u001b[0m\u001b[0;34m\u001b[0m\u001b[0m\n",
            "\u001b[0;31mFileNotFoundError\u001b[0m: [Errno 2] No such file or directory: 'example.json'"
          ]
        }
      ],
      "source": [
        "import json\n",
        "  \n",
        "f = open('example.json')\n",
        "  \n",
        "data = json.load(f)\n",
        "  \n",
        "for i in data:\n",
        "    print(i, ':', data[i])\n",
        "  \n",
        "print('\\n', json.dumps(data, indent = 4, sort_keys=False))\n",
        "\n",
        "f.close()"
      ]
    },
    {
      "cell_type": "markdown",
      "metadata": {
        "id": "9J5cpbYycZRE"
      },
      "source": [
        "### As the above code executes, think about the following questions:\n",
        "\n",
        "1. What does a JSON file contain?\n",
        "2. How could we use a JSON file?\n",
        "3. Where do JSON files come from?"
      ]
    },
    {
      "cell_type": "markdown",
      "metadata": {
        "id": "3jZHIeGucZRE"
      },
      "source": [
        "## 7.6 Using JSON files. (Group):  \n",
        "\n",
        "**Write a program that will do the following:**\n",
        "\n",
        "    1. Create a JSON file from a dictionary.\n",
        "    2. Open the JSON file just like you open a text file.  \n",
        "    3. Just make sure you name the file with a .JSON file extension.\n",
        "    4. Create the dictionary from some context in your life or work.\n",
        "    5. Use the json.dump command from above to write to the file."
      ]
    },
    {
      "cell_type": "code",
      "execution_count": null,
      "metadata": {
        "colab": {
          "base_uri": "https://localhost:8080/"
        },
        "id": "VSvoEAcfcZRE",
        "outputId": "86711b56-75b9-46a0-d245-8f6436a6d9e9"
      },
      "outputs": [
        {
          "output_type": "stream",
          "name": "stdout",
          "text": [
            "{'name': 'John', 'age': 30, 'city': 'New York'}\n"
          ]
        }
      ],
      "source": [
        "import json\n",
        "\n",
        "# Create a dictionary from some context in your life or work\n",
        "my_dict = {\"name\": \"John\", \"age\": 30, \"city\": \"New York\"}\n",
        "\n",
        "# Open the JSON file and write the dictionary to it\n",
        "with open(\"/content/Week_7_data/my_data.json\", \"w\") as f:\n",
        "    json.dump(my_dict, f)\n",
        "\n",
        "# Open the JSON file and read the data from it\n",
        "with open(\"/content/Week_7_data/my_data.json\", \"r\") as f:\n",
        "    data = json.load(f)\n",
        "    print(data)\n",
        "\n"
      ]
    }
  ],
  "metadata": {
    "kernelspec": {
      "display_name": "Python 3 (ipykernel)",
      "language": "python",
      "name": "python3"
    },
    "language_info": {
      "codemirror_mode": {
        "name": "ipython",
        "version": 3
      },
      "file_extension": ".py",
      "mimetype": "text/x-python",
      "name": "python",
      "nbconvert_exporter": "python",
      "pygments_lexer": "ipython3",
      "version": "3.8.13"
    },
    "colab": {
      "provenance": []
    }
  },
  "nbformat": 4,
  "nbformat_minor": 0
}