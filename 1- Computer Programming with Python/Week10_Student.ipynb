{
  "cells": [
    {
      "cell_type": "markdown",
      "metadata": {
        "id": "view-in-github",
        "colab_type": "text"
      },
      "source": [
        "<a href=\"https://colab.research.google.com/github/michaelwnau/_ai_academy_notebooks/blob/main/Week10_Student.ipynb\" target=\"_parent\"><img src=\"https://colab.research.google.com/assets/colab-badge.svg\" alt=\"Open In Colab\"/></a>"
      ]
    },
    {
      "cell_type": "markdown",
      "metadata": {
        "id": "El7YkvWHBoOi"
      },
      "source": [
        "# Workshop 10 [Student]\n",
        "\n",
        "This notebook will cover the following topics:\n",
        "\n",
        "1. Basic statistics\n",
        "    - Central Tendancy\n",
        "    - Feature Scaling\n",
        "2. Visualization\n",
        "    - Plots\n",
        "3. Final project"
      ]
    },
    {
      "cell_type": "markdown",
      "metadata": {
        "id": "uWC52D42BoOk"
      },
      "source": [
        "## 10.1 BASIC STATISTICS (Follow)\n",
        "\n",
        "**Learning Objectives**\n",
        "1. Understand mean, median, and mode and when to use each and what they mean\n",
        "2. Understand standard deviation\n",
        "3. Understand Z-Score\n",
        "4. Understand normalization"
      ]
    },
    {
      "cell_type": "code",
      "execution_count": 4,
      "metadata": {
        "colab": {
          "base_uri": "https://localhost:8080/"
        },
        "id": "YqxBsM5jBoOk",
        "outputId": "c696158c-6ee5-44e7-c421-69f6f36f5799"
      },
      "outputs": [
        {
          "output_type": "stream",
          "name": "stdout",
          "text": [
            "89.76923076923077\n",
            "87.0\n",
            "0    86\n",
            "dtype: int64\n",
            "9.636336148089395\n",
            "[ 77  78  85  86  87  88  94  99 103 111] \n",
            " [1 1 1 3 2 1 1 1 1 1]\n",
            "71511.92857142857\n",
            "87.0\n",
            "0    86\n",
            "dtype: int64\n",
            "267237.2502366978\n",
            "53141.0\n",
            "52801.0\n",
            "0    52801\n",
            "dtype: int64\n",
            "20442.56297309833\n"
          ]
        }
      ],
      "source": [
        "\"\"\"\n",
        "Add comments for you own reference\n",
        "\"\"\"\n",
        "\n",
        "import pandas as pd\n",
        "import numpy as np\n",
        "\n",
        "\n",
        "speed = pd.Series([99,86,87,88,111,86,103,87,94,78,77,85,86])\n",
        "#print(speed)\n",
        "print(speed.mean())\n",
        "print(speed.median())\n",
        "print(speed.mode())\n",
        "print(speed.std())\n",
        "values, counts = np.unique(speed, return_counts=True)\n",
        "print(values, '\\n', counts)\n",
        "\n",
        "velocity = pd.Series([99,86,87,88,111,86,103,87,94,78,77,85,86, 1000000])\n",
        "# print(velocity)\n",
        "print(velocity.mean())\n",
        "print(velocity.median())\n",
        "print(velocity.mode())\n",
        "print(velocity.std())\n",
        "\n",
        "postal_codes = pd.Series([52801, 52802, 52803, 52801, 78318, 90210, 77318, 27511, 27513, 27514, 49093, 49008])\n",
        "# print(postal_codes)\n",
        "print(postal_codes.mean())\n",
        "print(postal_codes.median())\n",
        "print(postal_codes.mode())\n",
        "print(postal_codes.std())\n"
      ]
    },
    {
      "cell_type": "code",
      "execution_count": 5,
      "metadata": {
        "id": "oipSdww0BoOl"
      },
      "outputs": [],
      "source": [
        "\"\"\"\n",
        "Add comments for you own reference\n",
        "\"\"\"\n",
        "#https://www.scribbr.com/statistics/normal-distribution/#:~:text=In%20a%20normal%20distribution%2C%20data%20are%20symmetrically%20distributed%20with%20no,same%20in%20a%20normal%20distribution.\n",
        "#https://www.geeksforgeeks.org/normalization-vs-standardization/\n",
        "\n",
        "def standardize(X, mean, std):\n",
        "    standardized_val = (X-mean)/std\n",
        "    return standardized_val\n",
        "\n",
        "def normalize(X, X_max, X_min):\n",
        "    normalized_value = (X-X_min)/(X_max-X_min)\n",
        "    return normalized_value\n"
      ]
    },
    {
      "cell_type": "code",
      "source": [
        "from google.colab import drive\n",
        "drive.mount('/content/drive')"
      ],
      "metadata": {
        "colab": {
          "base_uri": "https://localhost:8080/"
        },
        "id": "R96QzevIdI4e",
        "outputId": "5892d243-8945-4bad-a50f-9a60597cb76d"
      },
      "execution_count": 3,
      "outputs": [
        {
          "output_type": "stream",
          "name": "stdout",
          "text": [
            "Mounted at /content/drive\n"
          ]
        }
      ]
    },
    {
      "cell_type": "code",
      "execution_count": null,
      "metadata": {
        "id": "El4Dq6YwBoOl"
      },
      "outputs": [],
      "source": [
        "\"\"\"\n",
        "Add comments for you own reference\n",
        "\"\"\" \n",
        "print(\"--- speed ---\")\n",
        "for item in speed:\n",
        "    print(\"St: \",standardize(item, speed.mean(), speed.std()))\n",
        "    print(\"No: \", normalize(item, speed.max(), speed.min()))\n",
        "    \n",
        "print(\"\\n--- velocity ---\")\n",
        "for item in velocity:\n",
        "    print(\"St: \",standardize(item, velocity.mean(), velocity.std()))\n",
        "    print(\"No: \",normalize(item, velocity.max(), velocity.min()))"
      ]
    },
    {
      "cell_type": "markdown",
      "metadata": {
        "id": "2Sf5vvwcBoOl"
      },
      "source": [
        "**Evaluation:**\n",
        "\n",
        "After running this program, think about and answer these questions:\n",
        "\n",
        "1. How is Z_score Calculated?\n",
        "2. How is Data Normalized?\n",
        "3. What is the use of Standardization and Normalization?"
      ]
    },
    {
      "cell_type": "markdown",
      "metadata": {
        "id": "v5dDFEmnBoOm"
      },
      "source": [
        "## 10.1 BASIC STATISTICS (Group)\n",
        "\n",
        "Write a program that will do the following:\n",
        "\n",
        "1. Use the Iris dataset.\n",
        "2. Calculate mean, median, mode of each column(Except Target class)\n",
        "3. Standardize and Normalize each column."
      ]
    },
    {
      "cell_type": "code",
      "execution_count": 15,
      "metadata": {
        "colab": {
          "base_uri": "https://localhost:8080/",
          "height": 514
        },
        "id": "r-GdyLWXBoOm",
        "outputId": "b3adf80c-f931-437c-bf2d-24da101c3643"
      },
      "outputs": [
        {
          "output_type": "display_data",
          "data": {
            "text/plain": [
              "<IPython.core.display.Markdown object>"
            ],
            "text/markdown": "**Id:** Mean=75.50, Median=75.50, Mode=1.00"
          },
          "metadata": {}
        },
        {
          "output_type": "display_data",
          "data": {
            "text/plain": [
              "<IPython.core.display.Markdown object>"
            ],
            "text/markdown": "**SepalLengthCm:** Mean=5.84, Median=5.80, Mode=5.00"
          },
          "metadata": {}
        },
        {
          "output_type": "display_data",
          "data": {
            "text/plain": [
              "<IPython.core.display.Markdown object>"
            ],
            "text/markdown": "**SepalWidthCm:** Mean=3.05, Median=3.00, Mode=3.00"
          },
          "metadata": {}
        },
        {
          "output_type": "display_data",
          "data": {
            "text/plain": [
              "<IPython.core.display.Markdown object>"
            ],
            "text/markdown": "**PetalLengthCm:** Mean=3.76, Median=4.35, Mode=1.50"
          },
          "metadata": {}
        },
        {
          "output_type": "display_data",
          "data": {
            "text/plain": [
              "<IPython.core.display.Markdown object>"
            ],
            "text/markdown": "**PetalWidthCm:** Mean=1.20, Median=1.30, Mode=0.20"
          },
          "metadata": {}
        },
        {
          "output_type": "display_data",
          "data": {
            "text/plain": [
              "<IPython.core.display.Markdown object>"
            ],
            "text/markdown": "### Updated Iris DataFrame with Standardized and Normalized Columns:"
          },
          "metadata": {}
        },
        {
          "output_type": "display_data",
          "data": {
            "text/plain": [
              "   Id  SepalLengthCm  SepalWidthCm  PetalLengthCm  PetalWidthCm      Species  \\\n",
              "0   1            5.1           3.5            1.4           0.2  Iris-setosa   \n",
              "1   2            4.9           3.0            1.4           0.2  Iris-setosa   \n",
              "2   3            4.7           3.2            1.3           0.2  Iris-setosa   \n",
              "3   4            4.6           3.1            1.5           0.2  Iris-setosa   \n",
              "4   5            5.0           3.6            1.4           0.2  Iris-setosa   \n",
              "\n",
              "   Id_standardized  Id_normalized  SepalLengthCm_standardized  \\\n",
              "0        -1.714797       0.000000                   -0.897674   \n",
              "1        -1.691780       0.006711                   -1.139200   \n",
              "2        -1.668762       0.013423                   -1.380727   \n",
              "3        -1.645745       0.020134                   -1.501490   \n",
              "4        -1.622728       0.026846                   -1.018437   \n",
              "\n",
              "   SepalLengthCm_normalized  SepalWidthCm_standardized  \\\n",
              "0                  0.222222                   1.028611   \n",
              "1                  0.166667                  -0.124540   \n",
              "2                  0.111111                   0.336720   \n",
              "3                  0.083333                   0.106090   \n",
              "4                  0.194444                   1.259242   \n",
              "\n",
              "   SepalWidthCm_normalized  PetalLengthCm_standardized  \\\n",
              "0                 0.625000                   -1.336794   \n",
              "1                 0.416667                   -1.336794   \n",
              "2                 0.500000                   -1.393470   \n",
              "3                 0.458333                   -1.280118   \n",
              "4                 0.666667                   -1.336794   \n",
              "\n",
              "   PetalLengthCm_normalized  PetalWidthCm_standardized  \\\n",
              "0                  0.067797                  -1.308593   \n",
              "1                  0.067797                  -1.308593   \n",
              "2                  0.050847                  -1.308593   \n",
              "3                  0.084746                  -1.308593   \n",
              "4                  0.067797                  -1.308593   \n",
              "\n",
              "   PetalWidthCm_normalized  \n",
              "0                 0.041667  \n",
              "1                 0.041667  \n",
              "2                 0.041667  \n",
              "3                 0.041667  \n",
              "4                 0.041667  "
            ],
            "text/html": [
              "\n",
              "  <div id=\"df-37378e4c-16ca-47b8-abb4-ffa4c59b15a7\">\n",
              "    <div class=\"colab-df-container\">\n",
              "      <div>\n",
              "<style scoped>\n",
              "    .dataframe tbody tr th:only-of-type {\n",
              "        vertical-align: middle;\n",
              "    }\n",
              "\n",
              "    .dataframe tbody tr th {\n",
              "        vertical-align: top;\n",
              "    }\n",
              "\n",
              "    .dataframe thead th {\n",
              "        text-align: right;\n",
              "    }\n",
              "</style>\n",
              "<table border=\"1\" class=\"dataframe\">\n",
              "  <thead>\n",
              "    <tr style=\"text-align: right;\">\n",
              "      <th></th>\n",
              "      <th>Id</th>\n",
              "      <th>SepalLengthCm</th>\n",
              "      <th>SepalWidthCm</th>\n",
              "      <th>PetalLengthCm</th>\n",
              "      <th>PetalWidthCm</th>\n",
              "      <th>Species</th>\n",
              "      <th>Id_standardized</th>\n",
              "      <th>Id_normalized</th>\n",
              "      <th>SepalLengthCm_standardized</th>\n",
              "      <th>SepalLengthCm_normalized</th>\n",
              "      <th>SepalWidthCm_standardized</th>\n",
              "      <th>SepalWidthCm_normalized</th>\n",
              "      <th>PetalLengthCm_standardized</th>\n",
              "      <th>PetalLengthCm_normalized</th>\n",
              "      <th>PetalWidthCm_standardized</th>\n",
              "      <th>PetalWidthCm_normalized</th>\n",
              "    </tr>\n",
              "  </thead>\n",
              "  <tbody>\n",
              "    <tr>\n",
              "      <th>0</th>\n",
              "      <td>1</td>\n",
              "      <td>5.1</td>\n",
              "      <td>3.5</td>\n",
              "      <td>1.4</td>\n",
              "      <td>0.2</td>\n",
              "      <td>Iris-setosa</td>\n",
              "      <td>-1.714797</td>\n",
              "      <td>0.000000</td>\n",
              "      <td>-0.897674</td>\n",
              "      <td>0.222222</td>\n",
              "      <td>1.028611</td>\n",
              "      <td>0.625000</td>\n",
              "      <td>-1.336794</td>\n",
              "      <td>0.067797</td>\n",
              "      <td>-1.308593</td>\n",
              "      <td>0.041667</td>\n",
              "    </tr>\n",
              "    <tr>\n",
              "      <th>1</th>\n",
              "      <td>2</td>\n",
              "      <td>4.9</td>\n",
              "      <td>3.0</td>\n",
              "      <td>1.4</td>\n",
              "      <td>0.2</td>\n",
              "      <td>Iris-setosa</td>\n",
              "      <td>-1.691780</td>\n",
              "      <td>0.006711</td>\n",
              "      <td>-1.139200</td>\n",
              "      <td>0.166667</td>\n",
              "      <td>-0.124540</td>\n",
              "      <td>0.416667</td>\n",
              "      <td>-1.336794</td>\n",
              "      <td>0.067797</td>\n",
              "      <td>-1.308593</td>\n",
              "      <td>0.041667</td>\n",
              "    </tr>\n",
              "    <tr>\n",
              "      <th>2</th>\n",
              "      <td>3</td>\n",
              "      <td>4.7</td>\n",
              "      <td>3.2</td>\n",
              "      <td>1.3</td>\n",
              "      <td>0.2</td>\n",
              "      <td>Iris-setosa</td>\n",
              "      <td>-1.668762</td>\n",
              "      <td>0.013423</td>\n",
              "      <td>-1.380727</td>\n",
              "      <td>0.111111</td>\n",
              "      <td>0.336720</td>\n",
              "      <td>0.500000</td>\n",
              "      <td>-1.393470</td>\n",
              "      <td>0.050847</td>\n",
              "      <td>-1.308593</td>\n",
              "      <td>0.041667</td>\n",
              "    </tr>\n",
              "    <tr>\n",
              "      <th>3</th>\n",
              "      <td>4</td>\n",
              "      <td>4.6</td>\n",
              "      <td>3.1</td>\n",
              "      <td>1.5</td>\n",
              "      <td>0.2</td>\n",
              "      <td>Iris-setosa</td>\n",
              "      <td>-1.645745</td>\n",
              "      <td>0.020134</td>\n",
              "      <td>-1.501490</td>\n",
              "      <td>0.083333</td>\n",
              "      <td>0.106090</td>\n",
              "      <td>0.458333</td>\n",
              "      <td>-1.280118</td>\n",
              "      <td>0.084746</td>\n",
              "      <td>-1.308593</td>\n",
              "      <td>0.041667</td>\n",
              "    </tr>\n",
              "    <tr>\n",
              "      <th>4</th>\n",
              "      <td>5</td>\n",
              "      <td>5.0</td>\n",
              "      <td>3.6</td>\n",
              "      <td>1.4</td>\n",
              "      <td>0.2</td>\n",
              "      <td>Iris-setosa</td>\n",
              "      <td>-1.622728</td>\n",
              "      <td>0.026846</td>\n",
              "      <td>-1.018437</td>\n",
              "      <td>0.194444</td>\n",
              "      <td>1.259242</td>\n",
              "      <td>0.666667</td>\n",
              "      <td>-1.336794</td>\n",
              "      <td>0.067797</td>\n",
              "      <td>-1.308593</td>\n",
              "      <td>0.041667</td>\n",
              "    </tr>\n",
              "  </tbody>\n",
              "</table>\n",
              "</div>\n",
              "      <button class=\"colab-df-convert\" onclick=\"convertToInteractive('df-37378e4c-16ca-47b8-abb4-ffa4c59b15a7')\"\n",
              "              title=\"Convert this dataframe to an interactive table.\"\n",
              "              style=\"display:none;\">\n",
              "        \n",
              "  <svg xmlns=\"http://www.w3.org/2000/svg\" height=\"24px\"viewBox=\"0 0 24 24\"\n",
              "       width=\"24px\">\n",
              "    <path d=\"M0 0h24v24H0V0z\" fill=\"none\"/>\n",
              "    <path d=\"M18.56 5.44l.94 2.06.94-2.06 2.06-.94-2.06-.94-.94-2.06-.94 2.06-2.06.94zm-11 1L8.5 8.5l.94-2.06 2.06-.94-2.06-.94L8.5 2.5l-.94 2.06-2.06.94zm10 10l.94 2.06.94-2.06 2.06-.94-2.06-.94-.94-2.06-.94 2.06-2.06.94z\"/><path d=\"M17.41 7.96l-1.37-1.37c-.4-.4-.92-.59-1.43-.59-.52 0-1.04.2-1.43.59L10.3 9.45l-7.72 7.72c-.78.78-.78 2.05 0 2.83L4 21.41c.39.39.9.59 1.41.59.51 0 1.02-.2 1.41-.59l7.78-7.78 2.81-2.81c.8-.78.8-2.07 0-2.86zM5.41 20L4 18.59l7.72-7.72 1.47 1.35L5.41 20z\"/>\n",
              "  </svg>\n",
              "      </button>\n",
              "      \n",
              "  <style>\n",
              "    .colab-df-container {\n",
              "      display:flex;\n",
              "      flex-wrap:wrap;\n",
              "      gap: 12px;\n",
              "    }\n",
              "\n",
              "    .colab-df-convert {\n",
              "      background-color: #E8F0FE;\n",
              "      border: none;\n",
              "      border-radius: 50%;\n",
              "      cursor: pointer;\n",
              "      display: none;\n",
              "      fill: #1967D2;\n",
              "      height: 32px;\n",
              "      padding: 0 0 0 0;\n",
              "      width: 32px;\n",
              "    }\n",
              "\n",
              "    .colab-df-convert:hover {\n",
              "      background-color: #E2EBFA;\n",
              "      box-shadow: 0px 1px 2px rgba(60, 64, 67, 0.3), 0px 1px 3px 1px rgba(60, 64, 67, 0.15);\n",
              "      fill: #174EA6;\n",
              "    }\n",
              "\n",
              "    [theme=dark] .colab-df-convert {\n",
              "      background-color: #3B4455;\n",
              "      fill: #D2E3FC;\n",
              "    }\n",
              "\n",
              "    [theme=dark] .colab-df-convert:hover {\n",
              "      background-color: #434B5C;\n",
              "      box-shadow: 0px 1px 3px 1px rgba(0, 0, 0, 0.15);\n",
              "      filter: drop-shadow(0px 1px 2px rgba(0, 0, 0, 0.3));\n",
              "      fill: #FFFFFF;\n",
              "    }\n",
              "  </style>\n",
              "\n",
              "      <script>\n",
              "        const buttonEl =\n",
              "          document.querySelector('#df-37378e4c-16ca-47b8-abb4-ffa4c59b15a7 button.colab-df-convert');\n",
              "        buttonEl.style.display =\n",
              "          google.colab.kernel.accessAllowed ? 'block' : 'none';\n",
              "\n",
              "        async function convertToInteractive(key) {\n",
              "          const element = document.querySelector('#df-37378e4c-16ca-47b8-abb4-ffa4c59b15a7');\n",
              "          const dataTable =\n",
              "            await google.colab.kernel.invokeFunction('convertToInteractive',\n",
              "                                                     [key], {});\n",
              "          if (!dataTable) return;\n",
              "\n",
              "          const docLinkHtml = 'Like what you see? Visit the ' +\n",
              "            '<a target=\"_blank\" href=https://colab.research.google.com/notebooks/data_table.ipynb>data table notebook</a>'\n",
              "            + ' to learn more about interactive tables.';\n",
              "          element.innerHTML = '';\n",
              "          dataTable['output_type'] = 'display_data';\n",
              "          await google.colab.output.renderOutput(dataTable, element);\n",
              "          const docLink = document.createElement('div');\n",
              "          docLink.innerHTML = docLinkHtml;\n",
              "          element.appendChild(docLink);\n",
              "        }\n",
              "      </script>\n",
              "    </div>\n",
              "  </div>\n",
              "  "
            ]
          },
          "metadata": {}
        }
      ],
      "source": [
        "import pandas as pd\n",
        "import numpy as np\n",
        "from IPython.display import display, Markdown\n",
        "\n",
        "# Load the Iris dataset from a Google Drive folder \n",
        "path = \"/content/drive/MyDrive/AI ACADEMY/1- Computer Programming with Python/Week 10 -Notebooks/wk10 student/Iris.csv\"\n",
        "iris_df = pd.read_csv(path)\n",
        "\n",
        "# Function to calculate mean, median, and mode using the \n",
        "def calculate_stats(column):\n",
        "    mean = column.mean()\n",
        "    median = column.median()\n",
        "    mode = column.mode().iloc[0]\n",
        "    return mean, median, mode\n",
        "\n",
        "# Functions for standardization and normalization\n",
        "def standardize(column):\n",
        "    return (column - column.mean()) / column.std()\n",
        "\n",
        "def normalize(column):\n",
        "    return (column - column.min()) / (column.max() - column.min())\n",
        "\n",
        "# Iterate through numerical columns, calculate stats, and apply standardization and normalization\n",
        "for col in iris_df.columns[:-1]:\n",
        "    column = iris_df[col]\n",
        "    mean, median, mode = calculate_stats(column)\n",
        "    display(Markdown(f\"**{col}:** Mean={mean:.2f}, Median={median:.2f}, Mode={mode:.2f}\"))\n",
        "    \n",
        "    standardized_column = standardize(column)\n",
        "    normalized_column = normalize(column)\n",
        "\n",
        "    iris_df[f\"{col}_standardized\"] = standardized_column\n",
        "    iris_df[f\"{col}_normalized\"] = normalized_column\n",
        "\n",
        "# Print the updated dataframe\n",
        "display(Markdown(\"### Updated Iris DataFrame with Standardized and Normalized Columns:\"))\n",
        "display(iris_df.head())\n",
        "\n"
      ]
    },
    {
      "cell_type": "code",
      "source": [
        "'''\n",
        "Using a k-means cluster for the Iris.csv dataset.\n",
        "'''\n",
        "\n",
        "\n",
        "import pandas as pd\n",
        "import numpy as np\n",
        "from IPython.display import display, Markdown\n",
        "from sklearn.cluster import KMeans\n",
        "import matplotlib.pyplot as plt\n",
        "\n",
        "# Load the Iris dataset\n",
        "path = \"/content/drive/MyDrive/AI ACADEMY/1- Computer Programming with Python/Week 10 -Notebooks/wk10 student/Iris.csv\"\n",
        "iris_df = pd.read_csv(path)\n",
        "\n",
        "# Function to calculate mean, median, and mode\n",
        "def calculate_stats(column):\n",
        "    mean = column.mean()\n",
        "    median = column.median()\n",
        "    mode = column.mode().iloc[0]\n",
        "    return mean, median, mode\n",
        "\n",
        "# Functions for standardization and normalization\n",
        "def standardize(column):\n",
        "    return (column - column.mean()) / column.std()\n",
        "\n",
        "def normalize(column):\n",
        "    return (column - column.min()) / (column.max() - column.min())\n",
        "\n",
        "# Iterate through numerical columns, calculate stats, and apply standardization and normalization\n",
        "for col in iris_df.columns[:-1]:\n",
        "    column = iris_df[col]\n",
        "    mean, median, mode = calculate_stats(column)\n",
        "    display(Markdown(f\"**{col}:** Mean={mean:.2f}, Median={median:.2f}, Mode={mode:.2f}\"))\n",
        "    \n",
        "    standardized_column = standardize(column)\n",
        "    normalized_column = normalize(column)\n",
        "\n",
        "    iris_df[f\"{col}_standardized\"] = standardized_column\n",
        "    iris_df[f\"{col}_normalized\"] = normalized_column\n",
        "\n",
        "# Perform k-means clustering; taken from https://jakevdp.github.io/PythonDataScienceHandbook/05.11-k-means.html\n",
        "kmeans = KMeans(n_clusters=3, random_state=0)\n",
        "iris_df[\"cluster\"] = kmeans.fit_predict(iris_df[[\"SepalLengthCm_standardized\", \"SepalWidthCm_standardized\", \"PetalLengthCm_standardized\", \"PetalWidthCm_standardized\"]])\n",
        "\n",
        "# Create a scatter plot of the clusters\n",
        "fig = plt.figure(figsize=(5, 5))\n",
        "plt.scatter(iris_df[\"SepalLengthCm_standardized\"], iris_df[\"SepalWidthCm_standardized\"], c=iris_df[\"cluster\"], cmap=\"viridis\")\n",
        "plt.xlabel(\"Standardized Sepal Length\")\n",
        "plt.ylabel(\"Standardized Sepal Width\")\n",
        "plt.title(\"K-means Clustering of Iris Dataset\")\n",
        "plt.show()\n",
        "\n"
      ],
      "metadata": {
        "colab": {
          "base_uri": "https://localhost:8080/",
          "height": 528
        },
        "id": "uAZwRlV5vxPp",
        "outputId": "ddf59c1e-1593-4668-cd1b-9009edec7d5d"
      },
      "execution_count": 18,
      "outputs": [
        {
          "output_type": "display_data",
          "data": {
            "text/plain": [
              "<IPython.core.display.Markdown object>"
            ],
            "text/markdown": "**Id:** Mean=75.50, Median=75.50, Mode=1.00"
          },
          "metadata": {}
        },
        {
          "output_type": "display_data",
          "data": {
            "text/plain": [
              "<IPython.core.display.Markdown object>"
            ],
            "text/markdown": "**SepalLengthCm:** Mean=5.84, Median=5.80, Mode=5.00"
          },
          "metadata": {}
        },
        {
          "output_type": "display_data",
          "data": {
            "text/plain": [
              "<IPython.core.display.Markdown object>"
            ],
            "text/markdown": "**SepalWidthCm:** Mean=3.05, Median=3.00, Mode=3.00"
          },
          "metadata": {}
        },
        {
          "output_type": "display_data",
          "data": {
            "text/plain": [
              "<IPython.core.display.Markdown object>"
            ],
            "text/markdown": "**PetalLengthCm:** Mean=3.76, Median=4.35, Mode=1.50"
          },
          "metadata": {}
        },
        {
          "output_type": "display_data",
          "data": {
            "text/plain": [
              "<IPython.core.display.Markdown object>"
            ],
            "text/markdown": "**PetalWidthCm:** Mean=1.20, Median=1.30, Mode=0.20"
          },
          "metadata": {}
        },
        {
          "output_type": "stream",
          "name": "stderr",
          "text": [
            "/usr/local/lib/python3.9/dist-packages/sklearn/cluster/_kmeans.py:870: FutureWarning: The default value of `n_init` will change from 10 to 'auto' in 1.4. Set the value of `n_init` explicitly to suppress the warning\n",
            "  warnings.warn(\n"
          ]
        },
        {
          "output_type": "display_data",
          "data": {
            "text/plain": [
              "<Figure size 360x360 with 1 Axes>"
            ],
            "image/png": "[encoded data removed]"
          },
          "metadata": {
            "needs_background": "light"
          }
        }
      ]
    },
    {
      "cell_type": "markdown",
      "metadata": {
        "id": "iIFDo7UGBoOm"
      },
      "source": [
        "## 10.2 VISUALIZATION (Follow)\n",
        "\n",
        "**Learning Objectives**\n",
        "1. Understand importance of Visualization\n",
        "2. Learn visualization techniques\n",
        "3. Learn to relate data to visual graphs"
      ]
    },
    {
      "cell_type": "code",
      "execution_count": 9,
      "metadata": {
        "id": "XcfRdueEBoOm"
      },
      "outputs": [],
      "source": [
        "import pandas as pd\n",
        "\n",
        "df = pd.read_csv(\"/content/drive/MyDrive/AI ACADEMY/1- Computer Programming with Python/Week 10 -Notebooks/wk10 student/Iris.csv\")"
      ]
    },
    {
      "cell_type": "markdown",
      "metadata": {
        "id": "DCQRk5LBBoOm"
      },
      "source": [
        "### BOX PLOT"
      ]
    },
    {
      "cell_type": "code",
      "execution_count": 11,
      "metadata": {
        "colab": {
          "base_uri": "https://localhost:8080/",
          "height": 322
        },
        "id": "aFOIb-9GBoOm",
        "outputId": "0ef9c607-6e68-4592-8e16-d67a10b8a916"
      },
      "outputs": [
        {
          "output_type": "display_data",
          "data": {
            "text/plain": [
              "<Figure size 360x360 with 1 Axes>"
            ],
            "image/png": "[encoded data removed]"
          },
          "metadata": {
            "needs_background": "light"
          }
        }
      ],
      "source": [
        "import matplotlib.pyplot as plt\n",
        "\n",
        "#https://www.simplypsychology.org/boxplots.html#:~:text=What%20is%20a%20box%20plot,(or%20percentiles)%20and%20averages.\n",
        "\n",
        "fig = plt.figure(figsize =(5, 5))\n",
        " \n",
        "plt.boxplot(df['SepalWidthCm'])\n",
        "\n",
        "plt.show()"
      ]
    },
    {
      "cell_type": "markdown",
      "metadata": {
        "id": "9IB434f2BoOn"
      },
      "source": [
        "### SCATTER PLOT"
      ]
    },
    {
      "cell_type": "code",
      "execution_count": 10,
      "metadata": {
        "colab": {
          "base_uri": "https://localhost:8080/",
          "height": 322
        },
        "id": "_yJQi3XNBoOo",
        "outputId": "030c471a-f4f7-4c25-f191-8b7cf9dc3a86"
      },
      "outputs": [
        {
          "output_type": "display_data",
          "data": {
            "text/plain": [
              "<Figure size 360x360 with 1 Axes>"
            ],
            "image/png": "[encoded data removed]"
          },
          "metadata": {
            "needs_background": "light"
          }
        }
      ],
      "source": [
        "import matplotlib.pyplot as plt\n",
        "\n",
        "fig = plt.figure(figsize =(5, 5))\n",
        " \n",
        "plt.scatter(df['SepalLengthCm'],df['SepalWidthCm'])\n",
        "\n",
        "plt.show()"
      ]
    },
    {
      "cell_type": "markdown",
      "metadata": {
        "id": "k5YNwlDYBoOo"
      },
      "source": [
        "### HISTOGRAM"
      ]
    },
    {
      "cell_type": "code",
      "execution_count": 12,
      "metadata": {
        "colab": {
          "base_uri": "https://localhost:8080/",
          "height": 320
        },
        "id": "kplpboBbBoOo",
        "outputId": "2bc16e80-d523-4e3c-e745-4ce44ba4e664"
      },
      "outputs": [
        {
          "output_type": "display_data",
          "data": {
            "text/plain": [
              "<Figure size 360x360 with 1 Axes>"
            ],
            "image/png": "[encoded data removed]"
          },
          "metadata": {
            "needs_background": "light"
          }
        }
      ],
      "source": [
        "import matplotlib.pyplot as plt\n",
        "\n",
        "fig = plt.figure(figsize =(5, 5))\n",
        " \n",
        "plt.hist(df['SepalWidthCm'])\n",
        "\n",
        "plt.show()"
      ]
    },
    {
      "cell_type": "markdown",
      "metadata": {
        "id": "88fnvo64BoOo"
      },
      "source": [
        "### BAR PLOT"
      ]
    },
    {
      "cell_type": "code",
      "execution_count": 13,
      "metadata": {
        "colab": {
          "base_uri": "https://localhost:8080/",
          "height": 320
        },
        "id": "bYVf34hzBoOo",
        "outputId": "a87de2ea-6456-4b2a-f7e0-9cb293725fe7"
      },
      "outputs": [
        {
          "output_type": "display_data",
          "data": {
            "text/plain": [
              "<Figure size 1080x360 with 1 Axes>"
            ],
            "image/png": "[encoded data removed]"
          },
          "metadata": {
            "needs_background": "light"
          }
        }
      ],
      "source": [
        "#https://keydifferences.com/difference-between-histogram-and-bar-graph.html#:~:text=Histogram%20refers%20to%20a%20graphical%20representation%3B%20that%20displays%20data%20by,frequency%20distribution%20of%20continuous%20variables.\n",
        "\n",
        "import matplotlib.pyplot as plt\n",
        "\n",
        "fig = plt.figure(figsize =(15, 5))\n",
        " \n",
        "plt.bar(df.columns,list(df.nunique()))\n",
        "\n",
        "plt.show()"
      ]
    },
    {
      "cell_type": "markdown",
      "metadata": {
        "id": "ZD2PVazTBoOp"
      },
      "source": [
        "### PIE CHART"
      ]
    },
    {
      "cell_type": "code",
      "execution_count": 14,
      "metadata": {
        "scrolled": true,
        "colab": {
          "base_uri": "https://localhost:8080/",
          "height": 303
        },
        "id": "OqR5wFu_BoOp",
        "outputId": "dec3232e-e21a-4db4-d267-f59b8eb2fd3a"
      },
      "outputs": [
        {
          "output_type": "display_data",
          "data": {
            "text/plain": [
              "<Figure size 1080x360 with 1 Axes>"
            ],
            "image/png": "[encoded data removed]"
          },
          "metadata": {}
        }
      ],
      "source": [
        "import matplotlib.pyplot as plt\n",
        "\n",
        "fig = plt.figure(figsize =(15, 5))\n",
        " \n",
        "plt.pie(list(df.nunique())[1:],labels = df.columns[1:], autopct = '%.1f%%')\n",
        "\n",
        "plt.show()"
      ]
    },
    {
      "cell_type": "markdown",
      "metadata": {
        "id": "PshpqN-XBoOp"
      },
      "source": [
        "**Evaluation:**\n",
        "\n",
        "After running this program, think about and answer these questions:\n",
        "\n",
        "1. What does each graph represent?\n",
        "2. Try looking up the documentation for each visualization and add more changes to the graphs.\n",
        "3. What can be concluded from each of the representations?"
      ]
    },
    {
      "cell_type": "markdown",
      "metadata": {
        "id": "uT6FZLd2BoOp"
      },
      "source": [
        "## 10.2 VISUALIZATION (Group)\n",
        "\n",
        "Write a program that will do the following:\n",
        "\n",
        "1. Use the heart dataset.\n",
        "2. Generate a:\n",
        "    - Box Plot\n",
        "    - Scatter Plot\n",
        "    - Histogram\n",
        "    - Bar Plot\n",
        "    - Pie Chart\n",
        "3. Use Columns of your liking. (The visualization must give appropriate and useful information)"
      ]
    },
    {
      "cell_type": "code",
      "execution_count": null,
      "metadata": {
        "id": "prsoTXTwBoOp"
      },
      "outputs": [],
      "source": [
        "\n"
      ]
    },
    {
      "cell_type": "markdown",
      "metadata": {
        "id": "sTwRL4O8BoOq"
      },
      "source": [
        "### BOX PLOT"
      ]
    },
    {
      "cell_type": "code",
      "execution_count": null,
      "metadata": {
        "id": "SQkxElLJBoOq"
      },
      "outputs": [],
      "source": [
        "\n"
      ]
    },
    {
      "cell_type": "markdown",
      "metadata": {
        "id": "0N111TB_BoOq"
      },
      "source": [
        "### SCATTER PLOT"
      ]
    },
    {
      "cell_type": "code",
      "execution_count": null,
      "metadata": {
        "id": "amDRDctyBoOq"
      },
      "outputs": [],
      "source": [
        "\n"
      ]
    },
    {
      "cell_type": "markdown",
      "metadata": {
        "id": "_24vakqkBoOq"
      },
      "source": [
        "### HISTOGRAM"
      ]
    },
    {
      "cell_type": "code",
      "execution_count": null,
      "metadata": {
        "id": "kK9FUbXsBoOq"
      },
      "outputs": [],
      "source": [
        "\n"
      ]
    },
    {
      "cell_type": "markdown",
      "metadata": {
        "id": "X2bDrqytBoOq"
      },
      "source": [
        "### BAR PLOT"
      ]
    },
    {
      "cell_type": "code",
      "execution_count": null,
      "metadata": {
        "id": "9e1IAM6pBoOq"
      },
      "outputs": [],
      "source": [
        "\n"
      ]
    },
    {
      "cell_type": "markdown",
      "metadata": {
        "id": "EOZotrHvBoOq"
      },
      "source": [
        "### PIE CHART"
      ]
    },
    {
      "cell_type": "code",
      "execution_count": null,
      "metadata": {
        "scrolled": true,
        "id": "mkUuhiTEBoOq"
      },
      "outputs": [],
      "source": [
        "\n"
      ]
    },
    {
      "cell_type": "markdown",
      "metadata": {
        "id": "JsEV88SJBoOq"
      },
      "source": [
        "# 10.3 PROJECT (Group)\n",
        "\n",
        "**Write a program that will do the following:**\n",
        "1. Read in the following 2 files:  NCEL-Cash5.csv and NCEL-Cash5-Detailed.csv\n",
        "2. Calculate the return on investment (ROI) from playing the same 5 numbers every time the game is offered.\n",
        "3. Calculate the ROI from playing 5 random numbers on each draw.\n",
        "4. For an added challenge, change this calculation to occur starting at an arbitrary start date (rather than the beginning of the data set).\n",
        "5. For an even greater challenge, run multiple trials for the above setup and report the average ROI for all trials.\n",
        "\n",
        "**Notes for calculating winnings:**\n",
        "1. Ball order does not matter.\n",
        "2. Costs \\\\$1 for each draw (ie. \\\\$2 for days that have double play)\n",
        "3. Each draw is five numbers and range from 1 to 43\n",
        "4. May 15, 2014 balls drawn changed from 39 -> 41\n",
        "5. Nov 4, 2018  balls drawn changed from 41 -> 43\n",
        "\n",
        "**Winners are as follows:**\n",
        "1. Match 0 balls = \\$0\n",
        "2. Match 1 ball = \\$0\n",
        "3. Match 2 balls = \\$1\n",
        "4. Match 3 balls = \\$5\n",
        "5. Match 4 balls = use prize_4 or prize_4_double_play from Detailed file\n",
        "6. Match 5 balls = use prize_5 or prize_5_double_play from Detailed file\n",
        "\n",
        "\n",
        "**Output the following:**\n",
        "1. 5 numbers played\n",
        "2. dollars spent playing\n",
        "3. dollars won\n",
        "4. return on investment as a percentage\n",
        "\n",
        "\n",
        "**Just for fun: What happened on July 11, 2007?**\n",
        "&nbsp;\n",
        "\n",
        "\n",
        "<center> <b> NCEL-Cash5.csv format: </b> </center>\n",
        "\n",
        "| Date:  | Ball N:  | DP: 0 - False, 1 - True |\n",
        "|--------|----------|-------------------------|\n",
        "|date of drawing | winning ball numbers  | \"Double Play\" | \n",
        "| (m/d/Y) | in order drawn | , or second play of the day. |\n",
        "|         |           |  First introduced 4/25/2021 |                             \n",
        "\n",
        "&nbsp;  \n",
        "\n",
        "<center> <b> NCEL-Cash5-Detailed.csv format: </b> </center>\n",
        "\n",
        "\n",
        "| Date: | prize_n: | winners_n: | *_double_play_*: |\n",
        "|-------|----------|------------|------------------|\n",
        "| date of drawing | prize amount for matching | winner count for | double play value |\n",
        "| (m/d/Y) | n numbers correctly | matching n numbers. |for that winner amount or prize pool. |\n"
      ]
    },
    {
      "cell_type": "code",
      "execution_count": null,
      "metadata": {
        "id": "UYWRaDVOBoOr"
      },
      "outputs": [],
      "source": [
        "\n"
      ]
    },
    {
      "cell_type": "code",
      "execution_count": null,
      "metadata": {
        "id": "JKtMPuhrBoOr"
      },
      "outputs": [],
      "source": [
        "\n"
      ]
    },
    {
      "cell_type": "code",
      "execution_count": null,
      "metadata": {
        "id": "tpOpOfCBBoOr"
      },
      "outputs": [],
      "source": [
        "\n"
      ]
    }
  ],
  "metadata": {
    "kernelspec": {
      "display_name": "Python 3 (ipykernel)",
      "language": "python",
      "name": "python3"
    },
    "language_info": {
      "codemirror_mode": {
        "name": "ipython",
        "version": 3
      },
      "file_extension": ".py",
      "mimetype": "text/x-python",
      "name": "python",
      "nbconvert_exporter": "python",
      "pygments_lexer": "ipython3",
      "version": "3.9.15"
    },
    "colab": {
      "provenance": [],
      "include_colab_link": true
    }
  },
  "nbformat": 4,
  "nbformat_minor": 0
}