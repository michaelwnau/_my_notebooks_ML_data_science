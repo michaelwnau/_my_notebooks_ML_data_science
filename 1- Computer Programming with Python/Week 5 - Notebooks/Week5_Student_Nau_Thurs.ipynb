{
  "cells": [
    {
      "cell_type": "markdown",
      "id": "9135f7a2",
      "metadata": {
        "id": "9135f7a2"
      },
      "source": [
        "# Workshop 5 [Student]\n",
        "\n",
        "This notebook will cover the following topics:\n",
        "\n",
        "1. Types of inheritance\n",
        "    - Multiple Inheritance\n",
        "    - Multilevel Inheritance\n",
        "    - Method Resolution Order (MRO)\n",
        "4. Polymorphism\n",
        "    - Method Overriding\n",
        "6. Advanced Object Composition\n",
        "7. Queue & Stack"
      ]
    },
    {
      "cell_type": "markdown",
      "id": "c071b82e",
      "metadata": {
        "id": "c071b82e"
      },
      "source": [
        "## 5.1 TYPES OF INHERTANCE (Follow)\n",
        "\n",
        "**Learning Objectives:**\n",
        "\n",
        "1. Understand how a class can have more than one parent\n",
        "2. Learn how to use methods of multiple parent classes\n",
        "3. Learn how to use methods of multilevel parent classes\n",
        "4. Understand inhertance in depth\n",
        "5. Understand Method Resolution Order"
      ]
    },
    {
      "cell_type": "markdown",
      "id": "9bd78d34",
      "metadata": {
        "id": "9bd78d34"
      },
      "source": [
        "### 5.1.1 MULTIPLE INHERITANCE"
      ]
    },
    {
      "cell_type": "code",
      "execution_count": null,
      "id": "be14a36a",
      "metadata": {
        "id": "be14a36a"
      },
      "outputs": [],
      "source": [
        "\"\"\"\n",
        "Add comments for you own reference\n",
        "\"\"\"\n",
        "\n",
        "class Animal():\n",
        "    def __init__(self, AnimalType):\n",
        "        self.type = AnimalType\n",
        "    \n",
        "    def isAnimal(self):\n",
        "        print(self.type, \"is an animal\")\n",
        "\n",
        "class Transport():\n",
        "    def __init__(self, AnimalType):\n",
        "        self.type = AnimalType\n",
        "        \n",
        "    def canTravel(self):\n",
        "        print(self.type, \"can be used for transport\")\n",
        "\n",
        "class Horse(Animal,Transport):\n",
        "    def __init__(self, AnimalType):\n",
        "        #super().__init__(AnimalType)\n",
        "        Animal.__init__(self, AnimalType)\n",
        "        Transport.__init__(self, AnimalType)   \n",
        "        \n",
        "    def describe(self):\n",
        "        print(\"This is a Horse\")"
      ]
    },
    {
      "cell_type": "code",
      "execution_count": null,
      "id": "36bc8cd5",
      "metadata": {
        "id": "36bc8cd5",
        "outputId": "04742f60-2a04-4050-c6f9-a9ff325f5f3f"
      },
      "outputs": [
        {
          "name": "stdout",
          "output_type": "stream",
          "text": [
            "This is a Horse\n",
            "Horse is an animal\n",
            "Horse can be used for transport\n"
          ]
        }
      ],
      "source": [
        "\"\"\"\n",
        "Add comments for you own reference\n",
        "\"\"\"\n",
        "\n",
        "h = Horse('Horse')\n",
        "\n",
        "h.describe()\n",
        "h.isAnimal()\n",
        "h.canTravel()"
      ]
    },
    {
      "cell_type": "markdown",
      "id": "f22fee13",
      "metadata": {
        "id": "f22fee13"
      },
      "source": [
        "**Evaluation:**\n",
        "\n",
        "After running this program, think about and answer these questions:\n",
        "\n",
        "1. What are the parent and child classes?\n",
        "2. What methods are inherited?\n",
        "3. Why is modularisation of this level required?"
      ]
    },
    {
      "cell_type": "markdown",
      "id": "e563ed80",
      "metadata": {
        "id": "e563ed80"
      },
      "source": [
        "### 5.1.2 MULTILEVEL INHERITANCE"
      ]
    },
    {
      "cell_type": "code",
      "execution_count": null,
      "id": "a21553d4",
      "metadata": {
        "id": "a21553d4"
      },
      "outputs": [],
      "source": [
        "\"\"\"\n",
        "Add comments for you own reference\n",
        "\"\"\"\n",
        "\n",
        "class Transport():\n",
        "    def canTravel(self):\n",
        "        print(\"Can be used for transport\")\n",
        "\n",
        "class GroundVehicle(Transport):\n",
        "    def terrain(self):\n",
        "        print(\"Travels on ground\")\n",
        "        \n",
        "class Car(GroundVehicle):\n",
        "    def describe(self):\n",
        "        print(\"This is a Car\")\n"
      ]
    },
    {
      "cell_type": "code",
      "execution_count": null,
      "id": "3a9d6190",
      "metadata": {
        "id": "3a9d6190",
        "outputId": "c473713b-8df3-462e-ee43-c981edabfb49"
      },
      "outputs": [
        {
          "name": "stdout",
          "output_type": "stream",
          "text": [
            "This is a Car\n",
            "Can be used for transport\n",
            "Travels on ground\n"
          ]
        }
      ],
      "source": [
        "\"\"\"\n",
        "Add comments for you own reference\n",
        "\"\"\"\n",
        "\n",
        "c = Car()\n",
        "\n",
        "c.describe()\n",
        "c.canTravel()\n",
        "c.terrain()"
      ]
    },
    {
      "cell_type": "markdown",
      "id": "37af3847",
      "metadata": {
        "id": "37af3847"
      },
      "source": [
        "**Evaluation:**\n",
        "\n",
        "After running this program, think about and answer these questions:\n",
        "\n",
        "1. What are the parent and child classes?\n",
        "2. What methods are inherited?\n",
        "3. Why is modularisation of this level required?"
      ]
    },
    {
      "cell_type": "markdown",
      "id": "70af7180",
      "metadata": {
        "id": "70af7180"
      },
      "source": [
        "## 5.1 TYPES OF INHERTANCE (Group)\n",
        "\n",
        "Write a program that will do the following:\n",
        "\n",
        "1. Create classes for animal kingdom\n",
        " - Mammal\n",
        " - Aquatic\n",
        " - Carnivorous\n",
        "2. Create classes for animals\n",
        " - Cat\n",
        " - Lion\n",
        " - Whale\n",
        " - Shark\n",
        " - Deer\n",
        "3. Use types of inheritance to form a modular structure for animal kingdom.\n"
      ]
    },
    {
      "cell_type": "code",
      "execution_count": null,
      "id": "fb05aede-abc9-4651-a6b6-a9af41020417",
      "metadata": {
        "id": "fb05aede-abc9-4651-a6b6-a9af41020417",
        "outputId": "fda8245e-0c7b-40a3-ffc1-817d5f5a6a3d"
      },
      "outputs": [
        {
          "name": "stdout",
          "output_type": "stream",
          "text": [
            "A Cat is a carnivorous animal.\n",
            "A Cat is a mammal.\n",
            "A Shark is a carnivorous animal.\n",
            "A Shark is an acquatic animal.\n"
          ]
        }
      ],
      "source": [
        "\n",
        "class Mammal():\n",
        "    def __init__(self, AnimalType):\n",
        "        self.__type = AnimalType\n",
        "        \n",
        "    def isMammal(self):\n",
        "        print(f'A {self.__type} is a mammal.')\n",
        "\n",
        "class Aquatic():\n",
        "    def __init__(self, AnimalType):\n",
        "        self.__type = AnimalType\n",
        "\n",
        "    def isAquatic(self):\n",
        "        print(f'A {self.__type} is an acquatic animal.')\n",
        "        \n",
        "class Carnivorous():\n",
        "    def __init__(self, AnimalType):\n",
        "        self.__type = AnimalType\n",
        "        \n",
        "    def isCarnivorous(self):\n",
        "        print(f'A {self.__type} is a carnivorous animal.')\n",
        "\n",
        "class Cat(Carnivorous, Mammal):\n",
        "    def __init__(self, AnimalType):\n",
        "        super().__init__(AnimalType)\n",
        "        Mammal.__init__(self, AnimalType)\n",
        "        \n",
        "class Lion(Cat):\n",
        "    def __init__(self, AnimalType):\n",
        "        super().__init__(AnimalType)\n",
        "\n",
        "class Whale(Aquatic, Carnivorous):\n",
        "    def __init__(self, AnimalType):\n",
        "        super().__init__(AnimalType)\n",
        "        Carnivorous.__init__(self, AnimalType)\n",
        "        \n",
        "class Shark(Whale):\n",
        "    def __init__(self, AnimalType):\n",
        "        super().__init__()\n",
        "class Shark(Whale):\n",
        "    def __init__(self, AnimalType):\n",
        "        super().__init__(AnimalType)\n",
        "\n",
        "class Deer(Mammal): \n",
        "    def __init__(self, AnimalType):\n",
        "        super().__init__(AnimalType)\n",
        "\n",
        "c = Cat('Cat')\n",
        "c.isCarnivorous()\n",
        "c.isMammal()\n",
        "\n",
        "s = Shark('Shark')\n",
        "s.isCarnivorous()\n",
        "s.isAquatic()"
      ]
    },
    {
      "cell_type": "markdown",
      "id": "96cbb3a2",
      "metadata": {
        "id": "96cbb3a2"
      },
      "source": [
        "## 5.2 POLYMORPHISM:  (Follow)  \n",
        "\n",
        "**Learning Objectives:**\n",
        "\n",
        "1. Understand how functions can have the same name but do different things\n",
        "2. Understand how functions are called in inherited classes\n",
        "3. Understand function overloading"
      ]
    },
    {
      "cell_type": "code",
      "execution_count": null,
      "id": "133691b1",
      "metadata": {
        "id": "133691b1",
        "outputId": "733f289f-8d45-4878-cb5f-b34f2d19f7a9"
      },
      "outputs": [
        {
          "name": "stdout",
          "output_type": "stream",
          "text": [
            "Area of a shape is dependant on the shape type\n",
            "2500*pi\n",
            "100\n",
            "(<class '__main__.Circle'>, <class '__main__.shape'>, <class 'object'>)\n"
          ]
        }
      ],
      "source": [
        "\"\"\"\n",
        "Add comments for you own reference\n",
        "\"\"\"\n",
        "class shape():\n",
        "    def area(self):\n",
        "        return \"Area of a shape is dependant on the shape type\"\n",
        "\n",
        "class Rectangle(shape):\n",
        "    def area(self,l,w):\n",
        "        return l*w\n",
        "    \n",
        "class Circle(shape):\n",
        "    def area(self,rad):\n",
        "        return str(rad*rad)+\"*pi\"\n",
        "\n",
        "s = shape()\n",
        "c = Circle()\n",
        "r = Rectangle()\n",
        "print(s.area())\n",
        "print(c.area(50))\n",
        "print(r.area(2,50))\n",
        "\n",
        "#print(Circle.__mro__)"
      ]
    },
    {
      "cell_type": "markdown",
      "id": "1ee02cc9",
      "metadata": {
        "id": "1ee02cc9"
      },
      "source": [
        "**Evaluation:**\n",
        "\n",
        "After running this program, think about and answer these questions:\n",
        "\n",
        "1. How does the code understand the difference between 2 methods?\n",
        "2. Why is polymorphism required?\n",
        "3. What would happen for mupltiple objects?\n",
        "4. how would polymorphism fit with inhertance?"
      ]
    },
    {
      "cell_type": "markdown",
      "id": "3d088cae",
      "metadata": {
        "id": "3d088cae"
      },
      "source": [
        "### 5.2 METHOD OVERRIDING"
      ]
    },
    {
      "cell_type": "code",
      "execution_count": null,
      "id": "888ca2fd",
      "metadata": {
        "id": "888ca2fd"
      },
      "outputs": [],
      "source": [
        "\"\"\"\n",
        "Add comments for you own reference\n",
        "\"\"\"\n",
        "\n",
        "class Mammal:\n",
        "    def __init__(self, species):\n",
        "        self.__species = species\n",
        "    \n",
        "    def show_species(self):\n",
        "        print('I am a', self.__species)\n",
        "    \n",
        "    def make_sound(self):\n",
        "        print('Grrrrr')\n",
        "\n",
        "\n",
        "class Dog(Mammal):\n",
        "    def __init__(self):\n",
        "        #super().__init__('Dog')\n",
        "        Mammal.__init__(self, 'Dog')\n",
        "    \n",
        "    def make_sound(self):\n",
        "        print('Woof! Woof!')\n",
        "        #super().make_sound()\n",
        "\n",
        "class Cat(Mammal):\n",
        "    def __init__(self):\n",
        "        Mammal.__init__(self, 'Cat')\n",
        "        \n",
        "        \n",
        "class Kitten(Cat):\n",
        "    def __init__(self):\n",
        "        Cat.__init__(self)\n",
        "        \n",
        "    def make_sound(self):\n",
        "        print(\"Quiet Meow\")\n",
        "        #self.make_sound()\n",
        "        #super().make_sound()\n",
        "        #Cat.make_sound(self)"
      ]
    },
    {
      "cell_type": "code",
      "execution_count": null,
      "id": "3f00e3e2",
      "metadata": {
        "colab": {
          "base_uri": "https://localhost:8080/"
        },
        "id": "3f00e3e2",
        "outputId": "95a46b74-00cc-4dd8-82da-9c925f16d722"
      },
      "outputs": [
        {
          "name": "stdout",
          "output_type": "stream",
          "text": [
            "Here are some animals and\n",
            "the sounds they make.\n",
            "--------------------------\n",
            "I am a regular animal\n",
            "Grrrrr\n",
            "\n",
            "I am a Dog\n",
            "Woof! Woof!\n",
            "\n",
            "I am a Cat\n",
            "Grrrrr\n",
            "\n",
            "I am a Cat\n",
            "Quiet Meow\n"
          ]
        }
      ],
      "source": [
        "\"\"\"\n",
        "Add comments for you own reference\n",
        "\"\"\"\n",
        "\n",
        "def main():\n",
        "\n",
        "    mammal = Mammal('regular animal')\n",
        "    dog = Dog()\n",
        "    cat = Cat()\n",
        "    kitten = Kitten()\n",
        "\n",
        "    print('Here are some animals and')\n",
        "    print('the sounds they make.')\n",
        "    print('--------------------------')\n",
        "    show_mammal_info(mammal)\n",
        "    print()\n",
        "    show_mammal_info(dog)\n",
        "    print()\n",
        "    show_mammal_info(cat)\n",
        "    print()\n",
        "    show_mammal_info(kitten)\n",
        "\n",
        "    #print(Kitten.__mro__)\n",
        "\n",
        "def show_mammal_info(creature):\n",
        "    creature.show_species()\n",
        "    creature.make_sound()\n",
        "\n",
        "if __name__ == \"__main__\":\n",
        "    main()\n",
        "\n",
        " "
      ]
    },
    {
      "cell_type": "markdown",
      "id": "dadecb1d",
      "metadata": {
        "id": "dadecb1d"
      },
      "source": [
        "**Evaluation:**\n",
        "\n",
        "After running this program, think about and answer these questions:\n",
        "\n",
        "1. Which make sound function gets executed when?\n",
        "2. What does the mammal.__init() function do in the dog and cat class?\n",
        "3. Write a function named show_species in the cat or dog class and have it do something different than the parent function."
      ]
    },
    {
      "cell_type": "markdown",
      "id": "68eb969a",
      "metadata": {
        "id": "68eb969a"
      },
      "source": [
        "## 5.2 POLYMORPHISM:  (Group) \n",
        "\n",
        "**Write a program that will do the following:**\n",
        "\n",
        "1. Create a class person\n",
        "2. Create a class customer\n",
        "3. Person class has attributes name, address, and phone number\n",
        "4. Customer class should have attributes customer number, purchase amount\n",
        "5. All classes should have get and set methods for all attributes.\n",
        "6. Use the super init method inside the customer class\n",
        "7. Create a get info function for both classes that return everything in the object.\n",
        "8. All attributes should be private."
      ]
    },
    {
      "cell_type": "code",
      "execution_count": null,
      "id": "9587a894",
      "metadata": {
        "id": "9587a894",
        "outputId": "b71bcebc-998b-4308-e65d-7d82f0fb6f67"
      },
      "outputs": [
        {
          "name": "stdout",
          "output_type": "stream",
          "text": [
            "Jane Doe\n",
            "Name: Jane Doe\n",
            "Address: 123 Main St\n",
            "Phone Number: 555-555-5555\n",
            "2000\n",
            "Name: John Doe\n",
            "Address: 123 Main St\n",
            "Phone Number: 555-555-5555\n",
            "Customer Number: C12345\n",
            "Purchase Amount: 2000\n"
          ]
        }
      ],
      "source": [
        "# Create the class Person that is the superclass or parent class\n",
        "# It is the attributes/params name, address, and phone_number\n",
        "# Define get and set functions for each attribute\n",
        "class Person():\n",
        "    def __init__(self, name, address, phone_number):\n",
        "        self.__name = name\n",
        "        self.__address = address\n",
        "        self.__phone_number = phone_number\n",
        "        \n",
        "    def get_name(self):\n",
        "        return self.__name\n",
        "    def set_name(self, name):\n",
        "        self.__name = name\n",
        "        \n",
        "    def get_address(self):\n",
        "        return self.__address\n",
        "    def set_address(self, address):\n",
        "        self.__address = address\n",
        "        \n",
        "    def get_phone_number(self):\n",
        "        return self.__phone_number\n",
        "    def set_phone_number(self, phone_number):\n",
        "        self._phone_number = phone_number\n",
        "    \n",
        "    def get_info(self):\n",
        "        return f\"Name: {self.__name}\\nAddress: {self.__address}\\nPhone Number: {self.__phone_number}\"\n",
        "        \n",
        "# Create the subclass of 'Person' called 'Customer'\n",
        "# Customer inherits attr of Person \n",
        "# Customer also has 'customer_id' and 'purchase_amount'\n",
        "class Customer(Person):\n",
        "    def __init__(self, name, address, phone_number, customer_number, purchase_amount):\n",
        "        super().__init__(name, address, phone_number)\n",
        "        self.__customer_number = customer_number\n",
        "        self.__purchase_amount = purchase_amount\n",
        "    \n",
        "    def get_customer_number(self):\n",
        "        return self.__customer_number\n",
        "\n",
        "    def set_customer_number(self, customer_id):\n",
        "        self.__customer_number = customer_id\n",
        "\n",
        "    def get_purchase_amount(self):\n",
        "        return self.__purchase_amount\n",
        "\n",
        "    def set_purchase_amount(self, purchase_amount):\n",
        "        self.__purchase_amount = purchase_amount\n",
        "\n",
        "    def get_info(self):\n",
        "        return f\"{super().get_info()}\\nCustomer Number: {self.__customer_number}\\nPurchase Amount: {self.__purchase_amount}\"\n",
        "    \n",
        "p = Person(\"John Doe\", \"123 Main St\", \"555-555-5555\")\n",
        "p.set_name(\"Jane Doe\")\n",
        "print(p.get_name()) # Output: Jane Doe\n",
        "print(p.get_info())\n",
        "\n",
        "c = Customer(\"John Doe\", \"123 Main St\", \"555-555-5555\", \"C12345\", 1000)\n",
        "c.set_purchase_amount(2000)\n",
        "print(c.get_purchase_amount()) # Output: 2000\n",
        "print(c.get_info())"
      ]
    },
    {
      "cell_type": "code",
      "execution_count": null,
      "id": "4ff2fb6a",
      "metadata": {
        "id": "4ff2fb6a"
      },
      "outputs": [],
      "source": [
        "\n"
      ]
    },
    {
      "cell_type": "markdown",
      "id": "8bc0fbcc",
      "metadata": {
        "id": "8bc0fbcc"
      },
      "source": [
        "## 5.3 ADVANCED OBJECT COMPOSITION  (Follow)\n",
        "\n",
        "**Learning Objectives:**\n",
        "\n",
        "1. Understand how objects can reference other objects\n",
        "2. Understand that objects can call functions inside other objects "
      ]
    },
    {
      "cell_type": "code",
      "execution_count": null,
      "id": "ff0416e1",
      "metadata": {
        "id": "ff0416e1"
      },
      "outputs": [],
      "source": [
        "\"\"\"\n",
        "Add comments for you own reference\n",
        "\"\"\"\n",
        "\n",
        "class Person:\n",
        "    def __init__(self, name, age, weight):\n",
        "        self.__name = name\n",
        "        self.__age = age\n",
        "        self.__weight = weight\n",
        "\n",
        "\n",
        "class F1_Driver:\n",
        "    def __init__(self, name, age, weight, team, wins):\n",
        "        self.__person = Person(name, age, weight)\n",
        "        self.__team = team\n",
        "        self.__wins = wins\n",
        "\n",
        "    def get_team(self):\n",
        "        return self.__team\n",
        "\n",
        "    def get_wins(self):\n",
        "        return self.__wins"
      ]
    },
    {
      "cell_type": "code",
      "execution_count": null,
      "id": "185ee765",
      "metadata": {
        "id": "185ee765"
      },
      "outputs": [],
      "source": [
        "\"\"\"\n",
        "Add comments for you own reference\n",
        "\"\"\"\n",
        "\n",
        "if __name__ == \"__main__\":\n",
        "\n",
        "    name1 = \"Lewis Hamilton\"\n",
        "    name2 = \"Max Verstappen\"\n",
        "\n",
        "    age1 = 37\n",
        "    age2 = 24\n",
        "\n",
        "    weight1 = 146\n",
        "    weight2 = 144\n",
        "\n",
        "    team1 = \"Mercedes\"\n",
        "    team2 = \"Red Bull\"\n",
        "\n",
        "    wins1 = 103\n",
        "    wins2 = 20\n",
        "\n",
        "    GOAT = F1_Driver(name1, age1, weight1, team1, wins1)\n",
        "    Youngster = F1_Driver(name2, age2, weight2, team2, wins2)\n",
        "\n",
        "    print(GOAT.get_team())"
      ]
    },
    {
      "cell_type": "markdown",
      "id": "f0b2bd0b",
      "metadata": {
        "id": "f0b2bd0b"
      },
      "source": [
        "**Evaluation:**\n",
        "\n",
        "After running this program, think about and answer these questions:\n",
        "\n",
        "1. write functions in the appropriate places to return name, age, and weight.  Why did you have to put them there?\n",
        "2. Write a function to increment the number of wins for the driver.\n",
        "3. Write another function to return all known values for one object.  How did you accomplish this?"
      ]
    },
    {
      "cell_type": "markdown",
      "id": "ef45ad7c",
      "metadata": {
        "id": "ef45ad7c"
      },
      "source": [
        "## 5.3 ADVANCED OBJECT COMPOSITION  (Group)\n",
        "\n",
        "**Write a program that will do the following:**\n",
        "\n",
        "1. Create a salary class.\n",
        "2. The salary class should have attributes monthly income and bonus.\n",
        "3. Create an employee class.\n",
        "4. The employee class should have attributes employee ID, Object Salary, and job title\n",
        "5. Create get and set methods for all variables.\n",
        "6. Create a couple of objects and print the contents to the screen.\n",
        "    \n",
        "    "
      ]
    },
    {
      "cell_type": "code",
      "execution_count": 12,
      "id": "cfc30295",
      "metadata": {
        "id": "cfc30295",
        "colab": {
          "base_uri": "https://localhost:8080/"
        },
        "outputId": "3f5ceae7-563e-4877-a2e5-2288caa143b6"
      },
      "outputs": [
        {
          "output_type": "stream",
          "name": "stdout",
          "text": [
            "Employee ID: E001\n",
            "Job Title: Manager\n",
            "Monthly Income: 6000\n",
            "Bonus: 1000\n"
          ]
        }
      ],
      "source": [
        "# A class called 'Salary' that has attrs 'monthly_income' and 'bonus'\n",
        "\n",
        "class Salary:\n",
        "    def __init__(self, monthly_income, bonus):\n",
        "        self.__monthly_income = monthly_income\n",
        "        self.__bonus = bonus\n",
        "\n",
        "    def get_monthly_income(self):\n",
        "        return self.__monthly_income\n",
        "\n",
        "    def set_monthly_income(self, monthly_income):\n",
        "        self.__monthly_income = monthly_income\n",
        "\n",
        "    def get_bonus(self):\n",
        "        return self.__bonus\n",
        "\n",
        "    def set_bonus(self, bonus):\n",
        "        self.__bonus = bonus\n",
        "\n",
        "\n",
        "\n",
        "\n",
        "class Employee:\n",
        "    def __init__(self, employee_id, salary, job_title):\n",
        "        self.__employee_id = employee_id\n",
        "        self.__salary = salary\n",
        "        self.__job_title = job_title\n",
        "\n",
        "    def get_employee_id(self):\n",
        "        return self.__employee_id\n",
        "\n",
        "    def set_employee_id(self, employee_id):\n",
        "        self.__employee_id = employee_id\n",
        "\n",
        "    def get_salary(self):\n",
        "        return self.__salary\n",
        "\n",
        "    def set_salary(self, salary):\n",
        "        self.__salary = salary\n",
        "\n",
        "    def get_job_title(self):\n",
        "        return self.__job_title\n",
        "\n",
        "    def set_job_title(self, job_title):\n",
        "        self.__job_title = job_title\n",
        "\n",
        "s = Salary(6000, 1000)\n",
        "e = Employee(\"E001\", s, \"Manager\")\n",
        "\n",
        "print(\"Employee ID:\", e.get_employee_id())\n",
        "print(\"Job Title:\", e.get_job_title())\n",
        "print(\"Monthly Income:\", e.get_salary().get_monthly_income())\n",
        "print(\"Bonus:\", e.get_salary().get_bonus())\n",
        "\n"
      ]
    },
    {
      "cell_type": "code",
      "execution_count": null,
      "id": "b4eeadbd",
      "metadata": {
        "id": "b4eeadbd"
      },
      "outputs": [],
      "source": [
        "\n"
      ]
    },
    {
      "cell_type": "markdown",
      "id": "db48e3e0",
      "metadata": {
        "id": "db48e3e0"
      },
      "source": [
        "## 5.4 QUEUES AND STACKS:  (Follow)\n",
        "\n",
        "**Learning Objectives:**\n",
        "\n",
        "1. Understand how stacks are implemented.\n",
        "2. Understand how queques are implemented.\n",
        "3. Understand the importance of stacks and queues in programming."
      ]
    },
    {
      "cell_type": "markdown",
      "id": "688ea9d2",
      "metadata": {
        "id": "688ea9d2"
      },
      "source": [
        "### 5.4.1 QUEUES"
      ]
    },
    {
      "cell_type": "code",
      "execution_count": 26,
      "id": "4beade6a",
      "metadata": {
        "id": "4beade6a"
      },
      "outputs": [],
      "source": [
        "\"\"\"\n",
        "Add comments for you own reference\n",
        "\"\"\"\n",
        "\n",
        "class Queue():\n",
        "    def __init__(self,elements):\n",
        "        self.queue = elements\n",
        "\n",
        "    def enqueue(self,element):\n",
        "        self.queue.append(element)\n",
        "\n",
        "    def dequeue(self):\n",
        "        return self.queue.pop(0)\n",
        "        \n",
        "    def size(self):\n",
        "        print(len(self.queue))\n",
        "    \n",
        "    def front(self):\n",
        "        print(self.queue[0])\n",
        "    \n",
        "    def rear(self):\n",
        "        print(self.queue[-1])"
      ]
    },
    {
      "cell_type": "code",
      "execution_count": 27,
      "id": "4789f948",
      "metadata": {
        "colab": {
          "base_uri": "https://localhost:8080/"
        },
        "id": "4789f948",
        "outputId": "4e55840c-af60-4590-b2a3-87dbbb196dc5"
      },
      "outputs": [
        {
          "output_type": "stream",
          "name": "stdout",
          "text": [
            "[5, 1, 2, 3]\n",
            "4\n",
            "5\n",
            "3\n",
            "[1, 2, 3]\n"
          ]
        }
      ],
      "source": [
        "\"\"\"\n",
        "Add comments for you own reference\n",
        "\"\"\"\n",
        "\n",
        "q = Queue([])\n",
        "\n",
        "q.enqueue(5)\n",
        "q.enqueue(1)\n",
        "q.enqueue(2)\n",
        "q.enqueue(3)\n",
        "print(q.queue)\n",
        "\n",
        "q.size()\n",
        "\n",
        "q.front()\n",
        "\n",
        "q.rear()\n",
        "\n",
        "value = q.dequeue()\n",
        "print(q.queue)"
      ]
    },
    {
      "cell_type": "markdown",
      "id": "5bca0b85",
      "metadata": {
        "id": "5bca0b85"
      },
      "source": [
        "### 5.4.2 STACKS"
      ]
    },
    {
      "cell_type": "code",
      "execution_count": 32,
      "id": "9aaa91f2",
      "metadata": {
        "id": "9aaa91f2"
      },
      "outputs": [],
      "source": [
        "\"\"\"\n",
        "Add comments for you own reference\n",
        "\"\"\"\n",
        "\n",
        "class Stack():\n",
        "    def __init__(self,elements):\n",
        "        self.stack = elements\n",
        "\n",
        "    def push(self,element):\n",
        "        self.stack.append(element)\n",
        "\n",
        "    def pop(self):\n",
        "        return self.stack.pop()\n",
        "        \n",
        "    def size(self):\n",
        "        print(len(self.stack))\n",
        "    \n",
        "    def top(self):\n",
        "        print(self.stack[-1])"
      ]
    },
    {
      "cell_type": "code",
      "execution_count": 33,
      "id": "0ae4e089",
      "metadata": {
        "colab": {
          "base_uri": "https://localhost:8080/"
        },
        "id": "0ae4e089",
        "outputId": "7783a15a-592b-453d-873c-aa6d50d364e5"
      },
      "outputs": [
        {
          "output_type": "stream",
          "name": "stdout",
          "text": [
            "[5, 1, 2, 3]\n",
            "4\n",
            "3\n",
            "[5, 1]\n"
          ]
        }
      ],
      "source": [
        "\"\"\"\n",
        "Add comments for you own reference\n",
        "\"\"\"\n",
        "s = Stack([])\n",
        "\n",
        "s.push(5)\n",
        "s.push(1)\n",
        "s.push(2)\n",
        "s.push(3)\n",
        "print(s.stack)\n",
        "\n",
        "s.size()\n",
        "\n",
        "s.top()\n",
        "\n",
        "value = s.pop()\n",
        "value = s.pop()\n",
        "print(s.stack)"
      ]
    },
    {
      "cell_type": "markdown",
      "id": "2e0db181",
      "metadata": {
        "id": "2e0db181"
      },
      "source": [
        "**Evaluation:**\n",
        "\n",
        "After running this program, think about and answer these questions:\n",
        "\n",
        "1. Put print statements between each pop and explain the results.\n",
        "2. Where is an example you have seen a stack or queue used in real-life?\n",
        "3. What is the order that the items are put into the queue/stack and taken out?\n"
      ]
    },
    {
      "cell_type": "markdown",
      "id": "80ce4ca9",
      "metadata": {
        "id": "80ce4ca9"
      },
      "source": [
        "## 5.4 QUEUES AND STACKS:  (Group)\n",
        "\n",
        "**Write a program that will do the following:**\n",
        "\n",
        "1. Create an employee class.\n",
        "2. The employee class should have attributes name and employee ID\n",
        "3. Create at least three employee objects.\n",
        "4. Push the objects into a queue and stack.\n",
        "5. Remove the employees from the stack and queue until both are empty.\n",
        "6. Print the orders of both employee objects. "
      ]
    },
    {
      "cell_type": "code",
      "source": [
        "class Employee():\n",
        "  def __init__(self, name, employee_id, title):\n",
        "    self.__name = name\n",
        "    self.__employee_id = employee_id\n",
        "  \n",
        "  def get_name(self):\n",
        "    return self.__name\n",
        "  def set_name(self, name):\n",
        "    self.__name = name\n",
        "\n",
        "# Create employees\n",
        "e1 = Employee(\"John Doe\", \"E001\", \"Sales manager\")\n",
        "e2 = Employee(\"Jane Doe\", \"E002\", \"HR Specialist\")\n",
        "e3 = Employee(\"Jim Doe\", \"E003\", \"Accountant\")\n",
        "\n",
        "class Queue():\n",
        "    def __init__(self,elements):\n",
        "        self.queue = elements\n",
        "\n",
        "    def enqueue(self,element):\n",
        "        self.queue.append(element)\n",
        "\n",
        "    def dequeue(self):\n",
        "        return self.queue.pop(0)\n",
        "        \n",
        "    def size(self):\n",
        "        print(len(self.queue))\n",
        "    \n",
        "    def front(self):\n",
        "        print(self.queue[0].get_name())\n",
        "    \n",
        "    def rear(self):\n",
        "        print(self.queue[-1].get_name())\n",
        "\n",
        "class Stack():\n",
        "    def __init__(self,elements):\n",
        "        self.stack = elements\n",
        "\n",
        "    def push(self,element):\n",
        "        self.stack.append(element)\n",
        "\n",
        "    def pop(self):\n",
        "        return self.stack.pop()\n",
        "        \n",
        "    def size(self):\n",
        "        print(len(self.stack))\n",
        "    \n",
        "    def top(self):\n",
        "        print(self.stack[-1].get_name())\n",
        "\n",
        "q = Queue([])\n",
        "\n",
        "q.enqueue(e1)\n",
        "q.enqueue(e2)\n",
        "q.enqueue(e3)\n",
        "print(\"Queue:\", [emp.get_name() for emp in q.queue])\n",
        "\n",
        "q.size()\n",
        "\n",
        "q.front()\n",
        "\n",
        "q.rear()\n",
        "\n",
        "value = q.dequeue()\n",
        "print(\"Queue after dequeue:\", [emp.get_name() for emp in q.queue])\n",
        "\n",
        "s = Stack([])\n",
        "\n",
        "s.push(e1)\n",
        "s.push(e2)\n",
        "s.push(e3)\n",
        "print(\"Stack:\", [emp.get_name() for emp in s.stack])\n",
        "\n",
        "s.size()\n",
        "\n",
        "s.top()\n",
        "\n",
        "value = s.pop()\n",
        "value = s.pop()\n",
        "print(\"Stack after pop:\", [emp.get_name() for emp in s.stack])\n"
      ],
      "metadata": {
        "colab": {
          "base_uri": "https://localhost:8080/"
        },
        "id": "FxyOc2Gxw0Hj",
        "outputId": "28440f6a-4392-433a-92de-66e250cb1e48"
      },
      "id": "FxyOc2Gxw0Hj",
      "execution_count": 41,
      "outputs": [
        {
          "output_type": "stream",
          "name": "stdout",
          "text": [
            "Queue: ['John Doe', 'Jane Doe', 'Jim Doe']\n",
            "3\n",
            "John Doe\n",
            "Jim Doe\n",
            "Queue after dequeue: ['Jane Doe', 'Jim Doe']\n",
            "Stack: ['John Doe', 'Jane Doe', 'Jim Doe']\n",
            "3\n",
            "Jim Doe\n",
            "Stack after pop: ['John Doe']\n"
          ]
        }
      ]
    },
    {
      "cell_type": "code",
      "execution_count": 42,
      "id": "d0e5ccdf",
      "metadata": {
        "id": "d0e5ccdf",
        "colab": {
          "base_uri": "https://localhost:8080/"
        },
        "outputId": "e155b7ad-3206-4eb2-d3ee-542c11390c17"
      },
      "outputs": [
        {
          "output_type": "stream",
          "name": "stdout",
          "text": [
            "Queue:\n",
            "Name: Nola Carveth, Employee ID: E001\n",
            "Name: Max Renn, Employee ID: E002\n",
            "Name: Beverly Mantle, Employee ID: E003\n",
            "Stack:\n",
            "Name: Beverly Mantle, Employee ID: E003\n",
            "Name: Max Renn, Employee ID: E002\n",
            "Name: Nola Carveth, Employee ID: E001\n"
          ]
        }
      ],
      "source": [
        "from collections import deque\n",
        "\n",
        "class Employee:   # rename employee class to deconflict from cell above\n",
        "    def __init__(self, name, employee_id, title):\n",
        "        self.__name = name\n",
        "        self.__employee_id = employee_id\n",
        "        self.__title = title\n",
        "\n",
        "    def get_name(self):\n",
        "        return self.__name\n",
        "    def set_name(self, name):\n",
        "        self.__name = name\n",
        "    def get_employee_id(self):\n",
        "        return self.__employee_id\n",
        "    def set_employee_id(self):\n",
        "        self.__employee_id = employee_id\n",
        "    def get_title(self):\n",
        "      return self.__title\n",
        "\n",
        "# Create employees\n",
        "e1 = Employee(\"Nola Carveth\", \"E001\", \"Chemist\")\n",
        "e2 = Employee(\"Max Renn\", \"E002\", \"Surgeon\")\n",
        "e3 = Employee(\"Beverly Mantle\", \"E003\", \"Fundraiser\")\n",
        "\n",
        "# Create queue and stack\n",
        "queue = deque()\n",
        "stack = []\n",
        "\n",
        "# Add employees to queue and stack\n",
        "queue.append(e1)\n",
        "queue.append(e2)\n",
        "queue.append(e3)\n",
        "\n",
        "stack.append(e1)\n",
        "stack.append(e2)\n",
        "stack.append(e3)\n",
        "\n",
        "# Remove employees from queue and stack\n",
        "print(\"Queue:\")\n",
        "while queue:\n",
        "    e = queue.popleft()\n",
        "    print(f\"Name: {e.get_name()}, Employee ID: {e.get_employee_id()}\")\n",
        "\n",
        "print(\"Stack:\")\n",
        "while stack:\n",
        "    e = stack.pop()\n",
        "    print(f\"Name: {e.get_name()}, Employee ID: {e.get_employee_id()}\")\n"
      ]
    },
    {
      "cell_type": "code",
      "execution_count": null,
      "id": "02865cc6",
      "metadata": {
        "id": "02865cc6"
      },
      "outputs": [],
      "source": [
        "\n"
      ]
    },
    {
      "cell_type": "markdown",
      "id": "838cb3d1",
      "metadata": {
        "id": "838cb3d1"
      },
      "source": [
        "## 5.5 Mini Project (Group):  \n",
        "\n",
        "**Write a program that will do the following:**\n",
        "\n",
        "    1. Try to use the material you have been learning to create a program that will be usefule to your life/work.\n",
        "    2. Try to use classes and objects.\n",
        "    3. Try to use these objects to store and process information."
      ]
    },
    {
      "cell_type": "code",
      "execution_count": 47,
      "id": "9e97845c",
      "metadata": {
        "colab": {
          "base_uri": "https://localhost:8080/"
        },
        "id": "9e97845c",
        "outputId": "2dc24e18-d5e1-448d-d3a3-6e295227bc57"
      },
      "outputs": [
        {
          "output_type": "stream",
          "name": "stdout",
          "text": [
            "To Do:\n",
            "- Buy Groceries\n",
            "- Do Laundry\n",
            "- Clean House\n",
            "\n",
            "Doing:\n",
            "\n",
            "Done:\n",
            "Started task Buy Groceries\n",
            "To Do:\n",
            "- Do Laundry\n",
            "- Clean House\n",
            "\n",
            "Doing:\n",
            "- Buy Groceries\n",
            "\n",
            "Done:\n",
            "Task Buy Groceries has been completed\n",
            "Completed task Buy Groceries\n",
            "To Do:\n",
            "- Do Laundry\n",
            "- Clean House\n",
            "\n",
            "Doing:\n",
            "\n",
            "Done:\n",
            "- Buy Groceries\n"
          ]
        }
      ],
      "source": [
        "\n",
        "\n",
        "\n",
        "class Task:\n",
        "    def __init__(self, name, description):\n",
        "        self.name = name\n",
        "        self.description = description\n",
        "        self.completed = False\n",
        "        \n",
        "    def complete_task(self):\n",
        "        self.completed = True\n",
        "        print(f\"Task {self.name} has been completed\")\n",
        "        \n",
        "class KanbanBoard:\n",
        "    def __init__(self):\n",
        "        self.to_do = []\n",
        "        self.doing = []\n",
        "        self.done = []\n",
        "        \n",
        "    def add_task(self, task):\n",
        "        self.to_do.append(task)\n",
        "        \n",
        "    def start_task(self):\n",
        "        if self.to_do:\n",
        "            task = self.to_do.pop(0)\n",
        "            self.doing.append(task)\n",
        "            print(f\"Started task {task.name}\")\n",
        "        else:\n",
        "            print(\"No tasks to start\")\n",
        "            \n",
        "    def complete_task(self):\n",
        "        if self.doing:\n",
        "            task = self.doing.pop(0)\n",
        "            task.complete_task()\n",
        "            self.done.append(task)\n",
        "            print(f\"Completed task {task.name}\")\n",
        "        else:\n",
        "            print(\"No tasks to complete\")\n",
        "            \n",
        "    def show_tasks(self):\n",
        "        print(\"To Do:\")\n",
        "        for task in self.to_do:\n",
        "            print(f\"- {task.name}\")\n",
        "        print(\"\\nDoing:\")\n",
        "        for task in self.doing:\n",
        "            print(f\"- {task.name}\")\n",
        "        print(\"\\nDone:\")\n",
        "        for task in self.done:\n",
        "            print(f\"- {task.name}\")\n",
        "\n",
        "board = KanbanBoard()\n",
        "\n",
        "task1 = Task(\"Buy Groceries\", \"Buy eggs, bread, milk, and cheese\")\n",
        "task2 = Task(\"Do Laundry\", \"Wash and fold clothes\")\n",
        "task3 = Task(\"Clean House\", \"Vacuum, dust, and mop the floors\")\n",
        "\n",
        "board.add_task(task1)\n",
        "board.add_task(task2)\n",
        "board.add_task(task3)\n",
        "\n",
        "board.show_tasks()\n",
        "\n",
        "board.start_task()\n",
        "board.show_tasks()\n",
        "\n",
        "board.complete_task()\n",
        "board.show_tasks()\n"
      ]
    },
    {
      "cell_type": "code",
      "execution_count": 46,
      "id": "0494d79d",
      "metadata": {
        "colab": {
          "base_uri": "https://localhost:8080/"
        },
        "id": "0494d79d",
        "outputId": "bc4cddd6-4ac0-4006-8881-fa60ab88b1cf"
      },
      "outputs": [
        {
          "output_type": "stream",
          "name": "stdout",
          "text": [
            "To Do:\n",
            "- Buy Groceries\n",
            "- Do Laundry\n",
            "- Clean House\n",
            "\n",
            "Doing:\n",
            "\n",
            "Done:\n",
            "Started task Buy Groceries\n",
            "To Do:\n",
            "- Do Laundry\n",
            "- Clean House\n",
            "\n",
            "Doing:\n",
            "- Buy Groceries\n",
            "\n",
            "Done:\n"
          ]
        }
      ],
      "source": [
        "class Task:\n",
        "    def __init__(self, name, description):\n",
        "        self.name = name\n",
        "        self.description = description\n",
        "        self.completed = False\n",
        "        \n",
        "    def complete_task(self):\n",
        "        self.completed = True\n",
        "        print(f\"Task {self.name} has been completed\")\n",
        "        \n",
        "class Stack:\n",
        "    def __init__(self):\n",
        "        self.items = []\n",
        "        \n",
        "    def push(self, item):\n",
        "        self.items.append(item)\n",
        "        \n",
        "    def pop(self):\n",
        "        if self.items:\n",
        "            item = self.items.pop()\n",
        "            return item\n",
        "        else:\n",
        "            print(\"Stack is empty\")\n",
        "            \n",
        "    def is_empty(self):\n",
        "        return not self.items\n",
        "    \n",
        "class Queue:\n",
        "    def __init__(self):\n",
        "        self.items = []\n",
        "        \n",
        "    def enqueue(self, item):\n",
        "        self.items.append(item)\n",
        "        \n",
        "    def dequeue(self):\n",
        "        if self.items:\n",
        "            item = self.items.pop(0)\n",
        "            return item\n",
        "        else:\n",
        "            print(\"Queue is empty\")\n",
        "            \n",
        "    def is_empty(self):\n",
        "        return not self.items\n",
        "\n",
        "class KanbanBoard:\n",
        "    def __init__(self):\n",
        "        self.to_do = Queue()\n",
        "        self.doing = Stack()\n",
        "        self.done = Stack()\n",
        "        \n",
        "    def add_task(self, task):\n",
        "        self.to_do.enqueue(task)\n",
        "        \n",
        "    def start_task(self):\n",
        "        if not self.to_do.is_empty():\n",
        "            task = self.to_do.dequeue()\n",
        "            self.doing.push(task)\n",
        "            print(f\"Started task {task.name}\")\n",
        "        else:\n",
        "            print(\"No tasks to start\")\n",
        "            \n",
        "    def complete_task(self):\n",
        "        if not self.doing.is_empty():\n",
        "            task = self.doing.pop()\n",
        "            task.complete_task()\n",
        "            self.done.push(task)\n",
        "            print(f\"Completed task {task.name}\")\n",
        "        else:\n",
        "            print(\"No tasks to complete\")\n",
        "            \n",
        "    def show_tasks(self):\n",
        "        print(\"To Do:\")\n",
        "        for task in self.to_do.items:\n",
        "            print(f\"- {task.name}\")\n",
        "        print(\"\\nDoing:\")\n",
        "        for task in self.doing.items:\n",
        "            print(f\"- {task.name}\")\n",
        "        print(\"\\nDone:\")\n",
        "        for task in self.done.items:\n",
        "            print(f\"- {task.name}\")\n",
        "\n",
        "board = KanbanBoard()\n",
        "\n",
        "task1 = Task(\"Buy Groceries\", \"Buy eggs, bread, milk, and cheese\")\n",
        "task2 = Task(\"Do Laundry\", \"Wash and fold clothes\")\n",
        "task3 = Task(\"Clean House\", \"Vacuum, dust, and mop the floors\")\n",
        "\n",
        "board.add_task(task1)\n",
        "board.add_task(task2)\n",
        "board.add_task(task3)\n",
        "\n",
        "board.show_tasks()\n",
        "\n",
        "board.start_task()\n",
        "board.show_tasks()\n"
      ]
    }
  ],
  "metadata": {
    "colab": {
      "provenance": []
    },
    "kernelspec": {
      "display_name": "Python 3 (ipykernel)",
      "language": "python",
      "name": "python3"
    },
    "language_info": {
      "codemirror_mode": {
        "name": "ipython",
        "version": 3
      },
      "file_extension": ".py",
      "mimetype": "text/x-python",
      "name": "python",
      "nbconvert_exporter": "python",
      "pygments_lexer": "ipython3",
      "version": "3.11.0"
    }
  },
  "nbformat": 4,
  "nbformat_minor": 5
}